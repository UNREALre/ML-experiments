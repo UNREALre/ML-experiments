{
 "cells": [
  {
   "metadata": {},
   "cell_type": "markdown",
   "source": [
    "## Чистая версия DNN\n",
    "\n",
    "На прошлой итерации очень хорошие результаты с DNN:\n",
    "- val acc: 0.8161\n",
    "- test acc: 0.8276\n",
    "\n",
    "Kaggle LB: 0.80967\n",
    "\n",
    "Optuna оптимизация толком не дала ничего, видимо, из-за переобучения под валидационный набор. Тут попробуем написать чистый код для формирования DNN и улучшить показатели вручную."
   ],
   "id": "dc60148da636a81"
  },
  {
   "metadata": {
    "ExecuteTime": {
     "end_time": "2025-05-13T09:01:04.877176Z",
     "start_time": "2025-05-13T09:01:00.712189Z"
    }
   },
   "cell_type": "code",
   "source": [
    "from IPython.lib.deepreload import reload\n",
    "from keras.src.layers import BatchNormalization\n",
    "from sklearn.linear_model import LogisticRegression\n",
    "from torch.ao.nn.quantized import Dropout\n",
    "%load_ext autoreload\n",
    "%autoreload 2\n",
    "\n",
    "import json\n",
    "import numpy as np\n",
    "import matplotlib.pyplot as plt\n",
    "import mlflow\n",
    "import mlflow.sklearn\n",
    "import optuna\n",
    "import os\n",
    "import gc\n",
    "import pandas as pd\n",
    "import random\n",
    "import tensorflow as tf\n",
    "import warnings\n",
    "\n",
    "from optuna.integration import TFKerasPruningCallback\n",
    "from optuna.samplers import TPESampler\n",
    "from sklearn import set_config\n",
    "from sklearn.compose import ColumnTransformer\n",
    "from sklearn.impute import SimpleImputer\n",
    "from sklearn.pipeline import Pipeline\n",
    "from sklearn.preprocessing import OneHotEncoder, StandardScaler, RobustScaler\n",
    "from tensorflow.keras.initializers import GlorotUniform, RandomNormal\n",
    "from tensorflow.keras.layers import Dense, BatchNormalization, Activation, Dropout\n",
    "from tensorflow.keras.regularizers import l1, l2, l1_l2\n",
    "\n",
    "\n",
    "\n",
    "from sklearn.model_selection import KFold, RepeatedKFold, cross_val_score, train_test_split, StratifiedKFold\n",
    "\n",
    "from utils.data_manager import DataManager\n",
    "from utils.helpers import save_features, save_data\n",
    "from utils.model_manager import ModelManager\n",
    "\n",
    "# Подавляем информационные логи TensorFlow\n",
    "os.environ['TF_CPP_MIN_LOG_LEVEL'] = '2'\n",
    "tf.get_logger().setLevel('ERROR')"
   ],
   "id": "eed7f67dafd259a6",
   "outputs": [],
   "execution_count": 1
  },
  {
   "metadata": {
    "ExecuteTime": {
     "end_time": "2025-05-13T09:01:04.910414Z",
     "start_time": "2025-05-13T09:01:04.879880Z"
    }
   },
   "cell_type": "code",
   "source": [
    "# --- Глобально включаем вывод Pandas для всех трансформеров ---\n",
    "# (Можно применять и к отдельным трансформерам/пайплайнам .set_output(transform=\"pandas\"))\n",
    "set_config(transform_output = \"pandas\")"
   ],
   "id": "d73a68872d606b9b",
   "outputs": [],
   "execution_count": 2
  },
  {
   "metadata": {
    "ExecuteTime": {
     "end_time": "2025-05-13T09:01:05.043065Z",
     "start_time": "2025-05-13T09:01:05.009631Z"
    }
   },
   "cell_type": "code",
   "source": [
    "dm = DataManager()\n",
    "mm = ModelManager()\n",
    "\n",
    "# Включаем автологгирование\n",
    "mlflow.keras.autolog()\n",
    "warnings.filterwarnings(\"ignore\", module=\"mlflow\")  # Игнорируем предупреждения MLflow\n"
   ],
   "id": "6d9ddd823af02124",
   "outputs": [
    {
     "name": "stderr",
     "output_type": "stream",
     "text": [
      "2025/05/13 13:01:05 WARNING mlflow.utils.autologging_utils: MLflow keras autologging is known to be compatible with 3.0.2 <= keras <= 3.8.0, but the installed version is 3.9.2. If you encounter errors during autologging, try upgrading / downgrading keras to a compatible version, or try upgrading MLflow.\n"
     ]
    }
   ],
   "execution_count": 3
  },
  {
   "metadata": {
    "ExecuteTime": {
     "end_time": "2025-05-13T09:01:05.076896Z",
     "start_time": "2025-05-13T09:01:05.050343Z"
    }
   },
   "cell_type": "code",
   "source": [
    "RANDOM_STATE = 42\n",
    "BATCH_SIZE = 64\n",
    "LEARNING_RATE = 1e-3\n",
    "\n",
    "# Фиксируем все источники случайности\n",
    "random.seed(RANDOM_STATE)\n",
    "np.random.seed(RANDOM_STATE)\n",
    "tf.random.set_seed(RANDOM_STATE)\n",
    "\n",
    "# Для полной детерминированности (может замедлить GPU)\n",
    "os.environ['TF_DETERMINISTIC_OPS'] = '1'\n",
    "os.environ['TF_CUDNN_DETERMINISTIC'] = '1'\n",
    "tf.config.experimental.enable_op_determinism()"
   ],
   "id": "78a5f8e4d9add6b5",
   "outputs": [],
   "execution_count": 4
  },
  {
   "metadata": {},
   "cell_type": "markdown",
   "source": "## 1. Загрузка данных",
   "id": "aa42da6275f7cbbb"
  },
  {
   "metadata": {
    "ExecuteTime": {
     "end_time": "2025-05-13T09:01:05.125749Z",
     "start_time": "2025-05-13T09:01:05.083074Z"
    }
   },
   "cell_type": "code",
   "source": [
    "data_path = 'data'\n",
    "train_data = pd.read_csv(data_path + '/train.csv')\n",
    "test_data = pd.read_csv(data_path + '/test.csv')\n",
    "train_data.shape"
   ],
   "id": "1c331517a9028729",
   "outputs": [
    {
     "data": {
      "text/plain": [
       "(8693, 14)"
      ]
     },
     "execution_count": 5,
     "metadata": {},
     "output_type": "execute_result"
    }
   ],
   "execution_count": 5
  },
  {
   "metadata": {
    "ExecuteTime": {
     "end_time": "2025-05-13T09:01:05.170198Z",
     "start_time": "2025-05-13T09:01:05.138506Z"
    }
   },
   "cell_type": "code",
   "source": "train_data.head()",
   "id": "b2b471bf00fb0c00",
   "outputs": [
    {
     "data": {
      "text/plain": [
       "  PassengerId HomePlanet CryoSleep  Cabin  Destination   Age    VIP  \\\n",
       "0     0001_01     Europa     False  B/0/P  TRAPPIST-1e  39.0  False   \n",
       "1     0002_01      Earth     False  F/0/S  TRAPPIST-1e  24.0  False   \n",
       "2     0003_01     Europa     False  A/0/S  TRAPPIST-1e  58.0   True   \n",
       "3     0003_02     Europa     False  A/0/S  TRAPPIST-1e  33.0  False   \n",
       "4     0004_01      Earth     False  F/1/S  TRAPPIST-1e  16.0  False   \n",
       "\n",
       "   RoomService  FoodCourt  ShoppingMall     Spa  VRDeck               Name  \\\n",
       "0          0.0        0.0           0.0     0.0     0.0    Maham Ofracculy   \n",
       "1        109.0        9.0          25.0   549.0    44.0       Juanna Vines   \n",
       "2         43.0     3576.0           0.0  6715.0    49.0      Altark Susent   \n",
       "3          0.0     1283.0         371.0  3329.0   193.0       Solam Susent   \n",
       "4        303.0       70.0         151.0   565.0     2.0  Willy Santantines   \n",
       "\n",
       "   Transported  \n",
       "0        False  \n",
       "1         True  \n",
       "2        False  \n",
       "3        False  \n",
       "4         True  "
      ],
      "text/html": [
       "<div>\n",
       "<style scoped>\n",
       "    .dataframe tbody tr th:only-of-type {\n",
       "        vertical-align: middle;\n",
       "    }\n",
       "\n",
       "    .dataframe tbody tr th {\n",
       "        vertical-align: top;\n",
       "    }\n",
       "\n",
       "    .dataframe thead th {\n",
       "        text-align: right;\n",
       "    }\n",
       "</style>\n",
       "<table border=\"1\" class=\"dataframe\">\n",
       "  <thead>\n",
       "    <tr style=\"text-align: right;\">\n",
       "      <th></th>\n",
       "      <th>PassengerId</th>\n",
       "      <th>HomePlanet</th>\n",
       "      <th>CryoSleep</th>\n",
       "      <th>Cabin</th>\n",
       "      <th>Destination</th>\n",
       "      <th>Age</th>\n",
       "      <th>VIP</th>\n",
       "      <th>RoomService</th>\n",
       "      <th>FoodCourt</th>\n",
       "      <th>ShoppingMall</th>\n",
       "      <th>Spa</th>\n",
       "      <th>VRDeck</th>\n",
       "      <th>Name</th>\n",
       "      <th>Transported</th>\n",
       "    </tr>\n",
       "  </thead>\n",
       "  <tbody>\n",
       "    <tr>\n",
       "      <th>0</th>\n",
       "      <td>0001_01</td>\n",
       "      <td>Europa</td>\n",
       "      <td>False</td>\n",
       "      <td>B/0/P</td>\n",
       "      <td>TRAPPIST-1e</td>\n",
       "      <td>39.0</td>\n",
       "      <td>False</td>\n",
       "      <td>0.0</td>\n",
       "      <td>0.0</td>\n",
       "      <td>0.0</td>\n",
       "      <td>0.0</td>\n",
       "      <td>0.0</td>\n",
       "      <td>Maham Ofracculy</td>\n",
       "      <td>False</td>\n",
       "    </tr>\n",
       "    <tr>\n",
       "      <th>1</th>\n",
       "      <td>0002_01</td>\n",
       "      <td>Earth</td>\n",
       "      <td>False</td>\n",
       "      <td>F/0/S</td>\n",
       "      <td>TRAPPIST-1e</td>\n",
       "      <td>24.0</td>\n",
       "      <td>False</td>\n",
       "      <td>109.0</td>\n",
       "      <td>9.0</td>\n",
       "      <td>25.0</td>\n",
       "      <td>549.0</td>\n",
       "      <td>44.0</td>\n",
       "      <td>Juanna Vines</td>\n",
       "      <td>True</td>\n",
       "    </tr>\n",
       "    <tr>\n",
       "      <th>2</th>\n",
       "      <td>0003_01</td>\n",
       "      <td>Europa</td>\n",
       "      <td>False</td>\n",
       "      <td>A/0/S</td>\n",
       "      <td>TRAPPIST-1e</td>\n",
       "      <td>58.0</td>\n",
       "      <td>True</td>\n",
       "      <td>43.0</td>\n",
       "      <td>3576.0</td>\n",
       "      <td>0.0</td>\n",
       "      <td>6715.0</td>\n",
       "      <td>49.0</td>\n",
       "      <td>Altark Susent</td>\n",
       "      <td>False</td>\n",
       "    </tr>\n",
       "    <tr>\n",
       "      <th>3</th>\n",
       "      <td>0003_02</td>\n",
       "      <td>Europa</td>\n",
       "      <td>False</td>\n",
       "      <td>A/0/S</td>\n",
       "      <td>TRAPPIST-1e</td>\n",
       "      <td>33.0</td>\n",
       "      <td>False</td>\n",
       "      <td>0.0</td>\n",
       "      <td>1283.0</td>\n",
       "      <td>371.0</td>\n",
       "      <td>3329.0</td>\n",
       "      <td>193.0</td>\n",
       "      <td>Solam Susent</td>\n",
       "      <td>False</td>\n",
       "    </tr>\n",
       "    <tr>\n",
       "      <th>4</th>\n",
       "      <td>0004_01</td>\n",
       "      <td>Earth</td>\n",
       "      <td>False</td>\n",
       "      <td>F/1/S</td>\n",
       "      <td>TRAPPIST-1e</td>\n",
       "      <td>16.0</td>\n",
       "      <td>False</td>\n",
       "      <td>303.0</td>\n",
       "      <td>70.0</td>\n",
       "      <td>151.0</td>\n",
       "      <td>565.0</td>\n",
       "      <td>2.0</td>\n",
       "      <td>Willy Santantines</td>\n",
       "      <td>True</td>\n",
       "    </tr>\n",
       "  </tbody>\n",
       "</table>\n",
       "</div>"
      ]
     },
     "execution_count": 6,
     "metadata": {},
     "output_type": "execute_result"
    }
   ],
   "execution_count": 6
  },
  {
   "metadata": {},
   "cell_type": "markdown",
   "source": "## 2. Предобработка данных ",
   "id": "d24f72b6d88ecd6c"
  },
  {
   "metadata": {
    "ExecuteTime": {
     "end_time": "2025-05-13T09:01:05.233460Z",
     "start_time": "2025-05-13T09:01:05.203664Z"
    }
   },
   "cell_type": "code",
   "source": [
    "# bad_columns = ['PassengerId', 'Name', ]\n",
    "bad_columns = ['Name', ]"
   ],
   "id": "b1249028f0b0915",
   "outputs": [],
   "execution_count": 7
  },
  {
   "metadata": {
    "ExecuteTime": {
     "end_time": "2025-05-13T09:01:05.306021Z",
     "start_time": "2025-05-13T09:01:05.273361Z"
    }
   },
   "cell_type": "code",
   "source": [
    "# Разделение на X / y\n",
    "X, y = dm.split_data_set_to_x_y(train_data, 'Transported')\n",
    "print(X.shape, y.shape)\n",
    "X_submission = test_data.copy()\n",
    "print(X_submission.shape)"
   ],
   "id": "7cb9c4a84dea722",
   "outputs": [
    {
     "name": "stdout",
     "output_type": "stream",
     "text": [
      "(8693, 13) (8693,)\n",
      "(4277, 13)\n"
     ]
    }
   ],
   "execution_count": 8
  },
  {
   "metadata": {
    "ExecuteTime": {
     "end_time": "2025-05-13T09:01:05.373607Z",
     "start_time": "2025-05-13T09:01:05.341335Z"
    }
   },
   "cell_type": "code",
   "source": [
    "X.drop(columns=bad_columns, inplace=True)\n",
    "X_submission.drop(columns=bad_columns, inplace=True)\n",
    "print(X.shape, X_submission.shape)"
   ],
   "id": "f80ad3e5e0747593",
   "outputs": [
    {
     "name": "stdout",
     "output_type": "stream",
     "text": [
      "(8693, 12) (4277, 12)\n"
     ]
    }
   ],
   "execution_count": 9
  },
  {
   "metadata": {
    "ExecuteTime": {
     "end_time": "2025-05-13T09:01:05.421921Z",
     "start_time": "2025-05-13T09:01:05.390328Z"
    }
   },
   "cell_type": "code",
   "source": [
    "def make_feature_eng_great_again(train_X_in, test_X_in):\n",
    "    \"\"\"Хелпер, который создает фичи, логарифмирует и выравнивает колонки.\"\"\"\n",
    "    # Работаем с копиями, чтобы не изменять оригинальные X, X_test вне функции\n",
    "    train_X = train_X_in.copy()\n",
    "    test_X = test_X_in.copy()\n",
    "\n",
    "    def create_features(df):\n",
    "        # Колонка: Cabin\n",
    "        # Уникальные значения: ['B/0/P' 'F/0/S' 'A/0/S' ... 'G/1499/S' 'G/1500/S' 'E/608/S']\n",
    "        # Cabin - The cabin number where the passenger is staying. Takes the form deck/num/side,\n",
    "        # where side can be either P for Port or S for Starboard.\n",
    "        # Разделим признак на 3: Deck, Num, Side\n",
    "        df['Deck'] = df['Cabin'].str.split('/').str[0]\n",
    "        df['Num'] = df['Cabin'].str.split('/').str[1].astype(float)\n",
    "        df['Side'] = df['Cabin'].str.split('/').str[2]\n",
    "        df.drop(columns=['Cabin'], inplace=True)\n",
    "        \n",
    "        # PassengerId - A unique Id for each passenger. Each Id takes the form gggg_pp where gggg indicates a group the passenger is \n",
    "        # travelling with and pp is their number within the group. People in a group are often family members, but not always.\n",
    "        df['Group'] = df['PassengerId'].str.split('_').str[0].astype(int)\n",
    "        # df[\"GroupSize\"] = df.groupby(\"Group\")[\"Group\"].transform(\"count\")\n",
    "        df.drop(columns=['PassengerId'], inplace=True)\n",
    "        \n",
    "        # # Indicates whether the passenger was traveling alone or not\n",
    "        # df[\"Alone\"] = df[\"GroupSize\"] == 1\n",
    "        \n",
    "        #\n",
    "        # # RoomService, FoodCourt, ShoppingMall, Spa, VRDeck - Amount the passenger has billed\n",
    "        # # at each of the Spaceship Titanic's many luxury amenities.\n",
    "        # # Преобразуем в 1 колонку - TotalAmount\n",
    "        df['TotalAmount'] = df[['RoomService', 'FoodCourt', 'ShoppingMall', 'Spa', 'VRDeck']].sum(axis=1)\n",
    "            \n",
    "        return df\n",
    "\n",
    "    # Создаем фичи\n",
    "    train_X = create_features(train_X)\n",
    "    test_X = create_features(test_X)\n",
    "    print(\"Features created.\")\n",
    "\n",
    "    # Согласуем и сортируем колонки ПОСЛЕ всех манипуляций\n",
    "    final_feature_cols = sorted(train_X.columns.tolist()) # Сортируем для стабильности\n",
    "    train_X = train_X[final_feature_cols]\n",
    "    test_X = test_X.reindex(columns=final_feature_cols, fill_value=0)\n",
    "    print(\"Columns aligned and sorted.\")\n",
    "\n",
    "    return train_X, test_X"
   ],
   "id": "850bddb6bb13ebe0",
   "outputs": [],
   "execution_count": 10
  },
  {
   "metadata": {
    "ExecuteTime": {
     "end_time": "2025-05-13T09:01:05.490670Z",
     "start_time": "2025-05-13T09:01:05.436850Z"
    }
   },
   "cell_type": "code",
   "source": [
    "# Вызываем функцию с правильными данными (X, X_test)\n",
    "X, X_submission = make_feature_eng_great_again(X, X_submission)\n",
    "\n",
    "print(\"\\nProcessing complete. Final shapes:\")\n",
    "print(f\"X_processed: {X.shape}\")\n",
    "print(f\"X_test_processed: {X_submission.shape}\")"
   ],
   "id": "1c366e40f8abf84c",
   "outputs": [
    {
     "name": "stdout",
     "output_type": "stream",
     "text": [
      "Features created.\n",
      "Columns aligned and sorted.\n",
      "\n",
      "Processing complete. Final shapes:\n",
      "X_processed: (8693, 15)\n",
      "X_test_processed: (4277, 15)\n"
     ]
    }
   ],
   "execution_count": 11
  },
  {
   "metadata": {
    "ExecuteTime": {
     "end_time": "2025-05-13T09:01:05.542134Z",
     "start_time": "2025-05-13T09:01:05.506303Z"
    }
   },
   "cell_type": "code",
   "source": "X.head()",
   "id": "dc9d152df7698467",
   "outputs": [
    {
     "data": {
      "text/plain": [
       "    Age CryoSleep Deck  Destination  FoodCourt  Group HomePlanet  Num  \\\n",
       "0  39.0     False    B  TRAPPIST-1e        0.0      1     Europa  0.0   \n",
       "1  24.0     False    F  TRAPPIST-1e        9.0      2      Earth  0.0   \n",
       "2  58.0     False    A  TRAPPIST-1e     3576.0      3     Europa  0.0   \n",
       "3  33.0     False    A  TRAPPIST-1e     1283.0      3     Europa  0.0   \n",
       "4  16.0     False    F  TRAPPIST-1e       70.0      4      Earth  1.0   \n",
       "\n",
       "   RoomService  ShoppingMall Side     Spa  TotalAmount    VIP  VRDeck  \n",
       "0          0.0           0.0    P     0.0          0.0  False     0.0  \n",
       "1        109.0          25.0    S   549.0        736.0  False    44.0  \n",
       "2         43.0           0.0    S  6715.0      10383.0   True    49.0  \n",
       "3          0.0         371.0    S  3329.0       5176.0  False   193.0  \n",
       "4        303.0         151.0    S   565.0       1091.0  False     2.0  "
      ],
      "text/html": [
       "<div>\n",
       "<style scoped>\n",
       "    .dataframe tbody tr th:only-of-type {\n",
       "        vertical-align: middle;\n",
       "    }\n",
       "\n",
       "    .dataframe tbody tr th {\n",
       "        vertical-align: top;\n",
       "    }\n",
       "\n",
       "    .dataframe thead th {\n",
       "        text-align: right;\n",
       "    }\n",
       "</style>\n",
       "<table border=\"1\" class=\"dataframe\">\n",
       "  <thead>\n",
       "    <tr style=\"text-align: right;\">\n",
       "      <th></th>\n",
       "      <th>Age</th>\n",
       "      <th>CryoSleep</th>\n",
       "      <th>Deck</th>\n",
       "      <th>Destination</th>\n",
       "      <th>FoodCourt</th>\n",
       "      <th>Group</th>\n",
       "      <th>HomePlanet</th>\n",
       "      <th>Num</th>\n",
       "      <th>RoomService</th>\n",
       "      <th>ShoppingMall</th>\n",
       "      <th>Side</th>\n",
       "      <th>Spa</th>\n",
       "      <th>TotalAmount</th>\n",
       "      <th>VIP</th>\n",
       "      <th>VRDeck</th>\n",
       "    </tr>\n",
       "  </thead>\n",
       "  <tbody>\n",
       "    <tr>\n",
       "      <th>0</th>\n",
       "      <td>39.0</td>\n",
       "      <td>False</td>\n",
       "      <td>B</td>\n",
       "      <td>TRAPPIST-1e</td>\n",
       "      <td>0.0</td>\n",
       "      <td>1</td>\n",
       "      <td>Europa</td>\n",
       "      <td>0.0</td>\n",
       "      <td>0.0</td>\n",
       "      <td>0.0</td>\n",
       "      <td>P</td>\n",
       "      <td>0.0</td>\n",
       "      <td>0.0</td>\n",
       "      <td>False</td>\n",
       "      <td>0.0</td>\n",
       "    </tr>\n",
       "    <tr>\n",
       "      <th>1</th>\n",
       "      <td>24.0</td>\n",
       "      <td>False</td>\n",
       "      <td>F</td>\n",
       "      <td>TRAPPIST-1e</td>\n",
       "      <td>9.0</td>\n",
       "      <td>2</td>\n",
       "      <td>Earth</td>\n",
       "      <td>0.0</td>\n",
       "      <td>109.0</td>\n",
       "      <td>25.0</td>\n",
       "      <td>S</td>\n",
       "      <td>549.0</td>\n",
       "      <td>736.0</td>\n",
       "      <td>False</td>\n",
       "      <td>44.0</td>\n",
       "    </tr>\n",
       "    <tr>\n",
       "      <th>2</th>\n",
       "      <td>58.0</td>\n",
       "      <td>False</td>\n",
       "      <td>A</td>\n",
       "      <td>TRAPPIST-1e</td>\n",
       "      <td>3576.0</td>\n",
       "      <td>3</td>\n",
       "      <td>Europa</td>\n",
       "      <td>0.0</td>\n",
       "      <td>43.0</td>\n",
       "      <td>0.0</td>\n",
       "      <td>S</td>\n",
       "      <td>6715.0</td>\n",
       "      <td>10383.0</td>\n",
       "      <td>True</td>\n",
       "      <td>49.0</td>\n",
       "    </tr>\n",
       "    <tr>\n",
       "      <th>3</th>\n",
       "      <td>33.0</td>\n",
       "      <td>False</td>\n",
       "      <td>A</td>\n",
       "      <td>TRAPPIST-1e</td>\n",
       "      <td>1283.0</td>\n",
       "      <td>3</td>\n",
       "      <td>Europa</td>\n",
       "      <td>0.0</td>\n",
       "      <td>0.0</td>\n",
       "      <td>371.0</td>\n",
       "      <td>S</td>\n",
       "      <td>3329.0</td>\n",
       "      <td>5176.0</td>\n",
       "      <td>False</td>\n",
       "      <td>193.0</td>\n",
       "    </tr>\n",
       "    <tr>\n",
       "      <th>4</th>\n",
       "      <td>16.0</td>\n",
       "      <td>False</td>\n",
       "      <td>F</td>\n",
       "      <td>TRAPPIST-1e</td>\n",
       "      <td>70.0</td>\n",
       "      <td>4</td>\n",
       "      <td>Earth</td>\n",
       "      <td>1.0</td>\n",
       "      <td>303.0</td>\n",
       "      <td>151.0</td>\n",
       "      <td>S</td>\n",
       "      <td>565.0</td>\n",
       "      <td>1091.0</td>\n",
       "      <td>False</td>\n",
       "      <td>2.0</td>\n",
       "    </tr>\n",
       "  </tbody>\n",
       "</table>\n",
       "</div>"
      ]
     },
     "execution_count": 12,
     "metadata": {},
     "output_type": "execute_result"
    }
   ],
   "execution_count": 12
  },
  {
   "metadata": {
    "ExecuteTime": {
     "end_time": "2025-05-13T09:01:05.606684Z",
     "start_time": "2025-05-13T09:01:05.573774Z"
    }
   },
   "cell_type": "code",
   "source": [
    "# Получение числовых колонок\n",
    "numeric_columns = X.select_dtypes(include=['float64', 'int64']).columns\n",
    "# Получение нечисловых колонок (всех остальных)\n",
    "non_numeric_columns = X.select_dtypes(exclude=['float64', 'int64']).columns\n",
    "numeric_columns, non_numeric_columns,"
   ],
   "id": "643a76dbb49d5965",
   "outputs": [
    {
     "data": {
      "text/plain": [
       "(Index(['Age', 'FoodCourt', 'Group', 'Num', 'RoomService', 'ShoppingMall',\n",
       "        'Spa', 'TotalAmount', 'VRDeck'],\n",
       "       dtype='object'),\n",
       " Index(['CryoSleep', 'Deck', 'Destination', 'HomePlanet', 'Side', 'VIP'], dtype='object'))"
      ]
     },
     "execution_count": 13,
     "metadata": {},
     "output_type": "execute_result"
    }
   ],
   "execution_count": 13
  },
  {
   "metadata": {},
   "cell_type": "markdown",
   "source": "## Делим данные на train/dev/test",
   "id": "817f1c5b0e43fc18"
  },
  {
   "metadata": {
    "ExecuteTime": {
     "end_time": "2025-05-13T09:01:05.696126Z",
     "start_time": "2025-05-13T09:01:05.659371Z"
    }
   },
   "cell_type": "code",
   "source": [
    "# 1) Сначала отделяем тест (10%):\n",
    "X_train_full, X_test, y_train_full, y_test = train_test_split(\n",
    "    X, y,\n",
    "    test_size=0.10,\n",
    "    random_state=42,\n",
    "    stratify=y\n",
    ")\n",
    "# Параметр stratify в train_test_split отвечает за стратифицированное разбиение — то есть \n",
    "# разделение данных так, чтобы доля каждого класса (или другой целевой группы) в выборках\n",
    "# train/val/test была примерно такая же, как в исходном датасете.\n",
    "\n",
    "# 2) Из оставшихся берём валидацию (10% от всех → примерно 11% от X_train_full):\n",
    "val_frac = 0.10 / 0.90  # ≈0.111…\n",
    "X_train, X_val, y_train, y_val = train_test_split(\n",
    "    X_train_full, y_train_full,\n",
    "    test_size=val_frac,\n",
    "    random_state=42,\n",
    "    stratify=y_train_full\n",
    ")\n",
    "\n",
    "print(f\"Train: {len(X_train)}, Val: {len(X_val)}, Test: {len(X_test)}\")"
   ],
   "id": "fdebaf81b0b68969",
   "outputs": [
    {
     "name": "stdout",
     "output_type": "stream",
     "text": [
      "Train: 6953, Val: 870, Test: 870\n"
     ]
    }
   ],
   "execution_count": 14
  },
  {
   "metadata": {},
   "cell_type": "markdown",
   "source": "## Строим пайплайн препроцессинга",
   "id": "8980ace8081f2ee3"
  },
  {
   "metadata": {
    "ExecuteTime": {
     "end_time": "2025-05-13T09:01:05.739272Z",
     "start_time": "2025-05-13T09:01:05.709090Z"
    }
   },
   "cell_type": "code",
   "source": [
    "# Пайплайн для числовых признаков (итеративное заполнение)\n",
    "numeric_transformer = Pipeline(steps=[\n",
    "    ('imputer', SimpleImputer(strategy='mean')),\n",
    "    ('scaler', StandardScaler()),  # разницы не дает\n",
    "])\n",
    "\n",
    "# Пайплайн для категориальных признаков (заполнение частым значением и кодирование)\n",
    "categorical_transformer = Pipeline(steps=[\n",
    "    ('imputer', SimpleImputer(strategy='most_frequent')),\n",
    "    ('onehot', OneHotEncoder(handle_unknown='ignore', sparse_output=False))\n",
    "])\n",
    "\n",
    "# --- Объединяем препроцессоры ---\n",
    "preprocessor = ColumnTransformer(\n",
    "    transformers=[\n",
    "        # Применяем к исходным числовым колонкам\n",
    "        ('num', numeric_transformer, numeric_columns),\n",
    "        # Применяем к исходным категориальным колонкам\n",
    "        ('cat', categorical_transformer, non_numeric_columns),\n",
    "    ],\n",
    "    remainder='drop',   # 'passthrough' сохранит полиномиальные и другие колонки, которые не были ни числовыми, ни категориальными ИЗНАЧАЛЬНО\n",
    "    verbose_feature_names_out=False  # Чтобы имена колонок не менялись на 'num__colname' и т.д.\n",
    ")"
   ],
   "id": "baebb75f4f353040",
   "outputs": [],
   "execution_count": 15
  },
  {
   "metadata": {
    "ExecuteTime": {
     "end_time": "2025-05-13T09:01:05.831603Z",
     "start_time": "2025-05-13T09:01:05.771778Z"
    }
   },
   "cell_type": "code",
   "source": [
    "# --- Применяем препроцессор к данным ---\n",
    "preprocessor.fit(X_train)\n",
    "X_train = preprocessor.transform(X_train)\n",
    "X_val = preprocessor.transform(X_val)\n",
    "X_test = preprocessor.transform(X_test)\n",
    "\n",
    "print(f\"Train: {X_train.shape}, Val: {X_val.shape}, Test: {X_test.shape}\")"
   ],
   "id": "4fdb23b94a7c4d42",
   "outputs": [
    {
     "name": "stdout",
     "output_type": "stream",
     "text": [
      "Train: (6953, 29), Val: (870, 29), Test: (870, 29)\n"
     ]
    }
   ],
   "execution_count": 16
  },
  {
   "metadata": {},
   "cell_type": "markdown",
   "source": "## Строим модель",
   "id": "72839f403819bed4"
  },
  {
   "metadata": {
    "ExecuteTime": {
     "end_time": "2025-05-13T09:01:05.928804Z",
     "start_time": "2025-05-13T09:01:05.900129Z"
    }
   },
   "cell_type": "code",
   "source": [
    "# Переводим в tf.data.Dataset\n",
    "def make_dataset(X, y=None, batch_size=64, shuffle=False):\n",
    "    \"\"\"Cтроит конвейер данных (tf.data.Dataset).\n",
    "    \n",
    "    Конвейер легко масштабируется и оптимизируется под тренинг в TensorFlow.\n",
    "    from_tensor_slices() - Берёт два массива NumPy (X и y) и превращает их в объект Dataset, где каждый элемент — это кортеж (x_i, y_i).\n",
    "\t•\tПод капотом:\n",
    "\t•\tНе копирует сразу всё в память TensorFlow-сессии; создаёт «план» (граф) операций.\n",
    "\t•\tПри итерации берёт один срез из X и один из y и отдаёт дальше.\n",
    "\n",
    "    Pro tip: при очень больших данных вместо массивов лучше потоком читать из файлов (например, tf.data.TextLineDataset или TFRecordDataset), чтобы не тащить всё в RAM. \n",
    "    \n",
    "    prefetch - Автономно вытягивает и подготавливает следующий батч во время обучения на текущем.\n",
    "\t•\tAUTOTUNE\n",
    "    Дозирует объём буфера сам, чтобы сбалансировать загрузку CPU (или I/O) и GPU.\n",
    "    •\tПод капотом:\n",
    "    Запускает отдельный фон-поток (или пул), который заранее выполняет все операции конвейера вплоть до батчинга, чтобы когда модель попросит данные, они уже лежали готовы в памяти.\n",
    "    \n",
    "    .batch(batch_size) - группирует образцы в мини-батчи размером batch_size. Вместо того, чтобы отдавать по одному образцу, датасет будет отдавать тензор формы (batch_size, ...) и каждая итерация обучения в model.fit будет происходить на этом куске данных. \n",
    "    \"\"\"\n",
    "    if y is None:\n",
    "        # Если y нет, то создаем датасет только из X\n",
    "        ds = tf.data.Dataset.from_tensor_slices(X.astype('float32'))\n",
    "    else:\n",
    "        ds = tf.data.Dataset.from_tensor_slices((X.astype('float32'), y.astype('float32')))\n",
    "        if shuffle:\n",
    "            ds = ds.shuffle(buffer_size=len(X), seed=RANDOM_STATE)\n",
    "    \n",
    "    return ds.batch(batch_size).prefetch(tf.data.AUTOTUNE)"
   ],
   "id": "4e733bbea1421f53",
   "outputs": [],
   "execution_count": 17
  },
  {
   "metadata": {
    "ExecuteTime": {
     "end_time": "2025-05-13T09:01:05.963279Z",
     "start_time": "2025-05-13T09:01:05.936192Z"
    }
   },
   "cell_type": "code",
   "source": [
    "print(X_train.shape, X_val.shape, X_test.shape)\n",
    "print(y_train.shape, y_val.shape, y_test.shape)"
   ],
   "id": "6662e42d14376a95",
   "outputs": [
    {
     "name": "stdout",
     "output_type": "stream",
     "text": [
      "(6953, 29) (870, 29) (870, 29)\n",
      "(6953,) (870,) (870,)\n"
     ]
    }
   ],
   "execution_count": 18
  },
  {
   "metadata": {
    "ExecuteTime": {
     "end_time": "2025-05-13T09:01:06.051402Z",
     "start_time": "2025-05-13T09:01:05.997574Z"
    }
   },
   "cell_type": "code",
   "source": [
    "# Пишем repeat, чтобы не было out_of_range ошибки из-за батчей\n",
    "# train_ds = make_dataset(X_train, y_train, batch_size=BATCH_SIZE, shuffle=True).repeat()\n",
    "train_ds = make_dataset(X_train, y_train, batch_size=BATCH_SIZE, shuffle=True)\n",
    "val_ds = make_dataset(X_val, y_val, batch_size=BATCH_SIZE)\n",
    "test_ds = make_dataset(X_test, y_test, batch_size=BATCH_SIZE)"
   ],
   "id": "a8c78f91a6b682c2",
   "outputs": [],
   "execution_count": 19
  },
  {
   "metadata": {
    "ExecuteTime": {
     "end_time": "2025-05-13T09:01:06.115040Z",
     "start_time": "2025-05-13T09:01:06.085590Z"
    }
   },
   "cell_type": "code",
   "source": [
    "def create_model(input_shape, random_state=42):\n",
    "    tf.random.set_seed(random_state)\n",
    "    \n",
    "    initializer = GlorotUniform(seed=random_state)\n",
    "    \n",
    "    inputs = tf.keras.Input(shape=(input_shape,), name='features')\n",
    "    \n",
    "    x = inputs\n",
    "    layer_sizes = [256, 128, 64, 32, 16, 8]\n",
    "    dropout_rates = [0.3, 0.3, 0.2, 0, 0, 0]\n",
    "    \n",
    "    for i, (size, dropout_rate) in enumerate(zip(layer_sizes, dropout_rates)):\n",
    "        x = Dense(size, kernel_initializer=initializer, kernel_regularizer=l2(1e-4))(x)\n",
    "        x = BatchNormalization()(x)\n",
    "        x = Activation('gelu')(x)\n",
    "        if dropout_rate > 0:\n",
    "            x = Dropout(dropout_rate, seed=random_state + i)(x)  # Разные seed для разных слоев\n",
    "    \n",
    "    outputs = Dense(1, activation='sigmoid', kernel_initializer=initializer)(x)\n",
    "    \n",
    "    model = tf.keras.Model(inputs=inputs, outputs=outputs)\n",
    "    \n",
    "    # Компилируем с фиксированным optimizer\n",
    "    optimizer = tf.keras.optimizers.Adam(learning_rate=LEARNING_RATE)\n",
    "    # optimizer = tf.keras.optimizers.AdamW(learning_rate=1e-3, weight_decay=1e-5)\n",
    "    optimizer.build(model.trainable_variables)\n",
    "    \n",
    "    model.compile(\n",
    "        optimizer=optimizer,\n",
    "        loss='binary_crossentropy',\n",
    "        metrics=['accuracy', tf.keras.metrics.AUC(name='auc')]\n",
    "    )\n",
    "    \n",
    "    return model"
   ],
   "id": "7565131f1fd78834",
   "outputs": [],
   "execution_count": 20
  },
  {
   "metadata": {
    "ExecuteTime": {
     "end_time": "2025-05-13T09:01:06.210103Z",
     "start_time": "2025-05-13T09:01:06.182447Z"
    }
   },
   "cell_type": "code",
   "source": [
    "def train_model(\n",
    "        shape,\n",
    "        ds,\n",
    "        ds_val,\n",
    "        epochs=100,\n",
    "        early_stopping_patience=10,\n",
    "        reduce_lr_factor=0.5,\n",
    "        reduce_lr_patience=5,\n",
    "        verbose=2,\n",
    "        experiment_name=\"classification experiment\",\n",
    "        run_name=\"DNN - Baseline DNN\",\n",
    "):\n",
    "    # если есть открытый run — закроем его\n",
    "    active = mlflow.active_run()\n",
    "    if active is not None and active.info.lifecycle_stage == 'active':\n",
    "        mlflow.end_run()\n",
    "    \n",
    "    mlflow.set_experiment(experiment_name)\n",
    "    with mlflow.start_run(run_name=run_name) as run:  # Сохраняем run для логирования артефактов\n",
    "    \n",
    "        # Обучение с колбэками\n",
    "        # ReduceLROnPlateau callback отслеживает указанную метрику (по умолчанию — val_loss) и, \n",
    "        # если она не улучшается в течение заданного числа эпох, автоматически уменьшает \n",
    "        # скорость обучения.\n",
    "        callbacks = [  # Callbacks для контроля переобучения\n",
    "            tf.keras.callbacks.EarlyStopping(patience=early_stopping_patience, restore_best_weights=True),\n",
    "            tf.keras.callbacks.ReduceLROnPlateau(\n",
    "                factor=reduce_lr_factor,  # во сколько раз уменьшить lr (0.5 → lr_new = lr_old * 0.5)\n",
    "                patience=reduce_lr_patience,  # ждать 5 эпох без улучшения\n",
    "                min_lr=1e-6, # (опционально) не опускать lr ниже этого порога\n",
    "                verbose=1  # выводить в логи сообщение об уменьшении\n",
    "            )\n",
    "        ]\n",
    "        \n",
    "        new_model = create_model(shape, random_state=RANDOM_STATE)\n",
    "        model_history = new_model.fit(\n",
    "            ds,\n",
    "            epochs=epochs,\n",
    "            validation_data = ds_val,\n",
    "            callbacks=callbacks,\n",
    "            verbose=verbose\n",
    "        )\n",
    "        \n",
    "        return new_model, model_history"
   ],
   "id": "26b22a8a4ea405ff",
   "outputs": [],
   "execution_count": 21
  },
  {
   "metadata": {
    "ExecuteTime": {
     "end_time": "2025-05-13T09:01:39.238495Z",
     "start_time": "2025-05-13T09:01:06.218055Z"
    }
   },
   "cell_type": "code",
   "source": [
    "model, history = train_model(\n",
    "    shape=X_train.shape[1],\n",
    "    ds=train_ds,\n",
    "    ds_val=val_ds,\n",
    "    epochs=100,\n",
    "    early_stopping_patience=10,\n",
    "    reduce_lr_factor=0.5,\n",
    "    reduce_lr_patience=5,\n",
    "    verbose=2,\n",
    "    experiment_name=\"classification experiment\",\n",
    "    run_name=\"DNN - Default Baseline\"\n",
    ") "
   ],
   "id": "95475af3f2a796bf",
   "outputs": [
    {
     "data": {
      "text/plain": [],
      "text/html": [
       "<pre style=\"white-space:pre;overflow-x:auto;line-height:normal;font-family:Menlo,'DejaVu Sans Mono',consolas,'Courier New',monospace\"></pre>\n"
      ]
     },
     "metadata": {},
     "output_type": "display_data"
    },
    {
     "name": "stdout",
     "output_type": "stream",
     "text": [
      "Epoch 1/300\n",
      "109/109 - 2s - 17ms/step - accuracy: 0.7208 - auc: 0.7999 - loss: 0.9158 - val_accuracy: 0.7966 - val_auc: 0.8783 - val_loss: 0.8790 - learning_rate: 0.0010\n",
      "Epoch 2/300\n",
      "109/109 - 0s - 2ms/step - accuracy: 0.7812 - auc: 0.8647 - loss: 0.8085 - val_accuracy: 0.8138 - val_auc: 0.8893 - val_loss: 0.7753 - learning_rate: 0.0010\n",
      "Epoch 3/300\n",
      "109/109 - 0s - 2ms/step - accuracy: 0.7956 - auc: 0.8776 - loss: 0.7687 - val_accuracy: 0.8092 - val_auc: 0.8944 - val_loss: 0.7380 - learning_rate: 0.0010\n",
      "Epoch 4/300\n",
      "109/109 - 0s - 2ms/step - accuracy: 0.7949 - auc: 0.8810 - loss: 0.7444 - val_accuracy: 0.8195 - val_auc: 0.8969 - val_loss: 0.7113 - learning_rate: 0.0010\n",
      "Epoch 5/300\n",
      "109/109 - 0s - 2ms/step - accuracy: 0.7971 - auc: 0.8840 - loss: 0.7215 - val_accuracy: 0.8218 - val_auc: 0.8989 - val_loss: 0.6917 - learning_rate: 0.0010\n",
      "Epoch 6/300\n",
      "109/109 - 0s - 2ms/step - accuracy: 0.7984 - auc: 0.8841 - loss: 0.7039 - val_accuracy: 0.8195 - val_auc: 0.9021 - val_loss: 0.6697 - learning_rate: 0.0010\n",
      "Epoch 7/300\n",
      "109/109 - 0s - 2ms/step - accuracy: 0.7994 - auc: 0.8855 - loss: 0.6834 - val_accuracy: 0.8207 - val_auc: 0.9014 - val_loss: 0.6503 - learning_rate: 0.0010\n",
      "Epoch 8/300\n",
      "109/109 - 0s - 2ms/step - accuracy: 0.8028 - auc: 0.8890 - loss: 0.6590 - val_accuracy: 0.8207 - val_auc: 0.8999 - val_loss: 0.6342 - learning_rate: 0.0010\n",
      "Epoch 9/300\n",
      "109/109 - 0s - 2ms/step - accuracy: 0.8038 - auc: 0.8887 - loss: 0.6442 - val_accuracy: 0.8149 - val_auc: 0.8990 - val_loss: 0.6176 - learning_rate: 0.0010\n",
      "Epoch 10/300\n",
      "109/109 - 0s - 2ms/step - accuracy: 0.8041 - auc: 0.8896 - loss: 0.6265 - val_accuracy: 0.8207 - val_auc: 0.9023 - val_loss: 0.6032 - learning_rate: 0.0010\n",
      "Epoch 11/300\n",
      "109/109 - 0s - 2ms/step - accuracy: 0.8048 - auc: 0.8912 - loss: 0.6121 - val_accuracy: 0.8230 - val_auc: 0.9049 - val_loss: 0.5824 - learning_rate: 0.0010\n",
      "Epoch 12/300\n",
      "109/109 - 0s - 2ms/step - accuracy: 0.8081 - auc: 0.8954 - loss: 0.5915 - val_accuracy: 0.8230 - val_auc: 0.9040 - val_loss: 0.5762 - learning_rate: 0.0010\n",
      "Epoch 13/300\n",
      "109/109 - 0s - 2ms/step - accuracy: 0.8033 - auc: 0.8914 - loss: 0.5859 - val_accuracy: 0.8310 - val_auc: 0.9056 - val_loss: 0.5599 - learning_rate: 0.0010\n",
      "Epoch 14/300\n",
      "109/109 - 0s - 2ms/step - accuracy: 0.8037 - auc: 0.8922 - loss: 0.5726 - val_accuracy: 0.8230 - val_auc: 0.9034 - val_loss: 0.5529 - learning_rate: 0.0010\n",
      "Epoch 15/300\n",
      "109/109 - 0s - 2ms/step - accuracy: 0.8007 - auc: 0.8903 - loss: 0.5663 - val_accuracy: 0.8103 - val_auc: 0.9035 - val_loss: 0.5436 - learning_rate: 0.0010\n",
      "Epoch 16/300\n",
      "109/109 - 0s - 2ms/step - accuracy: 0.8089 - auc: 0.8971 - loss: 0.5483 - val_accuracy: 0.8138 - val_auc: 0.9027 - val_loss: 0.5371 - learning_rate: 0.0010\n",
      "Epoch 17/300\n",
      "109/109 - 0s - 2ms/step - accuracy: 0.8056 - auc: 0.8944 - loss: 0.5456 - val_accuracy: 0.8138 - val_auc: 0.9012 - val_loss: 0.5319 - learning_rate: 0.0010\n",
      "Epoch 18/300\n",
      "109/109 - 0s - 2ms/step - accuracy: 0.8058 - auc: 0.8974 - loss: 0.5309 - val_accuracy: 0.8126 - val_auc: 0.8985 - val_loss: 0.5320 - learning_rate: 0.0010\n",
      "Epoch 19/300\n",
      "109/109 - 0s - 2ms/step - accuracy: 0.8051 - auc: 0.8940 - loss: 0.5305 - val_accuracy: 0.8149 - val_auc: 0.9013 - val_loss: 0.5138 - learning_rate: 0.0010\n",
      "Epoch 20/300\n",
      "109/109 - 0s - 2ms/step - accuracy: 0.8030 - auc: 0.8946 - loss: 0.5247 - val_accuracy: 0.8115 - val_auc: 0.8934 - val_loss: 0.5252 - learning_rate: 0.0010\n",
      "Epoch 21/300\n",
      "109/109 - 0s - 2ms/step - accuracy: 0.8100 - auc: 0.8959 - loss: 0.5164 - val_accuracy: 0.8138 - val_auc: 0.9008 - val_loss: 0.5173 - learning_rate: 0.0010\n",
      "Epoch 22/300\n",
      "109/109 - 0s - 2ms/step - accuracy: 0.8119 - auc: 0.8976 - loss: 0.5116 - val_accuracy: 0.8126 - val_auc: 0.9023 - val_loss: 0.5032 - learning_rate: 0.0010\n",
      "Epoch 23/300\n",
      "109/109 - 0s - 2ms/step - accuracy: 0.8074 - auc: 0.8954 - loss: 0.5088 - val_accuracy: 0.8138 - val_auc: 0.8997 - val_loss: 0.5085 - learning_rate: 0.0010\n",
      "Epoch 24/300\n",
      "109/109 - 0s - 2ms/step - accuracy: 0.8112 - auc: 0.8968 - loss: 0.5046 - val_accuracy: 0.8184 - val_auc: 0.9003 - val_loss: 0.4966 - learning_rate: 0.0010\n",
      "Epoch 25/300\n",
      "109/109 - 0s - 2ms/step - accuracy: 0.8051 - auc: 0.8930 - loss: 0.5060 - val_accuracy: 0.8195 - val_auc: 0.9020 - val_loss: 0.4926 - learning_rate: 0.0010\n",
      "Epoch 26/300\n",
      "109/109 - 0s - 2ms/step - accuracy: 0.8135 - auc: 0.8964 - loss: 0.4985 - val_accuracy: 0.8149 - val_auc: 0.9067 - val_loss: 0.4896 - learning_rate: 0.0010\n",
      "Epoch 27/300\n",
      "109/109 - 0s - 2ms/step - accuracy: 0.8119 - auc: 0.8971 - loss: 0.4957 - val_accuracy: 0.8195 - val_auc: 0.9071 - val_loss: 0.4866 - learning_rate: 0.0010\n",
      "Epoch 28/300\n",
      "109/109 - 0s - 2ms/step - accuracy: 0.8130 - auc: 0.8976 - loss: 0.4908 - val_accuracy: 0.8161 - val_auc: 0.9007 - val_loss: 0.4895 - learning_rate: 0.0010\n",
      "Epoch 29/300\n",
      "109/109 - 0s - 2ms/step - accuracy: 0.8077 - auc: 0.8961 - loss: 0.4915 - val_accuracy: 0.8184 - val_auc: 0.9046 - val_loss: 0.4808 - learning_rate: 0.0010\n",
      "Epoch 30/300\n",
      "109/109 - 0s - 2ms/step - accuracy: 0.8103 - auc: 0.8962 - loss: 0.4911 - val_accuracy: 0.8172 - val_auc: 0.9000 - val_loss: 0.4849 - learning_rate: 0.0010\n",
      "Epoch 31/300\n",
      "109/109 - 0s - 2ms/step - accuracy: 0.8043 - auc: 0.8924 - loss: 0.4963 - val_accuracy: 0.8115 - val_auc: 0.9036 - val_loss: 0.4797 - learning_rate: 0.0010\n",
      "Epoch 32/300\n",
      "109/109 - 0s - 2ms/step - accuracy: 0.8061 - auc: 0.8973 - loss: 0.4841 - val_accuracy: 0.8000 - val_auc: 0.8996 - val_loss: 0.4911 - learning_rate: 0.0010\n",
      "Epoch 33/300\n",
      "109/109 - 0s - 2ms/step - accuracy: 0.8074 - auc: 0.8976 - loss: 0.4812 - val_accuracy: 0.8069 - val_auc: 0.9020 - val_loss: 0.4722 - learning_rate: 0.0010\n",
      "Epoch 34/300\n",
      "109/109 - 0s - 2ms/step - accuracy: 0.8066 - auc: 0.8989 - loss: 0.4758 - val_accuracy: 0.8103 - val_auc: 0.8958 - val_loss: 0.4852 - learning_rate: 0.0010\n",
      "Epoch 35/300\n",
      "109/109 - 0s - 2ms/step - accuracy: 0.8068 - auc: 0.8976 - loss: 0.4808 - val_accuracy: 0.8103 - val_auc: 0.8995 - val_loss: 0.4747 - learning_rate: 0.0010\n",
      "Epoch 36/300\n",
      "109/109 - 0s - 2ms/step - accuracy: 0.8133 - auc: 0.8999 - loss: 0.4758 - val_accuracy: 0.8126 - val_auc: 0.9019 - val_loss: 0.4820 - learning_rate: 0.0010\n",
      "Epoch 37/300\n",
      "109/109 - 0s - 2ms/step - accuracy: 0.8112 - auc: 0.8979 - loss: 0.4771 - val_accuracy: 0.8115 - val_auc: 0.9011 - val_loss: 0.4725 - learning_rate: 0.0010\n",
      "Epoch 38/300\n",
      "109/109 - 0s - 2ms/step - accuracy: 0.8090 - auc: 0.8982 - loss: 0.4734 - val_accuracy: 0.8184 - val_auc: 0.9043 - val_loss: 0.4716 - learning_rate: 0.0010\n",
      "Epoch 39/300\n",
      "109/109 - 0s - 2ms/step - accuracy: 0.8112 - auc: 0.8982 - loss: 0.4736 - val_accuracy: 0.8287 - val_auc: 0.9000 - val_loss: 0.4776 - learning_rate: 0.0010\n",
      "Epoch 40/300\n",
      "109/109 - 0s - 2ms/step - accuracy: 0.8102 - auc: 0.8993 - loss: 0.4696 - val_accuracy: 0.8103 - val_auc: 0.9033 - val_loss: 0.4726 - learning_rate: 0.0010\n",
      "Epoch 41/300\n",
      "109/109 - 0s - 2ms/step - accuracy: 0.8045 - auc: 0.8949 - loss: 0.4740 - val_accuracy: 0.8046 - val_auc: 0.9017 - val_loss: 0.4689 - learning_rate: 0.0010\n",
      "Epoch 42/300\n",
      "109/109 - 0s - 2ms/step - accuracy: 0.8077 - auc: 0.8977 - loss: 0.4710 - val_accuracy: 0.8092 - val_auc: 0.9022 - val_loss: 0.4677 - learning_rate: 0.0010\n",
      "Epoch 43/300\n",
      "109/109 - 0s - 2ms/step - accuracy: 0.8067 - auc: 0.8986 - loss: 0.4677 - val_accuracy: 0.8103 - val_auc: 0.9017 - val_loss: 0.4578 - learning_rate: 0.0010\n",
      "Epoch 44/300\n",
      "109/109 - 0s - 2ms/step - accuracy: 0.8093 - auc: 0.8977 - loss: 0.4680 - val_accuracy: 0.8149 - val_auc: 0.9061 - val_loss: 0.4608 - learning_rate: 0.0010\n",
      "Epoch 45/300\n",
      "109/109 - 0s - 2ms/step - accuracy: 0.8066 - auc: 0.8969 - loss: 0.4680 - val_accuracy: 0.8126 - val_auc: 0.9041 - val_loss: 0.4602 - learning_rate: 0.0010\n",
      "Epoch 46/300\n",
      "109/109 - 0s - 2ms/step - accuracy: 0.8117 - auc: 0.8979 - loss: 0.4688 - val_accuracy: 0.8126 - val_auc: 0.9038 - val_loss: 0.4626 - learning_rate: 0.0010\n",
      "Epoch 47/300\n",
      "109/109 - 0s - 2ms/step - accuracy: 0.8094 - auc: 0.8999 - loss: 0.4633 - val_accuracy: 0.8138 - val_auc: 0.9014 - val_loss: 0.4727 - learning_rate: 0.0010\n",
      "Epoch 48/300\n",
      "\n",
      "Epoch 48: ReduceLROnPlateau reducing learning rate to 0.0005000000237487257.\n",
      "109/109 - 0s - 2ms/step - accuracy: 0.8083 - auc: 0.8963 - loss: 0.4686 - val_accuracy: 0.8069 - val_auc: 0.9022 - val_loss: 0.4656 - learning_rate: 0.0010\n",
      "Epoch 49/300\n",
      "109/109 - 0s - 2ms/step - accuracy: 0.8171 - auc: 0.9029 - loss: 0.4541 - val_accuracy: 0.8080 - val_auc: 0.9024 - val_loss: 0.4582 - learning_rate: 5.0000e-04\n",
      "Epoch 50/300\n",
      "109/109 - 0s - 2ms/step - accuracy: 0.8171 - auc: 0.9037 - loss: 0.4494 - val_accuracy: 0.8172 - val_auc: 0.9060 - val_loss: 0.4533 - learning_rate: 5.0000e-04\n",
      "Epoch 51/300\n",
      "109/109 - 0s - 2ms/step - accuracy: 0.8150 - auc: 0.9029 - loss: 0.4474 - val_accuracy: 0.8218 - val_auc: 0.9073 - val_loss: 0.4422 - learning_rate: 5.0000e-04\n",
      "Epoch 52/300\n",
      "109/109 - 0s - 2ms/step - accuracy: 0.8132 - auc: 0.9026 - loss: 0.4479 - val_accuracy: 0.8172 - val_auc: 0.9077 - val_loss: 0.4404 - learning_rate: 5.0000e-04\n",
      "Epoch 53/300\n",
      "109/109 - 0s - 2ms/step - accuracy: 0.8159 - auc: 0.9047 - loss: 0.4436 - val_accuracy: 0.8080 - val_auc: 0.9037 - val_loss: 0.4507 - learning_rate: 5.0000e-04\n",
      "Epoch 54/300\n",
      "109/109 - 0s - 2ms/step - accuracy: 0.8127 - auc: 0.9005 - loss: 0.4502 - val_accuracy: 0.8161 - val_auc: 0.9077 - val_loss: 0.4434 - learning_rate: 5.0000e-04\n",
      "Epoch 55/300\n",
      "109/109 - 0s - 2ms/step - accuracy: 0.8109 - auc: 0.9030 - loss: 0.4448 - val_accuracy: 0.8161 - val_auc: 0.9075 - val_loss: 0.4455 - learning_rate: 5.0000e-04\n",
      "Epoch 56/300\n",
      "109/109 - 0s - 2ms/step - accuracy: 0.8201 - auc: 0.9061 - loss: 0.4379 - val_accuracy: 0.8126 - val_auc: 0.9062 - val_loss: 0.4465 - learning_rate: 5.0000e-04\n",
      "Epoch 57/300\n",
      "109/109 - 0s - 2ms/step - accuracy: 0.8168 - auc: 0.9061 - loss: 0.4372 - val_accuracy: 0.8080 - val_auc: 0.9063 - val_loss: 0.4385 - learning_rate: 5.0000e-04\n",
      "Epoch 58/300\n",
      "109/109 - 0s - 2ms/step - accuracy: 0.8137 - auc: 0.9036 - loss: 0.4420 - val_accuracy: 0.8161 - val_auc: 0.9064 - val_loss: 0.4387 - learning_rate: 5.0000e-04\n",
      "Epoch 59/300\n",
      "109/109 - 0s - 2ms/step - accuracy: 0.8184 - auc: 0.9063 - loss: 0.4396 - val_accuracy: 0.8172 - val_auc: 0.9055 - val_loss: 0.4456 - learning_rate: 5.0000e-04\n",
      "Epoch 60/300\n",
      "109/109 - 0s - 2ms/step - accuracy: 0.8148 - auc: 0.9034 - loss: 0.4428 - val_accuracy: 0.8195 - val_auc: 0.9035 - val_loss: 0.4521 - learning_rate: 5.0000e-04\n",
      "Epoch 61/300\n",
      "109/109 - 0s - 2ms/step - accuracy: 0.8109 - auc: 0.9046 - loss: 0.4375 - val_accuracy: 0.8149 - val_auc: 0.9061 - val_loss: 0.4435 - learning_rate: 5.0000e-04\n",
      "Epoch 62/300\n",
      "\n",
      "Epoch 62: ReduceLROnPlateau reducing learning rate to 0.0002500000118743628.\n",
      "109/109 - 0s - 2ms/step - accuracy: 0.8165 - auc: 0.9056 - loss: 0.4382 - val_accuracy: 0.8115 - val_auc: 0.9043 - val_loss: 0.4439 - learning_rate: 5.0000e-04\n",
      "Epoch 63/300\n",
      "109/109 - 0s - 2ms/step - accuracy: 0.8224 - auc: 0.9074 - loss: 0.4324 - val_accuracy: 0.8092 - val_auc: 0.9074 - val_loss: 0.4311 - learning_rate: 2.5000e-04\n",
      "Epoch 64/300\n",
      "109/109 - 0s - 2ms/step - accuracy: 0.8222 - auc: 0.9084 - loss: 0.4312 - val_accuracy: 0.8195 - val_auc: 0.9096 - val_loss: 0.4283 - learning_rate: 2.5000e-04\n",
      "Epoch 65/300\n",
      "109/109 - 0s - 2ms/step - accuracy: 0.8202 - auc: 0.9107 - loss: 0.4240 - val_accuracy: 0.8149 - val_auc: 0.9085 - val_loss: 0.4298 - learning_rate: 2.5000e-04\n",
      "Epoch 66/300\n",
      "109/109 - 0s - 2ms/step - accuracy: 0.8182 - auc: 0.9088 - loss: 0.4254 - val_accuracy: 0.8138 - val_auc: 0.9092 - val_loss: 0.4267 - learning_rate: 2.5000e-04\n",
      "Epoch 67/300\n",
      "109/109 - 0s - 2ms/step - accuracy: 0.8182 - auc: 0.9085 - loss: 0.4261 - val_accuracy: 0.8218 - val_auc: 0.9085 - val_loss: 0.4289 - learning_rate: 2.5000e-04\n",
      "Epoch 68/300\n",
      "109/109 - 0s - 2ms/step - accuracy: 0.8168 - auc: 0.9085 - loss: 0.4246 - val_accuracy: 0.8149 - val_auc: 0.9085 - val_loss: 0.4306 - learning_rate: 2.5000e-04\n",
      "Epoch 69/300\n",
      "109/109 - 0s - 2ms/step - accuracy: 0.8228 - auc: 0.9087 - loss: 0.4246 - val_accuracy: 0.8161 - val_auc: 0.9105 - val_loss: 0.4274 - learning_rate: 2.5000e-04\n",
      "Epoch 70/300\n",
      "109/109 - 0s - 2ms/step - accuracy: 0.8188 - auc: 0.9109 - loss: 0.4197 - val_accuracy: 0.8161 - val_auc: 0.9094 - val_loss: 0.4276 - learning_rate: 2.5000e-04\n",
      "Epoch 71/300\n",
      "\n",
      "Epoch 71: ReduceLROnPlateau reducing learning rate to 0.0001250000059371814.\n",
      "109/109 - 0s - 2ms/step - accuracy: 0.8189 - auc: 0.9090 - loss: 0.4231 - val_accuracy: 0.8138 - val_auc: 0.9075 - val_loss: 0.4325 - learning_rate: 2.5000e-04\n",
      "Epoch 72/300\n",
      "109/109 - 0s - 2ms/step - accuracy: 0.8263 - auc: 0.9123 - loss: 0.4169 - val_accuracy: 0.8126 - val_auc: 0.9083 - val_loss: 0.4260 - learning_rate: 1.2500e-04\n",
      "Epoch 73/300\n",
      "109/109 - 0s - 2ms/step - accuracy: 0.8166 - auc: 0.9082 - loss: 0.4220 - val_accuracy: 0.8115 - val_auc: 0.9066 - val_loss: 0.4282 - learning_rate: 1.2500e-04\n",
      "Epoch 74/300\n",
      "109/109 - 0s - 2ms/step - accuracy: 0.8240 - auc: 0.9130 - loss: 0.4128 - val_accuracy: 0.8195 - val_auc: 0.9086 - val_loss: 0.4261 - learning_rate: 1.2500e-04\n",
      "Epoch 75/300\n",
      "109/109 - 0s - 2ms/step - accuracy: 0.8237 - auc: 0.9127 - loss: 0.4146 - val_accuracy: 0.8092 - val_auc: 0.9078 - val_loss: 0.4271 - learning_rate: 1.2500e-04\n",
      "Epoch 76/300\n",
      "109/109 - 0s - 2ms/step - accuracy: 0.8172 - auc: 0.9099 - loss: 0.4200 - val_accuracy: 0.8126 - val_auc: 0.9086 - val_loss: 0.4226 - learning_rate: 1.2500e-04\n",
      "Epoch 77/300\n",
      "109/109 - 0s - 2ms/step - accuracy: 0.8217 - auc: 0.9130 - loss: 0.4116 - val_accuracy: 0.8218 - val_auc: 0.9090 - val_loss: 0.4248 - learning_rate: 1.2500e-04\n",
      "Epoch 78/300\n",
      "109/109 - 0s - 2ms/step - accuracy: 0.8182 - auc: 0.9129 - loss: 0.4115 - val_accuracy: 0.8161 - val_auc: 0.9071 - val_loss: 0.4259 - learning_rate: 1.2500e-04\n",
      "Epoch 79/300\n",
      "109/109 - 0s - 2ms/step - accuracy: 0.8195 - auc: 0.9097 - loss: 0.4176 - val_accuracy: 0.8126 - val_auc: 0.9081 - val_loss: 0.4225 - learning_rate: 1.2500e-04\n",
      "Epoch 80/300\n",
      "109/109 - 0s - 2ms/step - accuracy: 0.8255 - auc: 0.9103 - loss: 0.4150 - val_accuracy: 0.8161 - val_auc: 0.9091 - val_loss: 0.4237 - learning_rate: 1.2500e-04\n",
      "Epoch 81/300\n",
      "\n",
      "Epoch 81: ReduceLROnPlateau reducing learning rate to 6.25000029685907e-05.\n",
      "109/109 - 0s - 2ms/step - accuracy: 0.8201 - auc: 0.9116 - loss: 0.4131 - val_accuracy: 0.8149 - val_auc: 0.9086 - val_loss: 0.4251 - learning_rate: 1.2500e-04\n",
      "Epoch 82/300\n",
      "109/109 - 0s - 2ms/step - accuracy: 0.8209 - auc: 0.9126 - loss: 0.4118 - val_accuracy: 0.8161 - val_auc: 0.9103 - val_loss: 0.4209 - learning_rate: 6.2500e-05\n",
      "Epoch 83/300\n",
      "109/109 - 0s - 2ms/step - accuracy: 0.8265 - auc: 0.9145 - loss: 0.4086 - val_accuracy: 0.8161 - val_auc: 0.9100 - val_loss: 0.4207 - learning_rate: 6.2500e-05\n",
      "Epoch 84/300\n",
      "109/109 - 0s - 2ms/step - accuracy: 0.8209 - auc: 0.9123 - loss: 0.4113 - val_accuracy: 0.8149 - val_auc: 0.9093 - val_loss: 0.4211 - learning_rate: 6.2500e-05\n",
      "Epoch 85/300\n",
      "109/109 - 0s - 2ms/step - accuracy: 0.8238 - auc: 0.9138 - loss: 0.4081 - val_accuracy: 0.8207 - val_auc: 0.9093 - val_loss: 0.4212 - learning_rate: 6.2500e-05\n",
      "Epoch 86/300\n",
      "109/109 - 0s - 2ms/step - accuracy: 0.8227 - auc: 0.9109 - loss: 0.4127 - val_accuracy: 0.8149 - val_auc: 0.9086 - val_loss: 0.4206 - learning_rate: 6.2500e-05\n",
      "Epoch 87/300\n",
      "109/109 - 0s - 2ms/step - accuracy: 0.8224 - auc: 0.9114 - loss: 0.4118 - val_accuracy: 0.8161 - val_auc: 0.9090 - val_loss: 0.4218 - learning_rate: 6.2500e-05\n",
      "Epoch 88/300\n",
      "109/109 - 0s - 2ms/step - accuracy: 0.8253 - auc: 0.9127 - loss: 0.4101 - val_accuracy: 0.8172 - val_auc: 0.9097 - val_loss: 0.4204 - learning_rate: 6.2500e-05\n",
      "Epoch 89/300\n",
      "109/109 - 0s - 2ms/step - accuracy: 0.8276 - auc: 0.9151 - loss: 0.4048 - val_accuracy: 0.8172 - val_auc: 0.9098 - val_loss: 0.4207 - learning_rate: 6.2500e-05\n",
      "Epoch 90/300\n",
      "109/109 - 0s - 2ms/step - accuracy: 0.8218 - auc: 0.9149 - loss: 0.4045 - val_accuracy: 0.8195 - val_auc: 0.9093 - val_loss: 0.4211 - learning_rate: 6.2500e-05\n",
      "Epoch 91/300\n",
      "109/109 - 0s - 2ms/step - accuracy: 0.8230 - auc: 0.9132 - loss: 0.4093 - val_accuracy: 0.8207 - val_auc: 0.9099 - val_loss: 0.4186 - learning_rate: 6.2500e-05\n",
      "Epoch 92/300\n",
      "109/109 - 0s - 2ms/step - accuracy: 0.8307 - auc: 0.9146 - loss: 0.4059 - val_accuracy: 0.8149 - val_auc: 0.9094 - val_loss: 0.4200 - learning_rate: 6.2500e-05\n",
      "Epoch 93/300\n",
      "109/109 - 0s - 2ms/step - accuracy: 0.8293 - auc: 0.9161 - loss: 0.4026 - val_accuracy: 0.8207 - val_auc: 0.9093 - val_loss: 0.4205 - learning_rate: 6.2500e-05\n",
      "Epoch 94/300\n",
      "109/109 - 0s - 2ms/step - accuracy: 0.8225 - auc: 0.9144 - loss: 0.4039 - val_accuracy: 0.8230 - val_auc: 0.9097 - val_loss: 0.4197 - learning_rate: 6.2500e-05\n",
      "Epoch 95/300\n",
      "109/109 - 0s - 2ms/step - accuracy: 0.8242 - auc: 0.9126 - loss: 0.4097 - val_accuracy: 0.8195 - val_auc: 0.9098 - val_loss: 0.4190 - learning_rate: 6.2500e-05\n",
      "Epoch 96/300\n",
      "\n",
      "Epoch 96: ReduceLROnPlateau reducing learning rate to 3.125000148429535e-05.\n",
      "109/109 - 0s - 2ms/step - accuracy: 0.8244 - auc: 0.9143 - loss: 0.4061 - val_accuracy: 0.8195 - val_auc: 0.9093 - val_loss: 0.4197 - learning_rate: 6.2500e-05\n",
      "Epoch 97/300\n",
      "109/109 - 0s - 2ms/step - accuracy: 0.8227 - auc: 0.9130 - loss: 0.4084 - val_accuracy: 0.8184 - val_auc: 0.9092 - val_loss: 0.4197 - learning_rate: 3.1250e-05\n",
      "Epoch 98/300\n",
      "109/109 - 0s - 2ms/step - accuracy: 0.8224 - auc: 0.9135 - loss: 0.4082 - val_accuracy: 0.8184 - val_auc: 0.9093 - val_loss: 0.4186 - learning_rate: 3.1250e-05\n",
      "Epoch 99/300\n",
      "109/109 - 0s - 2ms/step - accuracy: 0.8247 - auc: 0.9141 - loss: 0.4057 - val_accuracy: 0.8149 - val_auc: 0.9093 - val_loss: 0.4182 - learning_rate: 3.1250e-05\n",
      "Epoch 100/300\n",
      "109/109 - 0s - 2ms/step - accuracy: 0.8250 - auc: 0.9162 - loss: 0.4020 - val_accuracy: 0.8172 - val_auc: 0.9094 - val_loss: 0.4199 - learning_rate: 3.1250e-05\n",
      "Epoch 101/300\n",
      "109/109 - 0s - 2ms/step - accuracy: 0.8230 - auc: 0.9141 - loss: 0.4035 - val_accuracy: 0.8161 - val_auc: 0.9095 - val_loss: 0.4190 - learning_rate: 3.1250e-05\n",
      "Epoch 102/300\n",
      "109/109 - 0s - 2ms/step - accuracy: 0.8228 - auc: 0.9136 - loss: 0.4065 - val_accuracy: 0.8184 - val_auc: 0.9094 - val_loss: 0.4191 - learning_rate: 3.1250e-05\n",
      "Epoch 103/300\n",
      "109/109 - 0s - 2ms/step - accuracy: 0.8214 - auc: 0.9134 - loss: 0.4056 - val_accuracy: 0.8230 - val_auc: 0.9093 - val_loss: 0.4201 - learning_rate: 3.1250e-05\n",
      "Epoch 104/300\n",
      "\n",
      "Epoch 104: ReduceLROnPlateau reducing learning rate to 1.5625000742147677e-05.\n",
      "109/109 - 0s - 2ms/step - accuracy: 0.8260 - auc: 0.9140 - loss: 0.4047 - val_accuracy: 0.8195 - val_auc: 0.9090 - val_loss: 0.4197 - learning_rate: 3.1250e-05\n",
      "Epoch 105/300\n",
      "109/109 - 0s - 2ms/step - accuracy: 0.8254 - auc: 0.9141 - loss: 0.4042 - val_accuracy: 0.8207 - val_auc: 0.9090 - val_loss: 0.4189 - learning_rate: 1.5625e-05\n",
      "Epoch 106/300\n",
      "109/109 - 0s - 2ms/step - accuracy: 0.8244 - auc: 0.9153 - loss: 0.4021 - val_accuracy: 0.8218 - val_auc: 0.9092 - val_loss: 0.4191 - learning_rate: 1.5625e-05\n",
      "Epoch 107/300\n",
      "109/109 - 0s - 2ms/step - accuracy: 0.8293 - auc: 0.9158 - loss: 0.4019 - val_accuracy: 0.8184 - val_auc: 0.9092 - val_loss: 0.4190 - learning_rate: 1.5625e-05\n",
      "Epoch 108/300\n",
      "109/109 - 0s - 2ms/step - accuracy: 0.8283 - auc: 0.9180 - loss: 0.3979 - val_accuracy: 0.8207 - val_auc: 0.9096 - val_loss: 0.4185 - learning_rate: 1.5625e-05\n",
      "Epoch 109/300\n",
      "\n",
      "Epoch 109: ReduceLROnPlateau reducing learning rate to 7.812500371073838e-06.\n",
      "109/109 - 0s - 2ms/step - accuracy: 0.8228 - auc: 0.9127 - loss: 0.4076 - val_accuracy: 0.8138 - val_auc: 0.9093 - val_loss: 0.4184 - learning_rate: 1.5625e-05\n"
     ]
    }
   ],
   "execution_count": 22
  },
  {
   "metadata": {
    "ExecuteTime": {
     "end_time": "2025-05-13T09:01:39.359666Z",
     "start_time": "2025-05-13T09:01:39.298338Z"
    }
   },
   "cell_type": "code",
   "source": [
    "# После выбора лучших весов оцениваем на тесте (для честной оценки финальной модели.)\n",
    "test_loss, test_acc, test_auc = model.evaluate(test_ds, verbose=2)\n",
    "print(f\"Test  — loss: {test_loss:.4f}, acc: {test_acc:.4f}, auc: {test_auc:.4f}\")"
   ],
   "id": "fd7b1c65336872f3",
   "outputs": [
    {
     "name": "stdout",
     "output_type": "stream",
     "text": [
      "14/14 - 0s - 1ms/step - accuracy: 0.8184 - auc: 0.9174 - loss: 0.3991\n",
      "Test  — loss: 0.3991, acc: 0.8184, auc: 0.9174\n"
     ]
    }
   ],
   "execution_count": 23
  },
  {
   "metadata": {
    "ExecuteTime": {
     "end_time": "2025-05-13T08:22:41.127246Z",
     "start_time": "2025-05-13T08:22:41.063210Z"
    }
   },
   "cell_type": "code",
   "source": [
    "# Стремимся к\n",
    "\n",
    "# 14/14 - 0s - 2ms/step - accuracy: 0.8276 - auc: 0.9212 - loss: 0.381714/14 - 0s - 2ms/step - accuracy: 0.8276 - auc: 0.9212 - loss: 0.3817\n",
    "# Test  — loss: 0.3817, acc: 0.8276, auc: 0.9212"
   ],
   "id": "405218f0a5369d82",
   "outputs": [],
   "execution_count": 25
  },
  {
   "metadata": {},
   "cell_type": "markdown",
   "source": "## Делаем сабмишн",
   "id": "308cdc9df9c82b23"
  },
  {
   "metadata": {},
   "cell_type": "markdown",
   "source": "### Сабмишн делаем из той модели, которая обучалась на валидации",
   "id": "a96c232f63b593ca"
  },
  {
   "metadata": {
    "ExecuteTime": {
     "end_time": "2025-05-12T20:47:30.039105Z",
     "start_time": "2025-05-12T18:24:35.239799Z"
    }
   },
   "cell_type": "code",
   "outputs": [
    {
     "data": {
      "text/plain": [
       "(4277, 15)"
      ]
     },
     "execution_count": 25,
     "metadata": {},
     "output_type": "execute_result"
    }
   ],
   "execution_count": 25,
   "source": "X_submission.shape",
   "id": "fd7213ed5a1fa524"
  },
  {
   "metadata": {
    "ExecuteTime": {
     "end_time": "2025-05-12T20:47:30.039163Z",
     "start_time": "2025-05-12T18:41:36.310850Z"
    }
   },
   "cell_type": "code",
   "outputs": [],
   "execution_count": 25,
   "source": [
    "X_submission_processed = preprocessor.transform(X_submission)\n",
    "submission_ds = make_dataset(X_submission_processed, None, batch_size=64)"
   ],
   "id": "b59f138b9037a328"
  },
  {
   "metadata": {
    "ExecuteTime": {
     "end_time": "2025-05-12T20:47:30.039457Z",
     "start_time": "2025-05-12T18:41:36.513918Z"
    }
   },
   "cell_type": "code",
   "outputs": [
    {
     "name": "stdout",
     "output_type": "stream",
     "text": [
      "\u001B[1m67/67\u001B[0m \u001B[32m━━━━━━━━━━━━━━━━━━━━\u001B[0m\u001B[37m\u001B[0m \u001B[1m0s\u001B[0m 2ms/step\n"
     ]
    },
    {
     "data": {
      "text/plain": [
       "array([0.5425285 , 0.03048058, 0.997546  , ..., 0.9732298 , 0.7276377 ,\n",
       "       0.56698316], dtype=float32)"
      ]
     },
     "execution_count": 26,
     "metadata": {},
     "output_type": "execute_result"
    }
   ],
   "execution_count": 26,
   "source": [
    "# Получаем вероятности\n",
    "probs = model.predict(submission_ds)      # shape = (num_samples, 1)\n",
    "probs = probs.ravel()               # shape = (num_samples,)\n",
    "probs"
   ],
   "id": "a6c25298b747e935"
  },
  {
   "metadata": {
    "ExecuteTime": {
     "end_time": "2025-05-12T20:47:30.039536Z",
     "start_time": "2025-05-12T18:41:37.614583Z"
    }
   },
   "cell_type": "code",
   "outputs": [
    {
     "data": {
      "text/plain": [
       "(array([ True, False,  True, ...,  True,  True,  True]), 4277)"
      ]
     },
     "execution_count": 27,
     "metadata": {},
     "output_type": "execute_result"
    }
   ],
   "execution_count": 27,
   "source": [
    "# Конвертация в булевы метки (threshold=0.5)\n",
    "labels = probs > 0.5                # array of True/False\n",
    "labels, len(labels)"
   ],
   "id": "b76786ff0510b754"
  },
  {
   "metadata": {
    "ExecuteTime": {
     "end_time": "2025-05-12T20:47:30.039602Z",
     "start_time": "2025-05-12T18:41:42.562405Z"
    }
   },
   "cell_type": "code",
   "outputs": [
    {
     "data": {
      "text/plain": [
       "  PassengerId  Transported\n",
       "0     0013_01         True\n",
       "1     0018_01        False\n",
       "2     0019_01         True\n",
       "3     0021_01         True\n",
       "4     0023_01        False"
      ],
      "text/html": [
       "<div>\n",
       "<style scoped>\n",
       "    .dataframe tbody tr th:only-of-type {\n",
       "        vertical-align: middle;\n",
       "    }\n",
       "\n",
       "    .dataframe tbody tr th {\n",
       "        vertical-align: top;\n",
       "    }\n",
       "\n",
       "    .dataframe thead th {\n",
       "        text-align: right;\n",
       "    }\n",
       "</style>\n",
       "<table border=\"1\" class=\"dataframe\">\n",
       "  <thead>\n",
       "    <tr style=\"text-align: right;\">\n",
       "      <th></th>\n",
       "      <th>PassengerId</th>\n",
       "      <th>Transported</th>\n",
       "    </tr>\n",
       "  </thead>\n",
       "  <tbody>\n",
       "    <tr>\n",
       "      <th>0</th>\n",
       "      <td>0013_01</td>\n",
       "      <td>True</td>\n",
       "    </tr>\n",
       "    <tr>\n",
       "      <th>1</th>\n",
       "      <td>0018_01</td>\n",
       "      <td>False</td>\n",
       "    </tr>\n",
       "    <tr>\n",
       "      <th>2</th>\n",
       "      <td>0019_01</td>\n",
       "      <td>True</td>\n",
       "    </tr>\n",
       "    <tr>\n",
       "      <th>3</th>\n",
       "      <td>0021_01</td>\n",
       "      <td>True</td>\n",
       "    </tr>\n",
       "    <tr>\n",
       "      <th>4</th>\n",
       "      <td>0023_01</td>\n",
       "      <td>False</td>\n",
       "    </tr>\n",
       "  </tbody>\n",
       "</table>\n",
       "</div>"
      ]
     },
     "execution_count": 28,
     "metadata": {},
     "output_type": "execute_result"
    }
   ],
   "execution_count": 28,
   "source": [
    "# Собираем submission\n",
    "submission = pd.DataFrame({\n",
    "    'PassengerId': test_data['PassengerId'],\n",
    "    'Transported': labels\n",
    "})\n",
    "submission.to_csv('DNN_submission_v6.csv', index=False)\n",
    "submission.head()"
   ],
   "id": "60b8f25fb366161"
  },
  {
   "metadata": {},
   "cell_type": "code",
   "outputs": [],
   "execution_count": null,
   "source": "",
   "id": "1a212a695710a00"
  },
  {
   "metadata": {},
   "cell_type": "markdown",
   "source": "### Сабмишн делаем, обучая модель на всех данных разом",
   "id": "936a09270d2d3e1e"
  },
  {
   "metadata": {
    "ExecuteTime": {
     "end_time": "2025-05-13T08:22:51.756759Z",
     "start_time": "2025-05-13T08:22:51.724980Z"
    }
   },
   "cell_type": "code",
   "source": [
    "def train_model_final(\n",
    "        shape,\n",
    "        ds,\n",
    "        epochs=100,\n",
    "        reduce_lr_factor=0.5,\n",
    "        reduce_lr_patience=10,  # Увеличиваем patience, так как нет валидации\n",
    "        verbose=2,\n",
    "        experiment_name=\"classification experiment\",\n",
    "        run_name=\"DNN - Final Model Submission\",\n",
    "):\n",
    "    \"\"\"Обучение модели на всех данных с ограниченными колбэками\"\"\"\n",
    "    \n",
    "    # Если есть открытый run — закроем его\n",
    "    active = mlflow.active_run()\n",
    "    if active is not None and active.info.lifecycle_stage == 'active':\n",
    "        mlflow.end_run()\n",
    "    \n",
    "    mlflow.set_experiment(experiment_name)\n",
    "    with mlflow.start_run(run_name=run_name) as run:\n",
    "        \n",
    "        # Только колбэки, которые не требуют валидационных данных\n",
    "        callbacks = [\n",
    "            # ReduceLROnPlateau может работать с loss (а не val_loss)\n",
    "            tf.keras.callbacks.ReduceLROnPlateau(\n",
    "                monitor='loss',  # Изменили на loss вместо val_loss\n",
    "                factor=reduce_lr_factor,\n",
    "                patience=reduce_lr_patience,\n",
    "                min_lr=1e-6,\n",
    "                verbose=1\n",
    "            )\n",
    "        ]\n",
    "        \n",
    "        new_model = create_model(shape, random_state=RANDOM_STATE)\n",
    "        model_history = new_model.fit(\n",
    "            ds,\n",
    "            epochs=epochs,\n",
    "            callbacks=callbacks,\n",
    "            verbose=verbose\n",
    "        )\n",
    "        \n",
    "        return new_model, model_history"
   ],
   "id": "20b00ce0230ad4d3",
   "outputs": [],
   "execution_count": 26
  },
  {
   "metadata": {
    "ExecuteTime": {
     "end_time": "2025-05-13T08:22:53.740128Z",
     "start_time": "2025-05-13T08:22:53.668875Z"
    }
   },
   "cell_type": "code",
   "source": [
    "# Сначала обучим модель на ВСЕХ данных\n",
    "preprocessor.fit(X)\n",
    "X_processed = preprocessor.transform(X)\n",
    "X_submission_processed = preprocessor.transform(X_submission)\n",
    "\n",
    "print(f\"Формы данных после препроцессинга:\")\n",
    "print(X_processed.shape, X_submission_processed.shape)"
   ],
   "id": "75bc110068bacaa9",
   "outputs": [
    {
     "name": "stdout",
     "output_type": "stream",
     "text": [
      "Формы данных после препроцессинга:\n",
      "(8693, 29) (4277, 29)\n"
     ]
    }
   ],
   "execution_count": 27
  },
  {
   "metadata": {
    "ExecuteTime": {
     "end_time": "2025-05-13T08:23:20.868445Z",
     "start_time": "2025-05-13T08:23:20.742515Z"
    }
   },
   "cell_type": "code",
   "source": [
    "final_train_ds = make_dataset(X_processed, y, batch_size=BATCH_SIZE, shuffle=True)\n",
    "submission_ds = make_dataset(X_submission_processed, None, batch_size=BATCH_SIZE)"
   ],
   "id": "987fa9417524b7b1",
   "outputs": [],
   "execution_count": 28
  },
  {
   "metadata": {
    "ExecuteTime": {
     "end_time": "2025-05-13T08:29:51.380584Z",
     "start_time": "2025-05-13T08:29:51.296777Z"
    }
   },
   "cell_type": "code",
   "source": [
    "# Из истории валидации находим оптимальное количество эпох\n",
    "best_epoch = np.argmin(history.history['val_loss']) + 1  # +1 так как индексация с 0\n",
    "# Добавляем относительный запас (например, 20% больше)\n",
    "final_epochs = int(best_epoch * 1.2)\n",
    "print(f\"Best validation epoch: {best_epoch}\")\n",
    "print(f\"Final training epochs: {final_epochs}\")"
   ],
   "id": "ca7d9612be613a33",
   "outputs": [
    {
     "name": "stdout",
     "output_type": "stream",
     "text": [
      "Best validation epoch: 22\n",
      "Final training epochs: 26\n"
     ]
    }
   ],
   "execution_count": 32
  },
  {
   "metadata": {
    "ExecuteTime": {
     "end_time": "2025-05-13T08:24:18.592334Z",
     "start_time": "2025-05-13T08:24:02.408077Z"
    }
   },
   "cell_type": "code",
   "source": [
    "# Обучаем модель на всех данных\n",
    "final_model, _ = train_model_final(\n",
    "    shape=X_processed.shape[1],\n",
    "    ds=final_train_ds,\n",
    "    epochs=best_epoch,\n",
    "    experiment_name=\"classification experiment\",\n",
    "    run_name=f\"DNN - Final Submission ({final_epochs} epochs)\"\n",
    ") "
   ],
   "id": "acde7b41f0de11c2",
   "outputs": [
    {
     "data": {
      "text/plain": [],
      "text/html": [
       "<pre style=\"white-space:pre;overflow-x:auto;line-height:normal;font-family:Menlo,'DejaVu Sans Mono',consolas,'Courier New',monospace\"></pre>\n"
      ]
     },
     "metadata": {},
     "output_type": "display_data"
    },
    {
     "name": "stdout",
     "output_type": "stream",
     "text": [
      "Epoch 1/32\n",
      "136/136 - 2s - 11ms/step - accuracy: 0.7271 - auc: 0.8047 - loss: 0.5834 - learning_rate: 0.0010\n",
      "Epoch 2/32\n",
      "136/136 - 0s - 2ms/step - accuracy: 0.7860 - auc: 0.8700 - loss: 0.4877 - learning_rate: 0.0010\n",
      "Epoch 3/32\n",
      "136/136 - 0s - 2ms/step - accuracy: 0.7924 - auc: 0.8791 - loss: 0.4706 - learning_rate: 0.0010\n",
      "Epoch 4/32\n",
      "136/136 - 0s - 2ms/step - accuracy: 0.7913 - auc: 0.8820 - loss: 0.4632 - learning_rate: 0.0010\n",
      "Epoch 5/32\n",
      "136/136 - 0s - 2ms/step - accuracy: 0.7998 - auc: 0.8877 - loss: 0.4527 - learning_rate: 0.0010\n",
      "Epoch 6/32\n",
      "136/136 - 0s - 2ms/step - accuracy: 0.8048 - auc: 0.8902 - loss: 0.4479 - learning_rate: 0.0010\n",
      "Epoch 7/32\n",
      "136/136 - 0s - 2ms/step - accuracy: 0.8059 - auc: 0.8922 - loss: 0.4436 - learning_rate: 0.0010\n",
      "Epoch 8/32\n",
      "136/136 - 0s - 2ms/step - accuracy: 0.8094 - auc: 0.8953 - loss: 0.4381 - learning_rate: 0.0010\n",
      "Epoch 9/32\n",
      "136/136 - 0s - 2ms/step - accuracy: 0.8079 - auc: 0.8954 - loss: 0.4352 - learning_rate: 0.0010\n",
      "Epoch 10/32\n",
      "136/136 - 0s - 2ms/step - accuracy: 0.8049 - auc: 0.8956 - loss: 0.4357 - learning_rate: 0.0010\n",
      "Epoch 11/32\n",
      "136/136 - 0s - 2ms/step - accuracy: 0.8069 - auc: 0.8970 - loss: 0.4326 - learning_rate: 0.0010\n",
      "Epoch 12/32\n",
      "136/136 - 0s - 2ms/step - accuracy: 0.8128 - auc: 0.8988 - loss: 0.4295 - learning_rate: 0.0010\n",
      "Epoch 13/32\n",
      "136/136 - 0s - 2ms/step - accuracy: 0.8134 - auc: 0.8980 - loss: 0.4294 - learning_rate: 0.0010\n",
      "Epoch 14/32\n",
      "136/136 - 0s - 2ms/step - accuracy: 0.8079 - auc: 0.8995 - loss: 0.4256 - learning_rate: 0.0010\n",
      "Epoch 15/32\n",
      "136/136 - 0s - 2ms/step - accuracy: 0.8054 - auc: 0.8983 - loss: 0.4262 - learning_rate: 0.0010\n",
      "Epoch 16/32\n",
      "136/136 - 0s - 2ms/step - accuracy: 0.8089 - auc: 0.8988 - loss: 0.4265 - learning_rate: 0.0010\n",
      "Epoch 17/32\n",
      "136/136 - 0s - 2ms/step - accuracy: 0.8088 - auc: 0.9000 - loss: 0.4229 - learning_rate: 0.0010\n",
      "Epoch 18/32\n",
      "136/136 - 0s - 2ms/step - accuracy: 0.8109 - auc: 0.8993 - loss: 0.4238 - learning_rate: 0.0010\n",
      "Epoch 19/32\n",
      "136/136 - 0s - 2ms/step - accuracy: 0.8104 - auc: 0.9011 - loss: 0.4180 - learning_rate: 0.0010\n",
      "Epoch 20/32\n",
      "136/136 - 0s - 2ms/step - accuracy: 0.8170 - auc: 0.9032 - loss: 0.4141 - learning_rate: 0.0010\n",
      "Epoch 21/32\n",
      "136/136 - 0s - 2ms/step - accuracy: 0.8143 - auc: 0.9029 - loss: 0.4136 - learning_rate: 0.0010\n",
      "Epoch 22/32\n",
      "136/136 - 0s - 2ms/step - accuracy: 0.8132 - auc: 0.9020 - loss: 0.4158 - learning_rate: 0.0010\n",
      "Epoch 23/32\n",
      "136/136 - 0s - 2ms/step - accuracy: 0.8102 - auc: 0.9017 - loss: 0.4150 - learning_rate: 0.0010\n",
      "Epoch 24/32\n",
      "136/136 - 0s - 2ms/step - accuracy: 0.8154 - auc: 0.9041 - loss: 0.4111 - learning_rate: 0.0010\n",
      "Epoch 25/32\n",
      "136/136 - 0s - 2ms/step - accuracy: 0.8141 - auc: 0.9036 - loss: 0.4121 - learning_rate: 0.0010\n",
      "Epoch 26/32\n",
      "136/136 - 0s - 2ms/step - accuracy: 0.8119 - auc: 0.9023 - loss: 0.4155 - learning_rate: 0.0010\n",
      "Epoch 27/32\n",
      "136/136 - 0s - 2ms/step - accuracy: 0.8151 - auc: 0.9062 - loss: 0.4078 - learning_rate: 0.0010\n",
      "Epoch 28/32\n",
      "136/136 - 0s - 2ms/step - accuracy: 0.8156 - auc: 0.9039 - loss: 0.4114 - learning_rate: 0.0010\n",
      "Epoch 29/32\n",
      "136/136 - 0s - 2ms/step - accuracy: 0.8184 - auc: 0.9063 - loss: 0.4052 - learning_rate: 0.0010\n",
      "Epoch 30/32\n",
      "136/136 - 0s - 2ms/step - accuracy: 0.8136 - auc: 0.9056 - loss: 0.4070 - learning_rate: 0.0010\n",
      "Epoch 31/32\n",
      "136/136 - 0s - 2ms/step - accuracy: 0.8173 - auc: 0.9046 - loss: 0.4088 - learning_rate: 0.0010\n",
      "Epoch 32/32\n",
      "136/136 - 0s - 2ms/step - accuracy: 0.8200 - auc: 0.9066 - loss: 0.4047 - learning_rate: 0.0010\n"
     ]
    }
   ],
   "execution_count": 30
  },
  {
   "metadata": {
    "ExecuteTime": {
     "end_time": "2025-05-13T08:24:53.405762Z",
     "start_time": "2025-05-13T08:24:53.141961Z"
    }
   },
   "cell_type": "code",
   "source": [
    "# Получаем вероятности\n",
    "probs = final_model.predict(submission_ds)      # shape = (num_samples, 1)\n",
    "probs = probs.ravel()               # shape = (num_samples,)\n",
    "\n",
    "# Конвертация в булевы метки (threshold=0.5)\n",
    "labels = probs > 0.5                # array of True/False\n",
    "labels, len(labels)\n",
    "\n",
    "# Собираем submission\n",
    "submission = pd.DataFrame({\n",
    "    'PassengerId': test_data['PassengerId'],\n",
    "    'Transported': labels\n",
    "})\n",
    "submission.to_csv('DNN_submission_v22.csv', index=False)\n",
    "submission.head()"
   ],
   "id": "cf5d6f77b40162d5",
   "outputs": [
    {
     "name": "stdout",
     "output_type": "stream",
     "text": [
      "\u001B[1m67/67\u001B[0m \u001B[32m━━━━━━━━━━━━━━━━━━━━\u001B[0m\u001B[37m\u001B[0m \u001B[1m0s\u001B[0m 2ms/step\n"
     ]
    },
    {
     "data": {
      "text/plain": [
       "  PassengerId  Transported\n",
       "0     0013_01         True\n",
       "1     0018_01        False\n",
       "2     0019_01         True\n",
       "3     0021_01         True\n",
       "4     0023_01        False"
      ],
      "text/html": [
       "<div>\n",
       "<style scoped>\n",
       "    .dataframe tbody tr th:only-of-type {\n",
       "        vertical-align: middle;\n",
       "    }\n",
       "\n",
       "    .dataframe tbody tr th {\n",
       "        vertical-align: top;\n",
       "    }\n",
       "\n",
       "    .dataframe thead th {\n",
       "        text-align: right;\n",
       "    }\n",
       "</style>\n",
       "<table border=\"1\" class=\"dataframe\">\n",
       "  <thead>\n",
       "    <tr style=\"text-align: right;\">\n",
       "      <th></th>\n",
       "      <th>PassengerId</th>\n",
       "      <th>Transported</th>\n",
       "    </tr>\n",
       "  </thead>\n",
       "  <tbody>\n",
       "    <tr>\n",
       "      <th>0</th>\n",
       "      <td>0013_01</td>\n",
       "      <td>True</td>\n",
       "    </tr>\n",
       "    <tr>\n",
       "      <th>1</th>\n",
       "      <td>0018_01</td>\n",
       "      <td>False</td>\n",
       "    </tr>\n",
       "    <tr>\n",
       "      <th>2</th>\n",
       "      <td>0019_01</td>\n",
       "      <td>True</td>\n",
       "    </tr>\n",
       "    <tr>\n",
       "      <th>3</th>\n",
       "      <td>0021_01</td>\n",
       "      <td>True</td>\n",
       "    </tr>\n",
       "    <tr>\n",
       "      <th>4</th>\n",
       "      <td>0023_01</td>\n",
       "      <td>False</td>\n",
       "    </tr>\n",
       "  </tbody>\n",
       "</table>\n",
       "</div>"
      ]
     },
     "execution_count": 31,
     "metadata": {},
     "output_type": "execute_result"
    }
   ],
   "execution_count": 31
  },
  {
   "metadata": {
    "ExecuteTime": {
     "end_time": "2025-05-13T09:02:36.323442Z",
     "start_time": "2025-05-13T09:02:36.224112Z"
    }
   },
   "cell_type": "code",
   "source": "# Надо улучшить optuna, чтобы она делала подбор, основываясь на разных валидационных срезах, потому что ВРУЧНУЮ подбирать - нереально",
   "id": "9c53a8e4e8900eff",
   "outputs": [],
   "execution_count": 24
  },
  {
   "metadata": {},
   "cell_type": "code",
   "outputs": [],
   "execution_count": null,
   "source": "",
   "id": "71cca3bff5d2588b"
  }
 ],
 "metadata": {
  "kernelspec": {
   "display_name": "Python 3",
   "language": "python",
   "name": "python3"
  },
  "language_info": {
   "codemirror_mode": {
    "name": "ipython",
    "version": 2
   },
   "file_extension": ".py",
   "mimetype": "text/x-python",
   "name": "python",
   "nbconvert_exporter": "python",
   "pygments_lexer": "ipython2",
   "version": "2.7.6"
  }
 },
 "nbformat": 4,
 "nbformat_minor": 5
}

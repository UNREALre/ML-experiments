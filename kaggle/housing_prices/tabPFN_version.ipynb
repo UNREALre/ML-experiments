{
 "cells": [
  {
   "metadata": {},
   "cell_type": "markdown",
   "source": [
    "# Пробуем реализовать задачу через TabPFN\n",
    "https://github.com/PriorLabs/TabPFN?tab=readme-ov-file"
   ],
   "id": "75bbbe8fa7de7cd9"
  },
  {
   "cell_type": "code",
   "id": "initial_id",
   "metadata": {
    "collapsed": true,
    "ExecuteTime": {
     "end_time": "2025-04-06T12:00:34.185721Z",
     "start_time": "2025-04-06T12:00:09.656082Z"
    }
   },
   "source": [
    "# Install sklearn\n",
    "!pip install scikit-learn==1.5.2\n",
    "\n",
    "# Install TabPFN API Client\n",
    "!pip install tabpfn-client\n",
    "\n",
    "# TabPFN Extensions installs optional functionalities around the TabPFN model\n",
    "# These include post-hoc ensembles, interpretability tools, and more\n",
    "!git clone https://github.com/PriorLabs/tabpfn-extensions\n",
    "!pip install -e tabpfn-extensions\n",
    "!pip install tabpfn # TabPFN, currently required by tabpfn-extensions, but not basic usage\n",
    "\n",
    "\n",
    "# Install Baselines\n",
    "!pip install catboost xgboost\n",
    "\n",
    "# Install example datasets\n",
    "!pip install datasets"
   ],
   "outputs": [
    {
     "name": "stdout",
     "output_type": "stream",
     "text": [
      "Collecting scikit-learn==1.5.2\r\n",
      "  Downloading scikit_learn-1.5.2-cp312-cp312-macosx_12_0_arm64.whl.metadata (13 kB)\r\n",
      "Requirement already satisfied: numpy>=1.19.5 in /Users/unrealre/.pyenv/versions/3.12.8/envs/ML_312/lib/python3.12/site-packages (from scikit-learn==1.5.2) (1.26.4)\r\n",
      "Requirement already satisfied: scipy>=1.6.0 in /Users/unrealre/.pyenv/versions/3.12.8/envs/ML_312/lib/python3.12/site-packages (from scikit-learn==1.5.2) (1.15.2)\r\n",
      "Requirement already satisfied: joblib>=1.2.0 in /Users/unrealre/.pyenv/versions/3.12.8/envs/ML_312/lib/python3.12/site-packages (from scikit-learn==1.5.2) (1.4.2)\r\n",
      "Requirement already satisfied: threadpoolctl>=3.1.0 in /Users/unrealre/.pyenv/versions/3.12.8/envs/ML_312/lib/python3.12/site-packages (from scikit-learn==1.5.2) (3.6.0)\r\n",
      "Downloading scikit_learn-1.5.2-cp312-cp312-macosx_12_0_arm64.whl (11.0 MB)\r\n",
      "\u001B[2K   \u001B[90m━━━━━━━━━━━━━━━━━━━━━━━━━━━━━━━━━━━━━━━━\u001B[0m \u001B[32m11.0/11.0 MB\u001B[0m \u001B[31m2.7 MB/s\u001B[0m eta \u001B[36m0:00:00\u001B[0m00:01\u001B[0m00:01\u001B[0m\r\n",
      "\u001B[?25hInstalling collected packages: scikit-learn\r\n",
      "  Attempting uninstall: scikit-learn\r\n",
      "    Found existing installation: scikit-learn 1.6.1\r\n",
      "    Uninstalling scikit-learn-1.6.1:\r\n",
      "      Successfully uninstalled scikit-learn-1.6.1\r\n",
      "\u001B[31mERROR: pip's dependency resolver does not currently take into account all the packages that are installed. This behaviour is the source of the following dependency conflicts.\r\n",
      "category-encoders 2.8.1 requires scikit-learn>=1.6.0, but you have scikit-learn 1.5.2 which is incompatible.\u001B[0m\u001B[31m\r\n",
      "\u001B[0mSuccessfully installed scikit-learn-1.5.2\r\n",
      "\r\n",
      "\u001B[1m[\u001B[0m\u001B[34;49mnotice\u001B[0m\u001B[1;39;49m]\u001B[0m\u001B[39;49m A new release of pip is available: \u001B[0m\u001B[31;49m24.3.1\u001B[0m\u001B[39;49m -> \u001B[0m\u001B[32;49m25.0.1\u001B[0m\r\n",
      "\u001B[1m[\u001B[0m\u001B[34;49mnotice\u001B[0m\u001B[1;39;49m]\u001B[0m\u001B[39;49m To update, run: \u001B[0m\u001B[32;49mpip install --upgrade pip\u001B[0m\r\n",
      "Collecting tabpfn-client\r\n",
      "  Downloading tabpfn_client-0.1.7-py3-none-any.whl.metadata (14 kB)\r\n",
      "Requirement already satisfied: httpx<=0.28.1,>=0.25.0 in /Users/unrealre/.pyenv/versions/3.12.8/envs/ML_312/lib/python3.12/site-packages (from tabpfn-client) (0.28.1)\r\n",
      "Collecting omegaconf<=2.3.0,>=2.1.2 (from tabpfn-client)\r\n",
      "  Downloading omegaconf-2.3.0-py3-none-any.whl.metadata (3.9 kB)\r\n",
      "Requirement already satisfied: pandas<=2.2.3,>=2.1.2 in /Users/unrealre/.pyenv/versions/3.12.8/envs/ML_312/lib/python3.12/site-packages (from tabpfn-client) (2.2.3)\r\n",
      "\u001B[33m  DEPRECATION: Wheel filename 'password_strength-0.0.1_1-py2-none-any.whl' is not correctly normalised. Future versions of pip will raise the following error:\r\n",
      "  Invalid wheel filename (invalid version): password_strength-0.0.1_1-py2-none-any\r\n",
      "  \r\n",
      "   pip 25.1 will enforce this behaviour change. A possible replacement is to rename the wheel to use a correctly normalised name (this may require updating the version in the project metadata). Discussion can be found at https://github.com/pypa/pip/issues/12938\u001B[0m\u001B[33m\r\n",
      "\u001B[0m\u001B[33m  DEPRECATION: Wheel filename 'password_strength-0.0.2_0-py2-none-any.whl' is not correctly normalised. Future versions of pip will raise the following error:\r\n",
      "  Invalid wheel filename (invalid version): password_strength-0.0.2_0-py2-none-any\r\n",
      "  \r\n",
      "   pip 25.1 will enforce this behaviour change. A possible replacement is to rename the wheel to use a correctly normalised name (this may require updating the version in the project metadata). Discussion can be found at https://github.com/pypa/pip/issues/12938\u001B[0m\u001B[33m\r\n",
      "\u001B[0mCollecting password-strength<=0.0.3.post2,>=0.0.3.post2 (from tabpfn-client)\r\n",
      "  Downloading password_strength-0.0.3.post2-py2.py3-none-any.whl.metadata (10 kB)\r\n",
      "Requirement already satisfied: scikit-learn<=1.6.1,>=1.3.1 in /Users/unrealre/.pyenv/versions/3.12.8/envs/ML_312/lib/python3.12/site-packages (from tabpfn-client) (1.5.2)\r\n",
      "Collecting sseclient-py<=1.8.0,>=1.8.0 (from tabpfn-client)\r\n",
      "  Downloading sseclient_py-1.8.0-py2.py3-none-any.whl.metadata (2.0 kB)\r\n",
      "Requirement already satisfied: tqdm<=4.67.1,>=4.63.0 in /Users/unrealre/.pyenv/versions/3.12.8/envs/ML_312/lib/python3.12/site-packages (from tabpfn-client) (4.67.1)\r\n",
      "Requirement already satisfied: xxhash<=3.5,>=1.1.0 in /Users/unrealre/.pyenv/versions/3.12.8/envs/ML_312/lib/python3.12/site-packages (from tabpfn-client) (3.5.0)\r\n",
      "Requirement already satisfied: anyio in /Users/unrealre/.pyenv/versions/3.12.8/envs/ML_312/lib/python3.12/site-packages (from httpx<=0.28.1,>=0.25.0->tabpfn-client) (4.8.0)\r\n",
      "Requirement already satisfied: certifi in /Users/unrealre/.pyenv/versions/3.12.8/envs/ML_312/lib/python3.12/site-packages (from httpx<=0.28.1,>=0.25.0->tabpfn-client) (2025.1.31)\r\n",
      "Requirement already satisfied: httpcore==1.* in /Users/unrealre/.pyenv/versions/3.12.8/envs/ML_312/lib/python3.12/site-packages (from httpx<=0.28.1,>=0.25.0->tabpfn-client) (1.0.7)\r\n",
      "Requirement already satisfied: idna in /Users/unrealre/.pyenv/versions/3.12.8/envs/ML_312/lib/python3.12/site-packages (from httpx<=0.28.1,>=0.25.0->tabpfn-client) (3.10)\r\n",
      "Requirement already satisfied: h11<0.15,>=0.13 in /Users/unrealre/.pyenv/versions/3.12.8/envs/ML_312/lib/python3.12/site-packages (from httpcore==1.*->httpx<=0.28.1,>=0.25.0->tabpfn-client) (0.14.0)\r\n",
      "Collecting antlr4-python3-runtime==4.9.* (from omegaconf<=2.3.0,>=2.1.2->tabpfn-client)\r\n",
      "  Downloading antlr4-python3-runtime-4.9.3.tar.gz (117 kB)\r\n",
      "  Installing build dependencies ... \u001B[?25ldone\r\n",
      "\u001B[?25h  Getting requirements to build wheel ... \u001B[?25ldone\r\n",
      "\u001B[?25h  Preparing metadata (pyproject.toml) ... \u001B[?25ldone\r\n",
      "\u001B[?25hRequirement already satisfied: PyYAML>=5.1.0 in /Users/unrealre/.pyenv/versions/3.12.8/envs/ML_312/lib/python3.12/site-packages (from omegaconf<=2.3.0,>=2.1.2->tabpfn-client) (6.0.2)\r\n",
      "Requirement already satisfied: numpy>=1.26.0 in /Users/unrealre/.pyenv/versions/3.12.8/envs/ML_312/lib/python3.12/site-packages (from pandas<=2.2.3,>=2.1.2->tabpfn-client) (1.26.4)\r\n",
      "Requirement already satisfied: python-dateutil>=2.8.2 in /Users/unrealre/.pyenv/versions/3.12.8/envs/ML_312/lib/python3.12/site-packages (from pandas<=2.2.3,>=2.1.2->tabpfn-client) (2.9.0.post0)\r\n",
      "Requirement already satisfied: pytz>=2020.1 in /Users/unrealre/.pyenv/versions/3.12.8/envs/ML_312/lib/python3.12/site-packages (from pandas<=2.2.3,>=2.1.2->tabpfn-client) (2025.1)\r\n",
      "Requirement already satisfied: tzdata>=2022.7 in /Users/unrealre/.pyenv/versions/3.12.8/envs/ML_312/lib/python3.12/site-packages (from pandas<=2.2.3,>=2.1.2->tabpfn-client) (2025.1)\r\n",
      "Requirement already satisfied: six in /Users/unrealre/.pyenv/versions/3.12.8/envs/ML_312/lib/python3.12/site-packages (from password-strength<=0.0.3.post2,>=0.0.3.post2->tabpfn-client) (1.17.0)\r\n",
      "Requirement already satisfied: scipy>=1.6.0 in /Users/unrealre/.pyenv/versions/3.12.8/envs/ML_312/lib/python3.12/site-packages (from scikit-learn<=1.6.1,>=1.3.1->tabpfn-client) (1.15.2)\r\n",
      "Requirement already satisfied: joblib>=1.2.0 in /Users/unrealre/.pyenv/versions/3.12.8/envs/ML_312/lib/python3.12/site-packages (from scikit-learn<=1.6.1,>=1.3.1->tabpfn-client) (1.4.2)\r\n",
      "Requirement already satisfied: threadpoolctl>=3.1.0 in /Users/unrealre/.pyenv/versions/3.12.8/envs/ML_312/lib/python3.12/site-packages (from scikit-learn<=1.6.1,>=1.3.1->tabpfn-client) (3.6.0)\r\n",
      "Requirement already satisfied: sniffio>=1.1 in /Users/unrealre/.pyenv/versions/3.12.8/envs/ML_312/lib/python3.12/site-packages (from anyio->httpx<=0.28.1,>=0.25.0->tabpfn-client) (1.3.1)\r\n",
      "Requirement already satisfied: typing_extensions>=4.5 in /Users/unrealre/.pyenv/versions/3.12.8/envs/ML_312/lib/python3.12/site-packages (from anyio->httpx<=0.28.1,>=0.25.0->tabpfn-client) (4.12.2)\r\n",
      "Downloading tabpfn_client-0.1.7-py3-none-any.whl (1.9 MB)\r\n",
      "\u001B[2K   \u001B[90m━━━━━━━━━━━━━━━━━━━━━━━━━━━━━━━━━━━━━━━━\u001B[0m \u001B[32m1.9/1.9 MB\u001B[0m \u001B[31m1.3 MB/s\u001B[0m eta \u001B[36m0:00:00\u001B[0ma \u001B[36m0:00:01\u001B[0m0m\r\n",
      "\u001B[?25hDownloading omegaconf-2.3.0-py3-none-any.whl (79 kB)\r\n",
      "Downloading password_strength-0.0.3.post2-py2.py3-none-any.whl (12 kB)\r\n",
      "Downloading sseclient_py-1.8.0-py2.py3-none-any.whl (8.8 kB)\r\n",
      "Building wheels for collected packages: antlr4-python3-runtime\r\n",
      "  Building wheel for antlr4-python3-runtime (pyproject.toml) ... \u001B[?25ldone\r\n",
      "\u001B[?25h  Created wheel for antlr4-python3-runtime: filename=antlr4_python3_runtime-4.9.3-py3-none-any.whl size=144592 sha256=4822727143973ed9122b6a7d29187e512c88638e87841475a711af49a584238b\r\n",
      "  Stored in directory: /Users/unrealre/Library/Caches/pip/wheels/1f/be/48/13754633f1d08d1fbfc60d5e80ae1e5d7329500477685286cd\r\n",
      "Successfully built antlr4-python3-runtime\r\n",
      "Installing collected packages: sseclient-py, antlr4-python3-runtime, password-strength, omegaconf, tabpfn-client\r\n",
      "Successfully installed antlr4-python3-runtime-4.9.3 omegaconf-2.3.0 password-strength-0.0.3.post2 sseclient-py-1.8.0 tabpfn-client-0.1.7\r\n",
      "\r\n",
      "\u001B[1m[\u001B[0m\u001B[34;49mnotice\u001B[0m\u001B[1;39;49m]\u001B[0m\u001B[39;49m A new release of pip is available: \u001B[0m\u001B[31;49m24.3.1\u001B[0m\u001B[39;49m -> \u001B[0m\u001B[32;49m25.0.1\u001B[0m\r\n",
      "\u001B[1m[\u001B[0m\u001B[34;49mnotice\u001B[0m\u001B[1;39;49m]\u001B[0m\u001B[39;49m To update, run: \u001B[0m\u001B[32;49mpip install --upgrade pip\u001B[0m\r\n",
      "Cloning into 'tabpfn-extensions'...\r\n",
      "remote: Enumerating objects: 1777, done.\u001B[K\r\n",
      "remote: Counting objects: 100% (276/276), done.\u001B[K\r\n",
      "remote: Compressing objects: 100% (166/166), done.\u001B[K\r\n",
      "remote: Total 1777 (delta 143), reused 148 (delta 95), pack-reused 1501 (from 1)\u001B[K\r\n",
      "Receiving objects: 100% (1777/1777), 695.82 KiB | 1.71 MiB/s, done.\r\n",
      "Resolving deltas: 100% (1072/1072), done.\r\n",
      "Obtaining file:///Users/unrealre/PycharmProjects/ML/kaggle/housing_prices/tabpfn-extensions\r\n",
      "  Installing build dependencies ... \u001B[?25ldone\r\n",
      "\u001B[?25h  Checking if build backend supports build_editable ... \u001B[?25ldone\r\n",
      "\u001B[?25h  Getting requirements to build editable ... \u001B[?25ldone\r\n",
      "\u001B[?25h  Preparing editable metadata (pyproject.toml) ... \u001B[?25ldone\r\n",
      "\u001B[?25hRequirement already satisfied: torch<3,>=2.1 in /Users/unrealre/.pyenv/versions/3.12.8/envs/ML_312/lib/python3.12/site-packages (from tabpfn-extensions==0.1.0) (2.2.2)\r\n",
      "Requirement already satisfied: pandas<3,>=1.4.0 in /Users/unrealre/.pyenv/versions/3.12.8/envs/ML_312/lib/python3.12/site-packages (from tabpfn-extensions==0.1.0) (2.2.3)\r\n",
      "Requirement already satisfied: scikit-learn<1.7,>=1.2.0 in /Users/unrealre/.pyenv/versions/3.12.8/envs/ML_312/lib/python3.12/site-packages (from tabpfn-extensions==0.1.0) (1.5.2)\r\n",
      "Requirement already satisfied: scipy<2,>=1.7.3 in /Users/unrealre/.pyenv/versions/3.12.8/envs/ML_312/lib/python3.12/site-packages (from tabpfn-extensions==0.1.0) (1.15.2)\r\n",
      "Collecting tabpfn>=2.0.6 (from tabpfn-extensions==0.1.0)\r\n",
      "  Downloading tabpfn-2.0.8-py3-none-any.whl.metadata (25 kB)\r\n",
      "Requirement already satisfied: numpy<3,>=1.21.0 in /Users/unrealre/.pyenv/versions/3.12.8/envs/ML_312/lib/python3.12/site-packages (from tabpfn-extensions==0.1.0) (1.26.4)\r\n",
      "Requirement already satisfied: python-dateutil>=2.8.2 in /Users/unrealre/.pyenv/versions/3.12.8/envs/ML_312/lib/python3.12/site-packages (from pandas<3,>=1.4.0->tabpfn-extensions==0.1.0) (2.9.0.post0)\r\n",
      "Requirement already satisfied: pytz>=2020.1 in /Users/unrealre/.pyenv/versions/3.12.8/envs/ML_312/lib/python3.12/site-packages (from pandas<3,>=1.4.0->tabpfn-extensions==0.1.0) (2025.1)\r\n",
      "Requirement already satisfied: tzdata>=2022.7 in /Users/unrealre/.pyenv/versions/3.12.8/envs/ML_312/lib/python3.12/site-packages (from pandas<3,>=1.4.0->tabpfn-extensions==0.1.0) (2025.1)\r\n",
      "Requirement already satisfied: joblib>=1.2.0 in /Users/unrealre/.pyenv/versions/3.12.8/envs/ML_312/lib/python3.12/site-packages (from scikit-learn<1.7,>=1.2.0->tabpfn-extensions==0.1.0) (1.4.2)\r\n",
      "Requirement already satisfied: threadpoolctl>=3.1.0 in /Users/unrealre/.pyenv/versions/3.12.8/envs/ML_312/lib/python3.12/site-packages (from scikit-learn<1.7,>=1.2.0->tabpfn-extensions==0.1.0) (3.6.0)\r\n",
      "Requirement already satisfied: typing_extensions>=4.4.0 in /Users/unrealre/.pyenv/versions/3.12.8/envs/ML_312/lib/python3.12/site-packages (from tabpfn>=2.0.6->tabpfn-extensions==0.1.0) (4.12.2)\r\n",
      "Collecting einops<0.9,>=0.2.0 (from tabpfn>=2.0.6->tabpfn-extensions==0.1.0)\r\n",
      "  Downloading einops-0.8.1-py3-none-any.whl.metadata (13 kB)\r\n",
      "Requirement already satisfied: huggingface-hub<1,>=0.0.1 in /Users/unrealre/.pyenv/versions/3.12.8/envs/ML_312/lib/python3.12/site-packages (from tabpfn>=2.0.6->tabpfn-extensions==0.1.0) (0.30.0)\r\n",
      "Requirement already satisfied: filelock in /Users/unrealre/.pyenv/versions/3.12.8/envs/ML_312/lib/python3.12/site-packages (from torch<3,>=2.1->tabpfn-extensions==0.1.0) (3.18.0)\r\n",
      "Requirement already satisfied: sympy in /Users/unrealre/.pyenv/versions/3.12.8/envs/ML_312/lib/python3.12/site-packages (from torch<3,>=2.1->tabpfn-extensions==0.1.0) (1.13.1)\r\n",
      "Requirement already satisfied: networkx in /Users/unrealre/.pyenv/versions/3.12.8/envs/ML_312/lib/python3.12/site-packages (from torch<3,>=2.1->tabpfn-extensions==0.1.0) (2.8.8)\r\n",
      "Requirement already satisfied: jinja2 in /Users/unrealre/.pyenv/versions/3.12.8/envs/ML_312/lib/python3.12/site-packages (from torch<3,>=2.1->tabpfn-extensions==0.1.0) (3.1.6)\r\n",
      "Requirement already satisfied: fsspec in /Users/unrealre/.pyenv/versions/3.12.8/envs/ML_312/lib/python3.12/site-packages (from torch<3,>=2.1->tabpfn-extensions==0.1.0) (2024.12.0)\r\n",
      "Requirement already satisfied: packaging>=20.9 in /Users/unrealre/.pyenv/versions/3.12.8/envs/ML_312/lib/python3.12/site-packages (from huggingface-hub<1,>=0.0.1->tabpfn>=2.0.6->tabpfn-extensions==0.1.0) (24.2)\r\n",
      "Requirement already satisfied: pyyaml>=5.1 in /Users/unrealre/.pyenv/versions/3.12.8/envs/ML_312/lib/python3.12/site-packages (from huggingface-hub<1,>=0.0.1->tabpfn>=2.0.6->tabpfn-extensions==0.1.0) (6.0.2)\r\n",
      "Requirement already satisfied: requests in /Users/unrealre/.pyenv/versions/3.12.8/envs/ML_312/lib/python3.12/site-packages (from huggingface-hub<1,>=0.0.1->tabpfn>=2.0.6->tabpfn-extensions==0.1.0) (2.32.3)\r\n",
      "Requirement already satisfied: tqdm>=4.42.1 in /Users/unrealre/.pyenv/versions/3.12.8/envs/ML_312/lib/python3.12/site-packages (from huggingface-hub<1,>=0.0.1->tabpfn>=2.0.6->tabpfn-extensions==0.1.0) (4.67.1)\r\n",
      "Requirement already satisfied: six>=1.5 in /Users/unrealre/.pyenv/versions/3.12.8/envs/ML_312/lib/python3.12/site-packages (from python-dateutil>=2.8.2->pandas<3,>=1.4.0->tabpfn-extensions==0.1.0) (1.17.0)\r\n",
      "Requirement already satisfied: MarkupSafe>=2.0 in /Users/unrealre/.pyenv/versions/3.12.8/envs/ML_312/lib/python3.12/site-packages (from jinja2->torch<3,>=2.1->tabpfn-extensions==0.1.0) (3.0.2)\r\n",
      "Requirement already satisfied: mpmath<1.4,>=1.1.0 in /Users/unrealre/.pyenv/versions/3.12.8/envs/ML_312/lib/python3.12/site-packages (from sympy->torch<3,>=2.1->tabpfn-extensions==0.1.0) (1.3.0)\r\n",
      "Requirement already satisfied: charset-normalizer<4,>=2 in /Users/unrealre/.pyenv/versions/3.12.8/envs/ML_312/lib/python3.12/site-packages (from requests->huggingface-hub<1,>=0.0.1->tabpfn>=2.0.6->tabpfn-extensions==0.1.0) (3.4.1)\r\n",
      "Requirement already satisfied: idna<4,>=2.5 in /Users/unrealre/.pyenv/versions/3.12.8/envs/ML_312/lib/python3.12/site-packages (from requests->huggingface-hub<1,>=0.0.1->tabpfn>=2.0.6->tabpfn-extensions==0.1.0) (3.10)\r\n",
      "Requirement already satisfied: urllib3<3,>=1.21.1 in /Users/unrealre/.pyenv/versions/3.12.8/envs/ML_312/lib/python3.12/site-packages (from requests->huggingface-hub<1,>=0.0.1->tabpfn>=2.0.6->tabpfn-extensions==0.1.0) (2.3.0)\r\n",
      "Requirement already satisfied: certifi>=2017.4.17 in /Users/unrealre/.pyenv/versions/3.12.8/envs/ML_312/lib/python3.12/site-packages (from requests->huggingface-hub<1,>=0.0.1->tabpfn>=2.0.6->tabpfn-extensions==0.1.0) (2025.1.31)\r\n",
      "Downloading tabpfn-2.0.8-py3-none-any.whl (128 kB)\r\n",
      "Downloading einops-0.8.1-py3-none-any.whl (64 kB)\r\n",
      "Building wheels for collected packages: tabpfn-extensions\r\n",
      "  Building editable for tabpfn-extensions (pyproject.toml) ... \u001B[?25ldone\r\n",
      "\u001B[?25h  Created wheel for tabpfn-extensions: filename=tabpfn_extensions-0.1.0-0.editable-py3-none-any.whl size=11711 sha256=62e41c80c43508c2df7425e8620c3604d89542ce43d0de5f953634765038540a\r\n",
      "  Stored in directory: /private/var/folders/_t/k8s82s9172lg82__8pypwy540000gn/T/pip-ephem-wheel-cache-siqz74nw/wheels/c7/9b/26/6244ebaf9396b5328f03ab1f52f31069e718e7cfac61aa968e\r\n",
      "Successfully built tabpfn-extensions\r\n",
      "Installing collected packages: einops, tabpfn, tabpfn-extensions\r\n",
      "Successfully installed einops-0.8.1 tabpfn-2.0.8 tabpfn-extensions-0.1.0\r\n",
      "\r\n",
      "\u001B[1m[\u001B[0m\u001B[34;49mnotice\u001B[0m\u001B[1;39;49m]\u001B[0m\u001B[39;49m A new release of pip is available: \u001B[0m\u001B[31;49m24.3.1\u001B[0m\u001B[39;49m -> \u001B[0m\u001B[32;49m25.0.1\u001B[0m\r\n",
      "\u001B[1m[\u001B[0m\u001B[34;49mnotice\u001B[0m\u001B[1;39;49m]\u001B[0m\u001B[39;49m To update, run: \u001B[0m\u001B[32;49mpip install --upgrade pip\u001B[0m\r\n",
      "Requirement already satisfied: tabpfn in /Users/unrealre/.pyenv/versions/3.12.8/envs/ML_312/lib/python3.12/site-packages (2.0.8)\r\n",
      "Requirement already satisfied: torch<3,>=2.1 in /Users/unrealre/.pyenv/versions/3.12.8/envs/ML_312/lib/python3.12/site-packages (from tabpfn) (2.2.2)\r\n",
      "Requirement already satisfied: scikit-learn<1.7,>=1.2.0 in /Users/unrealre/.pyenv/versions/3.12.8/envs/ML_312/lib/python3.12/site-packages (from tabpfn) (1.5.2)\r\n",
      "Requirement already satisfied: typing_extensions>=4.4.0 in /Users/unrealre/.pyenv/versions/3.12.8/envs/ML_312/lib/python3.12/site-packages (from tabpfn) (4.12.2)\r\n",
      "Requirement already satisfied: scipy<2,>=1.11.1 in /Users/unrealre/.pyenv/versions/3.12.8/envs/ML_312/lib/python3.12/site-packages (from tabpfn) (1.15.2)\r\n",
      "Requirement already satisfied: pandas<3,>=1.4.0 in /Users/unrealre/.pyenv/versions/3.12.8/envs/ML_312/lib/python3.12/site-packages (from tabpfn) (2.2.3)\r\n",
      "Requirement already satisfied: einops<0.9,>=0.2.0 in /Users/unrealre/.pyenv/versions/3.12.8/envs/ML_312/lib/python3.12/site-packages (from tabpfn) (0.8.1)\r\n",
      "Requirement already satisfied: huggingface-hub<1,>=0.0.1 in /Users/unrealre/.pyenv/versions/3.12.8/envs/ML_312/lib/python3.12/site-packages (from tabpfn) (0.30.0)\r\n",
      "Requirement already satisfied: filelock in /Users/unrealre/.pyenv/versions/3.12.8/envs/ML_312/lib/python3.12/site-packages (from huggingface-hub<1,>=0.0.1->tabpfn) (3.18.0)\r\n",
      "Requirement already satisfied: fsspec>=2023.5.0 in /Users/unrealre/.pyenv/versions/3.12.8/envs/ML_312/lib/python3.12/site-packages (from huggingface-hub<1,>=0.0.1->tabpfn) (2024.12.0)\r\n",
      "Requirement already satisfied: packaging>=20.9 in /Users/unrealre/.pyenv/versions/3.12.8/envs/ML_312/lib/python3.12/site-packages (from huggingface-hub<1,>=0.0.1->tabpfn) (24.2)\r\n",
      "Requirement already satisfied: pyyaml>=5.1 in /Users/unrealre/.pyenv/versions/3.12.8/envs/ML_312/lib/python3.12/site-packages (from huggingface-hub<1,>=0.0.1->tabpfn) (6.0.2)\r\n",
      "Requirement already satisfied: requests in /Users/unrealre/.pyenv/versions/3.12.8/envs/ML_312/lib/python3.12/site-packages (from huggingface-hub<1,>=0.0.1->tabpfn) (2.32.3)\r\n",
      "Requirement already satisfied: tqdm>=4.42.1 in /Users/unrealre/.pyenv/versions/3.12.8/envs/ML_312/lib/python3.12/site-packages (from huggingface-hub<1,>=0.0.1->tabpfn) (4.67.1)\r\n",
      "Requirement already satisfied: numpy>=1.26.0 in /Users/unrealre/.pyenv/versions/3.12.8/envs/ML_312/lib/python3.12/site-packages (from pandas<3,>=1.4.0->tabpfn) (1.26.4)\r\n",
      "Requirement already satisfied: python-dateutil>=2.8.2 in /Users/unrealre/.pyenv/versions/3.12.8/envs/ML_312/lib/python3.12/site-packages (from pandas<3,>=1.4.0->tabpfn) (2.9.0.post0)\r\n",
      "Requirement already satisfied: pytz>=2020.1 in /Users/unrealre/.pyenv/versions/3.12.8/envs/ML_312/lib/python3.12/site-packages (from pandas<3,>=1.4.0->tabpfn) (2025.1)\r\n",
      "Requirement already satisfied: tzdata>=2022.7 in /Users/unrealre/.pyenv/versions/3.12.8/envs/ML_312/lib/python3.12/site-packages (from pandas<3,>=1.4.0->tabpfn) (2025.1)\r\n",
      "Requirement already satisfied: joblib>=1.2.0 in /Users/unrealre/.pyenv/versions/3.12.8/envs/ML_312/lib/python3.12/site-packages (from scikit-learn<1.7,>=1.2.0->tabpfn) (1.4.2)\r\n",
      "Requirement already satisfied: threadpoolctl>=3.1.0 in /Users/unrealre/.pyenv/versions/3.12.8/envs/ML_312/lib/python3.12/site-packages (from scikit-learn<1.7,>=1.2.0->tabpfn) (3.6.0)\r\n",
      "Requirement already satisfied: sympy in /Users/unrealre/.pyenv/versions/3.12.8/envs/ML_312/lib/python3.12/site-packages (from torch<3,>=2.1->tabpfn) (1.13.1)\r\n",
      "Requirement already satisfied: networkx in /Users/unrealre/.pyenv/versions/3.12.8/envs/ML_312/lib/python3.12/site-packages (from torch<3,>=2.1->tabpfn) (2.8.8)\r\n",
      "Requirement already satisfied: jinja2 in /Users/unrealre/.pyenv/versions/3.12.8/envs/ML_312/lib/python3.12/site-packages (from torch<3,>=2.1->tabpfn) (3.1.6)\r\n",
      "Requirement already satisfied: six>=1.5 in /Users/unrealre/.pyenv/versions/3.12.8/envs/ML_312/lib/python3.12/site-packages (from python-dateutil>=2.8.2->pandas<3,>=1.4.0->tabpfn) (1.17.0)\r\n",
      "Requirement already satisfied: MarkupSafe>=2.0 in /Users/unrealre/.pyenv/versions/3.12.8/envs/ML_312/lib/python3.12/site-packages (from jinja2->torch<3,>=2.1->tabpfn) (3.0.2)\r\n",
      "Requirement already satisfied: charset-normalizer<4,>=2 in /Users/unrealre/.pyenv/versions/3.12.8/envs/ML_312/lib/python3.12/site-packages (from requests->huggingface-hub<1,>=0.0.1->tabpfn) (3.4.1)\r\n",
      "Requirement already satisfied: idna<4,>=2.5 in /Users/unrealre/.pyenv/versions/3.12.8/envs/ML_312/lib/python3.12/site-packages (from requests->huggingface-hub<1,>=0.0.1->tabpfn) (3.10)\r\n",
      "Requirement already satisfied: urllib3<3,>=1.21.1 in /Users/unrealre/.pyenv/versions/3.12.8/envs/ML_312/lib/python3.12/site-packages (from requests->huggingface-hub<1,>=0.0.1->tabpfn) (2.3.0)\r\n",
      "Requirement already satisfied: certifi>=2017.4.17 in /Users/unrealre/.pyenv/versions/3.12.8/envs/ML_312/lib/python3.12/site-packages (from requests->huggingface-hub<1,>=0.0.1->tabpfn) (2025.1.31)\r\n",
      "Requirement already satisfied: mpmath<1.4,>=1.1.0 in /Users/unrealre/.pyenv/versions/3.12.8/envs/ML_312/lib/python3.12/site-packages (from sympy->torch<3,>=2.1->tabpfn) (1.3.0)\r\n",
      "\r\n",
      "\u001B[1m[\u001B[0m\u001B[34;49mnotice\u001B[0m\u001B[1;39;49m]\u001B[0m\u001B[39;49m A new release of pip is available: \u001B[0m\u001B[31;49m24.3.1\u001B[0m\u001B[39;49m -> \u001B[0m\u001B[32;49m25.0.1\u001B[0m\r\n",
      "\u001B[1m[\u001B[0m\u001B[34;49mnotice\u001B[0m\u001B[1;39;49m]\u001B[0m\u001B[39;49m To update, run: \u001B[0m\u001B[32;49mpip install --upgrade pip\u001B[0m\r\n",
      "Requirement already satisfied: catboost in /Users/unrealre/.pyenv/versions/3.12.8/envs/ML_312/lib/python3.12/site-packages (1.2.7)\r\n",
      "Requirement already satisfied: xgboost in /Users/unrealre/.pyenv/versions/3.12.8/envs/ML_312/lib/python3.12/site-packages (2.1.4)\r\n",
      "Requirement already satisfied: graphviz in /Users/unrealre/.pyenv/versions/3.12.8/envs/ML_312/lib/python3.12/site-packages (from catboost) (0.20.3)\r\n",
      "Requirement already satisfied: matplotlib in /Users/unrealre/.pyenv/versions/3.12.8/envs/ML_312/lib/python3.12/site-packages (from catboost) (3.10.1)\r\n",
      "Requirement already satisfied: numpy<2.0,>=1.16.0 in /Users/unrealre/.pyenv/versions/3.12.8/envs/ML_312/lib/python3.12/site-packages (from catboost) (1.26.4)\r\n",
      "Requirement already satisfied: pandas>=0.24 in /Users/unrealre/.pyenv/versions/3.12.8/envs/ML_312/lib/python3.12/site-packages (from catboost) (2.2.3)\r\n",
      "Requirement already satisfied: scipy in /Users/unrealre/.pyenv/versions/3.12.8/envs/ML_312/lib/python3.12/site-packages (from catboost) (1.15.2)\r\n",
      "Requirement already satisfied: plotly in /Users/unrealre/.pyenv/versions/3.12.8/envs/ML_312/lib/python3.12/site-packages (from catboost) (6.0.1)\r\n",
      "Requirement already satisfied: six in /Users/unrealre/.pyenv/versions/3.12.8/envs/ML_312/lib/python3.12/site-packages (from catboost) (1.17.0)\r\n",
      "Requirement already satisfied: python-dateutil>=2.8.2 in /Users/unrealre/.pyenv/versions/3.12.8/envs/ML_312/lib/python3.12/site-packages (from pandas>=0.24->catboost) (2.9.0.post0)\r\n",
      "Requirement already satisfied: pytz>=2020.1 in /Users/unrealre/.pyenv/versions/3.12.8/envs/ML_312/lib/python3.12/site-packages (from pandas>=0.24->catboost) (2025.1)\r\n",
      "Requirement already satisfied: tzdata>=2022.7 in /Users/unrealre/.pyenv/versions/3.12.8/envs/ML_312/lib/python3.12/site-packages (from pandas>=0.24->catboost) (2025.1)\r\n",
      "Requirement already satisfied: contourpy>=1.0.1 in /Users/unrealre/.pyenv/versions/3.12.8/envs/ML_312/lib/python3.12/site-packages (from matplotlib->catboost) (1.3.1)\r\n",
      "Requirement already satisfied: cycler>=0.10 in /Users/unrealre/.pyenv/versions/3.12.8/envs/ML_312/lib/python3.12/site-packages (from matplotlib->catboost) (0.12.1)\r\n",
      "Requirement already satisfied: fonttools>=4.22.0 in /Users/unrealre/.pyenv/versions/3.12.8/envs/ML_312/lib/python3.12/site-packages (from matplotlib->catboost) (4.56.0)\r\n",
      "Requirement already satisfied: kiwisolver>=1.3.1 in /Users/unrealre/.pyenv/versions/3.12.8/envs/ML_312/lib/python3.12/site-packages (from matplotlib->catboost) (1.4.8)\r\n",
      "Requirement already satisfied: packaging>=20.0 in /Users/unrealre/.pyenv/versions/3.12.8/envs/ML_312/lib/python3.12/site-packages (from matplotlib->catboost) (24.2)\r\n",
      "Requirement already satisfied: pillow>=8 in /Users/unrealre/.pyenv/versions/3.12.8/envs/ML_312/lib/python3.12/site-packages (from matplotlib->catboost) (11.1.0)\r\n",
      "Requirement already satisfied: pyparsing>=2.3.1 in /Users/unrealre/.pyenv/versions/3.12.8/envs/ML_312/lib/python3.12/site-packages (from matplotlib->catboost) (3.2.1)\r\n",
      "Requirement already satisfied: narwhals>=1.15.1 in /Users/unrealre/.pyenv/versions/3.12.8/envs/ML_312/lib/python3.12/site-packages (from plotly->catboost) (1.31.0)\r\n",
      "\r\n",
      "\u001B[1m[\u001B[0m\u001B[34;49mnotice\u001B[0m\u001B[1;39;49m]\u001B[0m\u001B[39;49m A new release of pip is available: \u001B[0m\u001B[31;49m24.3.1\u001B[0m\u001B[39;49m -> \u001B[0m\u001B[32;49m25.0.1\u001B[0m\r\n",
      "\u001B[1m[\u001B[0m\u001B[34;49mnotice\u001B[0m\u001B[1;39;49m]\u001B[0m\u001B[39;49m To update, run: \u001B[0m\u001B[32;49mpip install --upgrade pip\u001B[0m\r\n",
      "Requirement already satisfied: datasets in /Users/unrealre/.pyenv/versions/3.12.8/envs/ML_312/lib/python3.12/site-packages (3.5.0)\r\n",
      "Requirement already satisfied: filelock in /Users/unrealre/.pyenv/versions/3.12.8/envs/ML_312/lib/python3.12/site-packages (from datasets) (3.18.0)\r\n",
      "Requirement already satisfied: numpy>=1.17 in /Users/unrealre/.pyenv/versions/3.12.8/envs/ML_312/lib/python3.12/site-packages (from datasets) (1.26.4)\r\n",
      "Requirement already satisfied: pyarrow>=15.0.0 in /Users/unrealre/.pyenv/versions/3.12.8/envs/ML_312/lib/python3.12/site-packages (from datasets) (19.0.1)\r\n",
      "Requirement already satisfied: dill<0.3.9,>=0.3.0 in /Users/unrealre/.pyenv/versions/3.12.8/envs/ML_312/lib/python3.12/site-packages (from datasets) (0.3.8)\r\n",
      "Requirement already satisfied: pandas in /Users/unrealre/.pyenv/versions/3.12.8/envs/ML_312/lib/python3.12/site-packages (from datasets) (2.2.3)\r\n",
      "Requirement already satisfied: requests>=2.32.2 in /Users/unrealre/.pyenv/versions/3.12.8/envs/ML_312/lib/python3.12/site-packages (from datasets) (2.32.3)\r\n",
      "Requirement already satisfied: tqdm>=4.66.3 in /Users/unrealre/.pyenv/versions/3.12.8/envs/ML_312/lib/python3.12/site-packages (from datasets) (4.67.1)\r\n",
      "Requirement already satisfied: xxhash in /Users/unrealre/.pyenv/versions/3.12.8/envs/ML_312/lib/python3.12/site-packages (from datasets) (3.5.0)\r\n",
      "Requirement already satisfied: multiprocess<0.70.17 in /Users/unrealre/.pyenv/versions/3.12.8/envs/ML_312/lib/python3.12/site-packages (from datasets) (0.70.16)\r\n",
      "Requirement already satisfied: fsspec<=2024.12.0,>=2023.1.0 in /Users/unrealre/.pyenv/versions/3.12.8/envs/ML_312/lib/python3.12/site-packages (from fsspec[http]<=2024.12.0,>=2023.1.0->datasets) (2024.12.0)\r\n",
      "Requirement already satisfied: aiohttp in /Users/unrealre/.pyenv/versions/3.12.8/envs/ML_312/lib/python3.12/site-packages (from datasets) (3.11.14)\r\n",
      "Requirement already satisfied: huggingface-hub>=0.24.0 in /Users/unrealre/.pyenv/versions/3.12.8/envs/ML_312/lib/python3.12/site-packages (from datasets) (0.30.0)\r\n",
      "Requirement already satisfied: packaging in /Users/unrealre/.pyenv/versions/3.12.8/envs/ML_312/lib/python3.12/site-packages (from datasets) (24.2)\r\n",
      "Requirement already satisfied: pyyaml>=5.1 in /Users/unrealre/.pyenv/versions/3.12.8/envs/ML_312/lib/python3.12/site-packages (from datasets) (6.0.2)\r\n",
      "Requirement already satisfied: aiohappyeyeballs>=2.3.0 in /Users/unrealre/.pyenv/versions/3.12.8/envs/ML_312/lib/python3.12/site-packages (from aiohttp->datasets) (2.6.1)\r\n",
      "Requirement already satisfied: aiosignal>=1.1.2 in /Users/unrealre/.pyenv/versions/3.12.8/envs/ML_312/lib/python3.12/site-packages (from aiohttp->datasets) (1.3.2)\r\n",
      "Requirement already satisfied: attrs>=17.3.0 in /Users/unrealre/.pyenv/versions/3.12.8/envs/ML_312/lib/python3.12/site-packages (from aiohttp->datasets) (25.3.0)\r\n",
      "Requirement already satisfied: frozenlist>=1.1.1 in /Users/unrealre/.pyenv/versions/3.12.8/envs/ML_312/lib/python3.12/site-packages (from aiohttp->datasets) (1.5.0)\r\n",
      "Requirement already satisfied: multidict<7.0,>=4.5 in /Users/unrealre/.pyenv/versions/3.12.8/envs/ML_312/lib/python3.12/site-packages (from aiohttp->datasets) (6.2.0)\r\n",
      "Requirement already satisfied: propcache>=0.2.0 in /Users/unrealre/.pyenv/versions/3.12.8/envs/ML_312/lib/python3.12/site-packages (from aiohttp->datasets) (0.3.1)\r\n",
      "Requirement already satisfied: yarl<2.0,>=1.17.0 in /Users/unrealre/.pyenv/versions/3.12.8/envs/ML_312/lib/python3.12/site-packages (from aiohttp->datasets) (1.18.3)\r\n",
      "Requirement already satisfied: typing-extensions>=3.7.4.3 in /Users/unrealre/.pyenv/versions/3.12.8/envs/ML_312/lib/python3.12/site-packages (from huggingface-hub>=0.24.0->datasets) (4.12.2)\r\n",
      "Requirement already satisfied: charset-normalizer<4,>=2 in /Users/unrealre/.pyenv/versions/3.12.8/envs/ML_312/lib/python3.12/site-packages (from requests>=2.32.2->datasets) (3.4.1)\r\n",
      "Requirement already satisfied: idna<4,>=2.5 in /Users/unrealre/.pyenv/versions/3.12.8/envs/ML_312/lib/python3.12/site-packages (from requests>=2.32.2->datasets) (3.10)\r\n",
      "Requirement already satisfied: urllib3<3,>=1.21.1 in /Users/unrealre/.pyenv/versions/3.12.8/envs/ML_312/lib/python3.12/site-packages (from requests>=2.32.2->datasets) (2.3.0)\r\n",
      "Requirement already satisfied: certifi>=2017.4.17 in /Users/unrealre/.pyenv/versions/3.12.8/envs/ML_312/lib/python3.12/site-packages (from requests>=2.32.2->datasets) (2025.1.31)\r\n",
      "Requirement already satisfied: python-dateutil>=2.8.2 in /Users/unrealre/.pyenv/versions/3.12.8/envs/ML_312/lib/python3.12/site-packages (from pandas->datasets) (2.9.0.post0)\r\n",
      "Requirement already satisfied: pytz>=2020.1 in /Users/unrealre/.pyenv/versions/3.12.8/envs/ML_312/lib/python3.12/site-packages (from pandas->datasets) (2025.1)\r\n",
      "Requirement already satisfied: tzdata>=2022.7 in /Users/unrealre/.pyenv/versions/3.12.8/envs/ML_312/lib/python3.12/site-packages (from pandas->datasets) (2025.1)\r\n",
      "Requirement already satisfied: six>=1.5 in /Users/unrealre/.pyenv/versions/3.12.8/envs/ML_312/lib/python3.12/site-packages (from python-dateutil>=2.8.2->pandas->datasets) (1.17.0)\r\n",
      "\r\n",
      "\u001B[1m[\u001B[0m\u001B[34;49mnotice\u001B[0m\u001B[1;39;49m]\u001B[0m\u001B[39;49m A new release of pip is available: \u001B[0m\u001B[31;49m24.3.1\u001B[0m\u001B[39;49m -> \u001B[0m\u001B[32;49m25.0.1\u001B[0m\r\n",
      "\u001B[1m[\u001B[0m\u001B[34;49mnotice\u001B[0m\u001B[1;39;49m]\u001B[0m\u001B[39;49m To update, run: \u001B[0m\u001B[32;49mpip install --upgrade pip\u001B[0m\r\n"
     ]
    }
   ],
   "execution_count": 1
  },
  {
   "metadata": {
    "ExecuteTime": {
     "end_time": "2025-04-07T12:31:26.598135Z",
     "start_time": "2025-04-07T12:31:24.871681Z"
    }
   },
   "cell_type": "code",
   "source": [
    "import os\n",
    "\n",
    "# Setup Imports\n",
    "import pandas as pd\n",
    "import numpy as np\n",
    "\n",
    "from sklearn.datasets import load_breast_cancer, load_diabetes, load_iris\n",
    "from sklearn.model_selection import train_test_split\n",
    "from sklearn.model_selection import cross_val_score\n",
    "from sklearn.metrics import (\n",
    "    accuracy_score,\n",
    "    mean_absolute_error,\n",
    "    mean_squared_error,\n",
    "    root_mean_squared_error,\n",
    "    r2_score,\n",
    "    roc_auc_score,\n",
    ")\n",
    "from sklearn.model_selection import train_test_split\n",
    "\n",
    "import matplotlib.pyplot as plt\n",
    "from matplotlib.colors import ListedColormap\n",
    "from sklearn.inspection import DecisionBoundaryDisplay\n",
    "\n",
    "from sklearn.datasets import fetch_openml\n",
    "from sklearn.preprocessing import LabelEncoder\n",
    "from IPython.display import display, Markdown, Latex\n",
    "\n",
    "# Baseline Imports\n",
    "from xgboost import XGBClassifier, XGBRegressor\n",
    "from sklearn.ensemble import RandomForestClassifier, RandomForestRegressor\n",
    "from catboost import CatBoostClassifier, CatBoostRegressor\n",
    "\n",
    "\n",
    "from tabpfn_extensions.post_hoc_ensembles.sklearn_interface import AutoTabPFNClassifier, AutoTabPFNRegressor"
   ],
   "id": "66917e40bfc72731",
   "outputs": [],
   "execution_count": 4
  },
  {
   "metadata": {
    "ExecuteTime": {
     "end_time": "2025-04-07T12:31:30.359845Z",
     "start_time": "2025-04-07T12:31:28.371838Z"
    }
   },
   "cell_type": "code",
   "source": [
    "from IPython.lib.deepreload import reload\n",
    "%load_ext autoreload\n",
    "%autoreload 2\n",
    "\n",
    "import joblib\n",
    "import numpy as np\n",
    "import matplotlib.pyplot as plt\n",
    "import mlflow\n",
    "import mlflow.sklearn\n",
    "import pandas as pd\n",
    "import seaborn as sns\n",
    "import warnings\n",
    "\n",
    "from catboost import CatBoostRegressor\n",
    "from sklearn import set_config\n",
    "from sklearn.base import BaseEstimator, TransformerMixin\n",
    "from sklearn.compose import ColumnTransformer\n",
    "from sklearn.ensemble import RandomForestRegressor\n",
    "from sklearn.impute import SimpleImputer\n",
    "from sklearn.metrics import mean_squared_error\n",
    "from sklearn.pipeline import Pipeline\n",
    "from sklearn.preprocessing import OneHotEncoder, StandardScaler\n",
    "\n",
    "# Вместо одного фиксированного разбиения на train/test используем стабильную стратегию кросс-валидации.\n",
    "# Используем тут Cross-validation, потому что:\n",
    "# \t•\tнужно надёжно сравнить несколько разных моделей или гиперпараметров и понять, какая модель стабильнее и лучше в целом.\n",
    "# \t•\tхотим избежать случайных удач или провалов, связанных с конкретным разбиением на train/test.\n",
    "# \t•\tвыбираем модель или гиперпараметры, которые потом будешь использовать для финального сабмишна на Kaggle.\n",
    "# Делаем эту оценку, чтобы в дальнейших блокнотах-улучшениях сравнивать более корректно.\n",
    "from sklearn.model_selection import KFold, RepeatedKFold, cross_val_score, train_test_split\n",
    "\n",
    "# Используем IterativeImputer:\n",
    "# \t•\tОн итеративно заполняет все пропуски сразу.\n",
    "# \t•\tРаботает одновременно со всеми признаками, учитывая связи между ними.\n",
    "# \t•\tНе требует ручного управления порядком заполнения.\n",
    "from sklearn.experimental import enable_iterative_imputer\n",
    "from sklearn.impute import IterativeImputer\n",
    "\n",
    "from utils.data_manager import DataManager\n",
    "from utils.model_manager import ModelManager\n",
    "from utils.syth_generator_gaussian import CombinedSyntheticGenerator"
   ],
   "id": "62699b76695ae81c",
   "outputs": [],
   "execution_count": 5
  },
  {
   "metadata": {
    "ExecuteTime": {
     "end_time": "2025-04-07T12:31:31.713654Z",
     "start_time": "2025-04-07T12:31:31.118097Z"
    }
   },
   "cell_type": "code",
   "source": [
    "# TabPFN Imports\n",
    "from tabpfn_client import init, TabPFNClassifier, TabPFNRegressor\n",
    "\n",
    "init()"
   ],
   "id": "1d43d4bd2b7495b9",
   "outputs": [
    {
     "name": "stdout",
     "output_type": "stream",
     "text": [
      "  Welcome Back! Found existing access token, reusing it for authentication.\n"
     ]
    }
   ],
   "execution_count": 6
  },
  {
   "metadata": {
    "ExecuteTime": {
     "end_time": "2025-04-07T12:31:32.681839Z",
     "start_time": "2025-04-07T12:31:32.647290Z"
    }
   },
   "cell_type": "code",
   "source": [
    "# --- Глобально включаем вывод Pandas для всех трансформеров ---\n",
    "# (Можно применять и к отдельным трансформерам/пайплайнам .set_output(transform=\"pandas\"))\n",
    "set_config(transform_output = \"pandas\")"
   ],
   "id": "921d2655c1e8d636",
   "outputs": [],
   "execution_count": 7
  },
  {
   "metadata": {
    "ExecuteTime": {
     "end_time": "2025-04-07T12:31:33.969869Z",
     "start_time": "2025-04-07T12:31:33.914347Z"
    }
   },
   "cell_type": "code",
   "source": [
    "dm = DataManager()\n",
    "mm = ModelManager()\n",
    "\n",
    "# Отключаем автологгирование, чтобы использовать ручное\n",
    "mlflow.sklearn.autolog(disable=True)\n",
    "warnings.filterwarnings(\"ignore\", module=\"mlflow\")  # Игнорируем предупреждения MLflow\n"
   ],
   "id": "d03e2f5fe1e22736",
   "outputs": [],
   "execution_count": 8
  },
  {
   "metadata": {
    "ExecuteTime": {
     "end_time": "2025-04-07T12:31:34.479864Z",
     "start_time": "2025-04-07T12:31:34.442225Z"
    }
   },
   "cell_type": "code",
   "source": [
    "RANDOM_STATE = 42\n",
    "N_FOLDS = 5  # Например, 5 или 10"
   ],
   "id": "9522d290bf5e8ce3",
   "outputs": [],
   "execution_count": 9
  },
  {
   "metadata": {},
   "cell_type": "markdown",
   "source": "## 1. Загрузка данных",
   "id": "ba41e908bb2660fb"
  },
  {
   "metadata": {
    "ExecuteTime": {
     "end_time": "2025-04-07T12:31:35.167531Z",
     "start_time": "2025-04-07T12:31:35.105032Z"
    }
   },
   "cell_type": "code",
   "source": [
    "data_path = 'data/home-data-for-ml-course'\n",
    "train_data = pd.read_csv(data_path + '/train.csv')\n",
    "test_data = pd.read_csv(data_path + '/test.csv')\n",
    "train_data.shape"
   ],
   "id": "39fae0f9015dbbd1",
   "outputs": [
    {
     "data": {
      "text/plain": [
       "(1460, 81)"
      ]
     },
     "execution_count": 10,
     "metadata": {},
     "output_type": "execute_result"
    }
   ],
   "execution_count": 10
  },
  {
   "metadata": {
    "ExecuteTime": {
     "end_time": "2025-04-07T12:31:35.731481Z",
     "start_time": "2025-04-07T12:31:35.699020Z"
    }
   },
   "cell_type": "code",
   "source": [
    "# # Пробуем нагенерить синтетики\n",
    "# # Инициализация и обучение генератора\n",
    "# generator = CombinedSyntheticGenerator(use_gaussian_copula=True)\n",
    "# generator.fit(train_data)\n",
    "# \n",
    "# # Генерация синтетических данных\n",
    "# synthetic_df = generator.generate(count=500)\n",
    "# \n",
    "# # Сохранение результатов\n",
    "# synthetic_df.to_csv('synthetic_data3.csv', index=False)\n",
    "# \n",
    "# sdf = pd.read_csv('synthetic_data3.csv')\n",
    "# # Объединяем с реальными данными\n",
    "# train_data = pd.concat([train_data, sdf], ignore_index=True)\n",
    "# train_data.shape"
   ],
   "id": "84a77cf65f1c15fe",
   "outputs": [],
   "execution_count": 11
  },
  {
   "metadata": {},
   "cell_type": "markdown",
   "source": "## 2. Предобработка данных ",
   "id": "ff9190f2bf9a4608"
  },
  {
   "metadata": {
    "ExecuteTime": {
     "end_time": "2025-04-07T12:31:37.546174Z",
     "start_time": "2025-04-07T12:31:37.442539Z"
    }
   },
   "cell_type": "code",
   "source": [
    "# Определение колонок для удаления\n",
    "intuitively_bad_features = [\n",
    "    'LotShape',  # Общая форма участка\n",
    "    'LandContour',  # Рельеф участка\n",
    "    'LotConfig',  # Конфигурация участка\n",
    "    'LandSlope',  # Уклон участка\n",
    "    'MiscFeature',\n",
    "    'MiscVal',\n",
    "]\n",
    "bad_columns = dm.get_all_nan_cols(train_data)\n",
    "bad_columns.append('Id')\n",
    "bad_columns.extend(intuitively_bad_features)"
   ],
   "id": "582c69eb6042b6cd",
   "outputs": [],
   "execution_count": 12
  },
  {
   "metadata": {
    "ExecuteTime": {
     "end_time": "2025-04-07T12:31:37.595351Z",
     "start_time": "2025-04-07T12:31:37.559074Z"
    }
   },
   "cell_type": "code",
   "source": [
    "# Разделение на X / y\n",
    "X, y = dm.split_data_set_to_x_y(train_data, 'SalePrice')\n",
    "print(X.shape, y.shape)\n",
    "X_test = test_data.copy()\n",
    "print(X_test.shape)"
   ],
   "id": "e8ac98393ab37aba",
   "outputs": [
    {
     "name": "stdout",
     "output_type": "stream",
     "text": [
      "(1460, 80) (1460,)\n",
      "(1459, 80)\n"
     ]
    }
   ],
   "execution_count": 13
  },
  {
   "metadata": {
    "ExecuteTime": {
     "end_time": "2025-04-07T12:31:37.711760Z",
     "start_time": "2025-04-07T12:31:37.677730Z"
    }
   },
   "cell_type": "code",
   "source": [
    "X.drop(columns=bad_columns, inplace=True)\n",
    "X_test.drop(columns=bad_columns, inplace=True)"
   ],
   "id": "2b007911b602cf78",
   "outputs": [],
   "execution_count": 14
  },
  {
   "metadata": {
    "ExecuteTime": {
     "end_time": "2025-04-07T12:31:37.953448Z",
     "start_time": "2025-04-07T12:31:37.916106Z"
    }
   },
   "cell_type": "code",
   "source": [
    "def make_feature_eng_great_again(train_X_in, test_X_in):\n",
    "    \"\"\"Хелпер, который создает фичи, логарифмирует и выравнивает колонки.\"\"\"\n",
    "    # Работаем с копиями, чтобы не изменять оригинальные X, X_test вне функции\n",
    "    train_X = train_X_in.copy()\n",
    "    test_X = test_X_in.copy()\n",
    "\n",
    "    # Словарь качественных признаков\n",
    "    quality_dict = {'Ex': 5, 'Gd':4, 'TA':3, 'Fa':2, 'Po':1, np.nan:0}\n",
    "\n",
    "    def create_features(df):\n",
    "        # Interactions (с проверкой на наличие колонок)\n",
    "        if 'Neighborhood' in df.columns and 'MSZoning' in df.columns:\n",
    "            df['Neighborhood_Zoning'] = df['Neighborhood'].astype(str) + '_' + df['MSZoning'].astype(str)\n",
    "        if 'SaleType' in df.columns and 'SaleCondition' in df.columns:\n",
    "            df['SaleType_Condition'] = df['SaleType'].astype(str) + '_' + df['SaleCondition'].astype(str)\n",
    "\n",
    "        # Quality Score\n",
    "        df['TotalQualScore'] = 0\n",
    "        quality_cols = ['ExterQual', 'KitchenQual', 'BsmtQual', 'HeatingQC', 'GarageQual', 'FireplaceQu']\n",
    "        for col in quality_cols:\n",
    "            if col in df.columns:\n",
    "                 df['TotalQualScore'] += df[col].map(quality_dict).fillna(0)\n",
    "\n",
    "        # Porch/Deck Area and Flags\n",
    "        df['PorchDeckArea'] = 0\n",
    "        porch_cols = ['WoodDeckSF', 'OpenPorchSF', 'EnclosedPorch', '3SsnPorch', 'ScreenPorch']\n",
    "        for col in porch_cols:\n",
    "             if col in df.columns:\n",
    "                df['PorchDeckArea'] += df[col].fillna(0)\n",
    "\n",
    "        if 'Fireplaces' in df.columns:\n",
    "            df['HasFireplace'] = (df['Fireplaces'] > 0).astype(int)\n",
    "        if 'GarageType' in df.columns:\n",
    "            df['HasGarage'] = (~df['GarageType'].isna()).astype(int)\n",
    "        if 'Fence' in df.columns:\n",
    "            df['HasFence'] = (~df['Fence'].isna()).astype(int)\n",
    "        df['HasPorchDeck'] = (df['PorchDeckArea'] > 0).astype(int)\n",
    "\n",
    "        return df\n",
    "\n",
    "    def log_features(df, cols_to_log_list):  # Принимает СПИСОК колонок\n",
    "        print(f\"Applying log1p to: {cols_to_log_list}\")\n",
    "        for col_name in cols_to_log_list:\n",
    "            if col_name in df.columns:\n",
    "                # Добавим проверку на отрицательные значения перед логарифмированием\n",
    "                if (df[col_name] < 0).any():\n",
    "                     print(f\"Warning: Column {col_name} contains negative values. Skipping log1p.\")\n",
    "                else:\n",
    "                    df[col_name] = np.log1p(df[col_name])\n",
    "            else:\n",
    "                print(f\"Warning: Column {col_name} not found in DF during log transform.\")\n",
    "        return df\n",
    "\n",
    "    # 1. Создаем фичи\n",
    "    train_X = create_features(train_X)\n",
    "    test_X = create_features(test_X)\n",
    "    print(\"Features created.\")\n",
    "\n",
    "    # 2. Определяем колонки для логарифмирования (ТОЛЬКО по трейну)\n",
    "    numeric_cols = train_X.select_dtypes(include=np.number).columns\n",
    "    skew_values = train_X[numeric_cols].skew()\n",
    "    # Используем .index.tolist() чтобы получить список имен\n",
    "    cols_to_log_list = skew_values[skew_values > 1].index.tolist()\n",
    "    print(f\"Columns identified for logging: {cols_to_log_list}\")\n",
    "\n",
    "    # # 3. Логарифмируем (используя ОДИН и тот же список)\n",
    "    # train_X = log_features(train_X, cols_to_log_list)\n",
    "    # test_X = log_features(test_X, cols_to_log_list)\n",
    "    # print(\"Log transform applied.\")\n",
    "\n",
    "    # 4. Согласуем и сортируем колонки ПОСЛЕ всех манипуляций\n",
    "    final_feature_cols = sorted(train_X.columns.tolist()) # Сортируем для стабильности\n",
    "    train_X = train_X[final_feature_cols]\n",
    "    test_X = test_X.reindex(columns=final_feature_cols, fill_value=0)\n",
    "    print(\"Columns aligned and sorted.\")\n",
    "\n",
    "    return train_X, test_X"
   ],
   "id": "e1c12b327dd653c6",
   "outputs": [],
   "execution_count": 15
  },
  {
   "metadata": {
    "ExecuteTime": {
     "end_time": "2025-04-07T12:31:38.563865Z",
     "start_time": "2025-04-07T12:31:38.515233Z"
    }
   },
   "cell_type": "code",
   "source": [
    "# Вызываем функцию с правильными данными (X, X_test)\n",
    "X, X_test = make_feature_eng_great_again(X, X_test)\n",
    "\n",
    "print(\"\\nProcessing complete. Final shapes:\")\n",
    "print(f\"X_processed: {X.shape}\")\n",
    "print(f\"X_test_processed: {X_test.shape}\")\n",
    "print(\"\\nExample processed X:\")\n",
    "print(X.head())"
   ],
   "id": "7ab885021583a0c2",
   "outputs": [
    {
     "name": "stdout",
     "output_type": "stream",
     "text": [
      "Features created.\n",
      "Columns identified for logging: ['MSSubClass', 'LotFrontage', 'LotArea', 'MasVnrArea', 'BsmtFinSF1', 'BsmtFinSF2', 'TotalBsmtSF', '1stFlrSF', 'LowQualFinSF', 'GrLivArea', 'BsmtHalfBath', 'KitchenAbvGr', 'WoodDeckSF', 'OpenPorchSF', 'EnclosedPorch', '3SsnPorch', 'ScreenPorch', 'PoolArea', 'PorchDeckArea', 'HasFence']\n",
      "Columns aligned and sorted.\n",
      "\n",
      "Processing complete. Final shapes:\n",
      "X_processed: (1460, 81)\n",
      "X_test_processed: (1459, 81)\n",
      "\n",
      "Example processed X:\n",
      "   1stFlrSF  2ndFlrSF  3SsnPorch Alley  BedroomAbvGr BldgType BsmtCond  \\\n",
      "0       856       854          0   NaN             3     1Fam       TA   \n",
      "1      1262         0          0   NaN             3     1Fam       TA   \n",
      "2       920       866          0   NaN             3     1Fam       TA   \n",
      "3       961       756          0   NaN             3     1Fam       Gd   \n",
      "4      1145      1053          0   NaN             4     1Fam       TA   \n",
      "\n",
      "  BsmtExposure  BsmtFinSF1  BsmtFinSF2  ... ScreenPorch Street  TotRmsAbvGrd  \\\n",
      "0           No         706           0  ...           0   Pave             8   \n",
      "1           Gd         978           0  ...           0   Pave             6   \n",
      "2           Mn         486           0  ...           0   Pave             6   \n",
      "3           No         216           0  ...           0   Pave             7   \n",
      "4           Av         655           0  ...           0   Pave             9   \n",
      "\n",
      "   TotalBsmtSF TotalQualScore  Utilities WoodDeckSF YearBuilt YearRemodAdd  \\\n",
      "0          856             20     AllPub          0      2003         2003   \n",
      "1         1262             21     AllPub        298      1976         1976   \n",
      "2          920             23     AllPub          0      2001         2002   \n",
      "3          756             21     AllPub          0      1915         1970   \n",
      "4         1145             23     AllPub        192      2000         2000   \n",
      "\n",
      "  YrSold  \n",
      "0   2008  \n",
      "1   2007  \n",
      "2   2008  \n",
      "3   2006  \n",
      "4   2008  \n",
      "\n",
      "[5 rows x 81 columns]\n"
     ]
    }
   ],
   "execution_count": 16
  },
  {
   "metadata": {
    "ExecuteTime": {
     "end_time": "2025-04-07T12:31:39.206876Z",
     "start_time": "2025-04-07T12:31:39.161593Z"
    }
   },
   "cell_type": "code",
   "source": [
    "# Получение числовых колонок\n",
    "numeric_columns = X.select_dtypes(include=['float64', 'int64']).columns\n",
    "# Получение нечисловых колонок (всех остальных)\n",
    "non_numeric_columns = X.select_dtypes(exclude=['float64', 'int64']).columns"
   ],
   "id": "fb967372e5e428c0",
   "outputs": [],
   "execution_count": 17
  },
  {
   "metadata": {},
   "cell_type": "markdown",
   "source": "## 3. Обучаем модель с CV и корректируя данные",
   "id": "c14e9fe7cdd2520b"
  },
  {
   "metadata": {},
   "cell_type": "markdown",
   "source": [
    "#### Нормализация данных через ColumnTransformer и Pipeline\n",
    "В данном кейсе мы реализуем Заполнение числовых пропусков с помощью модели (Predictive imputation). Т.е. то, что пропущено в числовых признаках - будем заполнять не медианой или средним, а будем обучать модель, которая будет предсказывать пропуски (IterativeImputer + RandomForestRegressor)"
   ],
   "id": "4584eec907329540"
  },
  {
   "metadata": {
    "ExecuteTime": {
     "end_time": "2025-04-07T12:31:41.727228Z",
     "start_time": "2025-04-07T12:31:41.655976Z"
    }
   },
   "cell_type": "code",
   "source": [
    "# Создаем preprocessor с разными трансформерами для разных типов данных\n",
    "# Числовые данные пропущенные предсказываем с помощью модели RandomForestRegressor\n",
    "\n",
    "# Пайплайн для числовых признаков (итеративное заполнение)\n",
    "numeric_transformer = Pipeline(steps=[\n",
    "    ('imputer', IterativeImputer(\n",
    "        estimator=RandomForestRegressor(n_estimators=50, random_state=RANDOM_STATE),\n",
    "        max_iter=10,\n",
    "        random_state=RANDOM_STATE\n",
    "    )),  # Дает примерно +100 прирост качества vs mean/median\n",
    "    # ('imputer', SimpleImputer(strategy='mean')),\n",
    "    # ('scaler', StandardScaler())  # разницы не дает \n",
    "])\n",
    "\n",
    "# Пайплайн для категориальных признаков (заполнение частым значением и кодирование)\n",
    "categorical_transformer = Pipeline(steps=[\n",
    "    ('imputer', SimpleImputer(strategy='most_frequent')),\n",
    "    ('onehot', OneHotEncoder(handle_unknown='ignore', sparse_output=False))\n",
    "])\n",
    "\n",
    "# --- Объединяем препроцессоры ---\n",
    "preprocessor = ColumnTransformer(\n",
    "    transformers=[\n",
    "        # Применяем к исходным числовым колонкам\n",
    "        ('num', numeric_transformer, numeric_columns),\n",
    "        # Применяем к исходным категориальным колонкам\n",
    "        ('cat', categorical_transformer, non_numeric_columns)\n",
    "    ],\n",
    "    remainder='drop',   # 'passthrough' сохранит полиномиальные и другие колонки, которые не были ни числовыми, ни категориальными ИЗНАЧАЛЬНО\n",
    "    verbose_feature_names_out=False  # Чтобы имена колонок не менялись на 'num__colname' и т.д.\n",
    ")\n",
    "\n",
    "default_params = {\n",
    "    'iterations': 1000, \n",
    "    'learning_rate': 0.05, \n",
    "    'depth': 6, \n",
    "    'loss_function': 'RMSE', \n",
    "    'verbose': 0, \n",
    "    'random_seed': RANDOM_STATE,\n",
    "    'early_stopping_rounds': 100  # ?\n",
    "}\n",
    "catboost_params = default_params\n",
    "\n",
    "# Включить Early Stopping очень рекомендуется в параметрах. Это позволит модели на каждом фолде останавливаться тогда, когда метрика на валидационной части этого фолда (X_val, y_val_log) перестает улучшаться. Это самый надежный способ подобрать оптимальное число итераций для каждого фолда и избежать переобучения\n",
    "\n",
    "# --- Финальный пайплайн ---\n",
    "# Мы будем использовать preprocessor и модель отдельно в цикле CV\n",
    "# для корректной работы early stopping с пайплайном sklearn. Поэтому нам финальный пайплайн - не нужен.\n",
    "# final_pipeline = Pipeline([\n",
    "#     ('preprocessing', preprocessor),\n",
    "#     ('model', CatBoostRegressor(**catboost_params))\n",
    "# ])"
   ],
   "id": "af063fbcdc6c4626",
   "outputs": [],
   "execution_count": 18
  },
  {
   "metadata": {
    "ExecuteTime": {
     "end_time": "2025-04-07T12:31:42.508896Z",
     "start_time": "2025-04-07T12:31:42.468151Z"
    }
   },
   "cell_type": "code",
   "source": [
    "X_train, X_test, y_train, y_test = train_test_split(X, y, test_size=0.20, random_state=42)\n",
    "X_train.shape, X_test.shape"
   ],
   "id": "7e6ccdc4ff62371f",
   "outputs": [
    {
     "data": {
      "text/plain": [
       "((1168, 81), (292, 81))"
      ]
     },
     "execution_count": 19,
     "metadata": {},
     "output_type": "execute_result"
    }
   ],
   "execution_count": 19
  },
  {
   "metadata": {
    "ExecuteTime": {
     "end_time": "2025-04-07T12:31:57.089478Z",
     "start_time": "2025-04-07T12:31:50.815336Z"
    }
   },
   "cell_type": "code",
   "source": [
    "# Train and evaluate TabPFN\n",
    "reg = TabPFNRegressor(random_state=42)\n",
    "reg.fit(X_train, y_train)\n",
    "y_pred = reg.predict(X_test)\n",
    "\n",
    "score = root_mean_squared_error(np.log(y_test), np.log(y_pred))\n",
    "print(f\"TabPFN RMSLE: {score:.4f}\")"
   ],
   "id": "a732102f902f57b8",
   "outputs": [
    {
     "name": "stderr",
     "output_type": "stream",
     "text": [
      "Processing: 100%|██████████| [00:05<00:00]"
     ]
    },
    {
     "name": "stdout",
     "output_type": "stream",
     "text": [
      "TabPFN RMSLE: 0.1214\n"
     ]
    },
    {
     "name": "stderr",
     "output_type": "stream",
     "text": [
      "\n"
     ]
    }
   ],
   "execution_count": 20
  },
  {
   "metadata": {},
   "cell_type": "markdown",
   "source": "",
   "id": "85e2aa6de67cc432"
  },
  {
   "metadata": {
    "ExecuteTime": {
     "end_time": "2025-04-06T12:28:20.733768Z",
     "start_time": "2025-04-06T12:28:20.649343Z"
    }
   },
   "cell_type": "code",
   "source": [
    "# К чему стремимся из catboost итерации\n",
    "# Mean CV RMSE: 0.1258 +/- 0.0228\n",
    "# OOF RMSE: 0.1278\n",
    "# Mean best iteration: 1450\n"
   ],
   "id": "d04d70d176b613f6",
   "outputs": [],
   "execution_count": 21
  },
  {
   "metadata": {
    "ExecuteTime": {
     "end_time": "2025-04-07T12:32:36.944018Z",
     "start_time": "2025-04-07T12:32:04.796853Z"
    }
   },
   "cell_type": "code",
   "source": [
    "final_model_pipeline = Pipeline([\n",
    "    ('preprocessing', preprocessor),\n",
    "    ('model', TabPFNRegressor(random_state=42))\n",
    "])\n",
    "final_model_pipeline.fit(X, y)\n",
    "print(\"Final model trained.\")"
   ],
   "id": "a18315e0ba638141",
   "outputs": [
    {
     "name": "stdout",
     "output_type": "stream",
     "text": [
      "Final model trained.\n"
     ]
    }
   ],
   "execution_count": 21
  },
  {
   "metadata": {
    "ExecuteTime": {
     "end_time": "2025-04-06T12:33:44.674534Z",
     "start_time": "2025-04-06T12:33:43.995426Z"
    }
   },
   "cell_type": "code",
   "source": [
    "# Предсказание на тест данных для сабмишна\n",
    "final_test_pred_single_model = reg.predict(X_test)\n",
    "submission_single = pd.DataFrame({'Id': test_data['Id'], 'SalePrice': final_test_pred_single_model})\n",
    "submission_single.to_csv('submission_final_tabFPN_version.csv', index=False)\n",
    "submission_single.head()"
   ],
   "id": "167f1cc988d34ea1",
   "outputs": [
    {
     "ename": "RuntimeError",
     "evalue": "Fail to call predict with error: {'detail': \"API Daily Limit Reached. Your account's current limit is 5000000 table cell predictions per day. This limit resets daily at 00:00:00 UTC. You can make your next API request after 2025-04-07 00:00:00 UTC. To learn more about usage limits or request an increase, please visit: https://priorlabs.ai/api-usage-limit/\"}",
     "output_type": "error",
     "traceback": [
      "\u001B[31m---------------------------------------------------------------------------\u001B[39m",
      "\u001B[31mRuntimeError\u001B[39m                              Traceback (most recent call last)",
      "\u001B[36mCell\u001B[39m\u001B[36m \u001B[39m\u001B[32mIn[28]\u001B[39m\u001B[32m, line 2\u001B[39m\n\u001B[32m      1\u001B[39m \u001B[38;5;66;03m# Предсказание на тест данных для сабмишна\u001B[39;00m\n\u001B[32m----> \u001B[39m\u001B[32m2\u001B[39m final_test_pred_single_model = \u001B[43mreg\u001B[49m\u001B[43m.\u001B[49m\u001B[43mpredict\u001B[49m\u001B[43m(\u001B[49m\u001B[43mX_test\u001B[49m\u001B[43m)\u001B[49m\n\u001B[32m      3\u001B[39m submission_single = pd.DataFrame({\u001B[33m'\u001B[39m\u001B[33mId\u001B[39m\u001B[33m'\u001B[39m: test_data[\u001B[33m'\u001B[39m\u001B[33mId\u001B[39m\u001B[33m'\u001B[39m], \u001B[33m'\u001B[39m\u001B[33mSalePrice\u001B[39m\u001B[33m'\u001B[39m: final_test_pred_single_model})\n\u001B[32m      4\u001B[39m submission_single.to_csv(\u001B[33m'\u001B[39m\u001B[33msubmission_final_tabFPN_version.csv\u001B[39m\u001B[33m'\u001B[39m, index=\u001B[38;5;28;01mFalse\u001B[39;00m)\n",
      "\u001B[36mFile \u001B[39m\u001B[32m~/.pyenv/versions/ML_312/lib/python3.12/site-packages/tabpfn_client/estimator.py:371\u001B[39m, in \u001B[36mTabPFNRegressor.predict\u001B[39m\u001B[34m(self, X, output_type, quantiles)\u001B[39m\n\u001B[32m    366\u001B[39m estimator_param = \u001B[38;5;28mself\u001B[39m.get_params()\n\u001B[32m    367\u001B[39m estimator_param[\u001B[33m\"\u001B[39m\u001B[33mmodel_path\u001B[39m\u001B[33m\"\u001B[39m] = TabPFNRegressor._model_name_to_path(\n\u001B[32m    368\u001B[39m     \u001B[33m\"\u001B[39m\u001B[33mregression\u001B[39m\u001B[33m\"\u001B[39m, \u001B[38;5;28mself\u001B[39m.model_path\n\u001B[32m    369\u001B[39m )\n\u001B[32m--> \u001B[39m\u001B[32m371\u001B[39m \u001B[38;5;28;01mreturn\u001B[39;00m \u001B[43mInferenceClient\u001B[49m\u001B[43m.\u001B[49m\u001B[43mpredict\u001B[49m\u001B[43m(\u001B[49m\n\u001B[32m    372\u001B[39m \u001B[43m    \u001B[49m\u001B[43mX\u001B[49m\u001B[43m,\u001B[49m\n\u001B[32m    373\u001B[39m \u001B[43m    \u001B[49m\u001B[43mtask\u001B[49m\u001B[43m=\u001B[49m\u001B[33;43m\"\u001B[39;49m\u001B[33;43mregression\u001B[39;49m\u001B[33;43m\"\u001B[39;49m\u001B[43m,\u001B[49m\n\u001B[32m    374\u001B[39m \u001B[43m    \u001B[49m\u001B[43mtrain_set_uid\u001B[49m\u001B[43m=\u001B[49m\u001B[38;5;28;43mself\u001B[39;49m\u001B[43m.\u001B[49m\u001B[43mlast_train_set_uid\u001B[49m\u001B[43m,\u001B[49m\n\u001B[32m    375\u001B[39m \u001B[43m    \u001B[49m\u001B[43mconfig\u001B[49m\u001B[43m=\u001B[49m\u001B[43mestimator_param\u001B[49m\u001B[43m,\u001B[49m\n\u001B[32m    376\u001B[39m \u001B[43m    \u001B[49m\u001B[43mpredict_params\u001B[49m\u001B[43m=\u001B[49m\u001B[43mpredict_params\u001B[49m\u001B[43m,\u001B[49m\n\u001B[32m    377\u001B[39m \u001B[43m    \u001B[49m\u001B[43mX_train\u001B[49m\u001B[43m=\u001B[49m\u001B[38;5;28;43mself\u001B[39;49m\u001B[43m.\u001B[49m\u001B[43mlast_train_X\u001B[49m\u001B[43m,\u001B[49m\n\u001B[32m    378\u001B[39m \u001B[43m    \u001B[49m\u001B[43my_train\u001B[49m\u001B[43m=\u001B[49m\u001B[38;5;28;43mself\u001B[39;49m\u001B[43m.\u001B[49m\u001B[43mlast_train_y\u001B[49m\u001B[43m,\u001B[49m\n\u001B[32m    379\u001B[39m \u001B[43m\u001B[49m\u001B[43m)\u001B[49m\n",
      "\u001B[36mFile \u001B[39m\u001B[32m~/.pyenv/versions/ML_312/lib/python3.12/site-packages/tabpfn_client/service_wrapper.py:251\u001B[39m, in \u001B[36mInferenceClient.predict\u001B[39m\u001B[34m(cls, X, task, train_set_uid, config, predict_params, X_train, y_train)\u001B[39m\n\u001B[32m    247\u001B[39m     \u001B[38;5;28;01mreturn\u001B[39;00m mock_predict(\n\u001B[32m    248\u001B[39m         X, task, train_set_uid, X_train, y_train, config, predict_params\n\u001B[32m    249\u001B[39m     )\n\u001B[32m    250\u001B[39m \u001B[38;5;28;01melse\u001B[39;00m:\n\u001B[32m--> \u001B[39m\u001B[32m251\u001B[39m     \u001B[38;5;28;01mreturn\u001B[39;00m \u001B[43mServiceClient\u001B[49m\u001B[43m.\u001B[49m\u001B[43mpredict\u001B[49m\u001B[43m(\u001B[49m\n\u001B[32m    252\u001B[39m \u001B[43m        \u001B[49m\u001B[43mtrain_set_uid\u001B[49m\u001B[43m=\u001B[49m\u001B[43mtrain_set_uid\u001B[49m\u001B[43m,\u001B[49m\n\u001B[32m    253\u001B[39m \u001B[43m        \u001B[49m\u001B[43mx_test\u001B[49m\u001B[43m=\u001B[49m\u001B[43mX\u001B[49m\u001B[43m,\u001B[49m\n\u001B[32m    254\u001B[39m \u001B[43m        \u001B[49m\u001B[43mtabpfn_config\u001B[49m\u001B[43m=\u001B[49m\u001B[43mconfig\u001B[49m\u001B[43m,\u001B[49m\n\u001B[32m    255\u001B[39m \u001B[43m        \u001B[49m\u001B[43mpredict_params\u001B[49m\u001B[43m=\u001B[49m\u001B[43mpredict_params\u001B[49m\u001B[43m,\u001B[49m\n\u001B[32m    256\u001B[39m \u001B[43m        \u001B[49m\u001B[43mtask\u001B[49m\u001B[43m=\u001B[49m\u001B[43mtask\u001B[49m\u001B[43m,\u001B[49m\n\u001B[32m    257\u001B[39m \u001B[43m        \u001B[49m\u001B[43mX_train\u001B[49m\u001B[43m=\u001B[49m\u001B[43mX_train\u001B[49m\u001B[43m,\u001B[49m\n\u001B[32m    258\u001B[39m \u001B[43m        \u001B[49m\u001B[43my_train\u001B[49m\u001B[43m=\u001B[49m\u001B[43my_train\u001B[49m\u001B[43m,\u001B[49m\n\u001B[32m    259\u001B[39m \u001B[43m    \u001B[49m\u001B[43m)\u001B[49m\n",
      "\u001B[36mFile \u001B[39m\u001B[32m~/.pyenv/versions/ML_312/lib/python3.12/site-packages/tabpfn_client/client.py:308\u001B[39m, in \u001B[36mServiceClient.predict\u001B[39m\u001B[34m(cls, train_set_uid, x_test, task, predict_params, tabpfn_config, X_train, y_train)\u001B[39m\n\u001B[32m    304\u001B[39m \u001B[38;5;28;01mtry\u001B[39;00m:\n\u001B[32m    305\u001B[39m     \u001B[38;5;28;01mwith\u001B[39;00m \u001B[38;5;28mcls\u001B[39m._make_prediction_request(\n\u001B[32m    306\u001B[39m         cached_test_set_uid, x_test_serialized, params\n\u001B[32m    307\u001B[39m     ) \u001B[38;5;28;01mas\u001B[39;00m response:\n\u001B[32m--> \u001B[39m\u001B[32m308\u001B[39m         \u001B[38;5;28;43mcls\u001B[39;49m\u001B[43m.\u001B[49m\u001B[43m_validate_response\u001B[49m\u001B[43m(\u001B[49m\u001B[43mresponse\u001B[49m\u001B[43m,\u001B[49m\u001B[43m \u001B[49m\u001B[33;43m\"\u001B[39;49m\u001B[33;43mpredict\u001B[39;49m\u001B[33;43m\"\u001B[39;49m\u001B[43m)\u001B[49m\n\u001B[32m    309\u001B[39m         \u001B[38;5;66;03m# Handle updates from server\u001B[39;00m\n\u001B[32m    310\u001B[39m         client = sseclient.SSEClient(response.iter_bytes())\n",
      "\u001B[36mFile \u001B[39m\u001B[32m~/.pyenv/versions/ML_312/lib/python3.12/site-packages/tabpfn_client/client.py:448\u001B[39m, in \u001B[36mServiceClient._validate_response\u001B[39m\u001B[34m(response, method_name, only_version_check)\u001B[39m\n\u001B[32m    446\u001B[39m \u001B[38;5;28;01mif\u001B[39;00m \u001B[38;5;129;01mnot\u001B[39;00m only_version_check:\n\u001B[32m    447\u001B[39m     \u001B[38;5;28;01mif\u001B[39;00m load \u001B[38;5;129;01mis\u001B[39;00m \u001B[38;5;129;01mnot\u001B[39;00m \u001B[38;5;28;01mNone\u001B[39;00m:\n\u001B[32m--> \u001B[39m\u001B[32m448\u001B[39m         \u001B[38;5;28;01mraise\u001B[39;00m \u001B[38;5;167;01mRuntimeError\u001B[39;00m(\u001B[33mf\u001B[39m\u001B[33m\"\u001B[39m\u001B[33mFail to call \u001B[39m\u001B[38;5;132;01m{\u001B[39;00mmethod_name\u001B[38;5;132;01m}\u001B[39;00m\u001B[33m with error: \u001B[39m\u001B[38;5;132;01m{\u001B[39;00mload\u001B[38;5;132;01m}\u001B[39;00m\u001B[33m\"\u001B[39m)\n\u001B[32m    449\u001B[39m     logger.error(\n\u001B[32m    450\u001B[39m         \u001B[33mf\u001B[39m\u001B[33m\"\u001B[39m\u001B[33mFail to call \u001B[39m\u001B[38;5;132;01m{\u001B[39;00mmethod_name\u001B[38;5;132;01m}\u001B[39;00m\u001B[33m, response status: \u001B[39m\u001B[38;5;132;01m{\u001B[39;00mresponse.status_code\u001B[38;5;132;01m}\u001B[39;00m\u001B[33m\"\u001B[39m\n\u001B[32m    451\u001B[39m     )\n\u001B[32m    452\u001B[39m     \u001B[38;5;28;01mtry\u001B[39;00m:\n",
      "\u001B[31mRuntimeError\u001B[39m: Fail to call predict with error: {'detail': \"API Daily Limit Reached. Your account's current limit is 5000000 table cell predictions per day. This limit resets daily at 00:00:00 UTC. You can make your next API request after 2025-04-07 00:00:00 UTC. To learn more about usage limits or request an increase, please visit: https://priorlabs.ai/api-usage-limit/\"}"
     ]
    }
   ],
   "execution_count": 28
  },
  {
   "metadata": {},
   "cell_type": "code",
   "outputs": [],
   "execution_count": null,
   "source": "",
   "id": "a364ab918fc1aced"
  }
 ],
 "metadata": {
  "kernelspec": {
   "display_name": "Python 3",
   "language": "python",
   "name": "python3"
  },
  "language_info": {
   "codemirror_mode": {
    "name": "ipython",
    "version": 2
   },
   "file_extension": ".py",
   "mimetype": "text/x-python",
   "name": "python",
   "nbconvert_exporter": "python",
   "pygments_lexer": "ipython2",
   "version": "2.7.6"
  }
 },
 "nbformat": 4,
 "nbformat_minor": 5
}

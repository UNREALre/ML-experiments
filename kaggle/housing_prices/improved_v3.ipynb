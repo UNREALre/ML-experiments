{
 "cells": [
  {
   "metadata": {},
   "cell_type": "markdown",
   "source": [
    "# Попытка улучшить показатели лучшей реализации с ошибкой в ~12.93% RMSE\n",
    "Передача данных as is не увенчалась успехом, поэтому тут тестируем следующие варианты:\n",
    "1. Попытка более умно подойти к вопросу нормализации фичей (не просто mean/median)\n",
    "2. Пробуем изменить one hot encoding категориальных фич на target encoder / feature embedding\n",
    "3. Optuna для тюнинга гиперпараметров\n",
    "4. Ансамбли моделей."
   ],
   "id": "419bbb3b344e7f9e"
  },
  {
   "cell_type": "code",
   "id": "initial_id",
   "metadata": {
    "collapsed": true,
    "ExecuteTime": {
     "end_time": "2025-03-25T18:15:52.046462Z",
     "start_time": "2025-03-25T18:15:50.730731Z"
    }
   },
   "source": [
    "from IPython.lib.deepreload import reload\n",
    "from xgboost import train\n",
    "%load_ext autoreload\n",
    "%autoreload 2\n",
    "\n",
    "import joblib\n",
    "import matplotlib.pyplot as plt\n",
    "import numpy as np\n",
    "import pandas as pd\n",
    "\n",
    "from catboost import CatBoostRegressor\n",
    "from sklearn.compose import ColumnTransformer\n",
    "from sklearn.impute import SimpleImputer\n",
    "from sklearn.linear_model import LinearRegression\n",
    "from sklearn.metrics import mean_squared_error, root_mean_squared_error, r2_score\n",
    "from sklearn.model_selection import train_test_split, cross_val_score\n",
    "from sklearn.pipeline import Pipeline\n",
    "from sklearn.preprocessing import StandardScaler, OneHotEncoder, MinMaxScaler, PowerTransformer, RobustScaler, QuantileTransformer, PolynomialFeatures, KBinsDiscretizer\n",
    "\n",
    "# Подключаем классы для ансамблей стэкинга\n",
    "from sklearn.ensemble import RandomForestRegressor, GradientBoostingRegressor\n",
    "from sklearn.linear_model import RidgeCV\n",
    "from sklearn.ensemble import StackingRegressor\n",
    "# Для бэгинга\n",
    "from sklearn.ensemble import BaggingRegressor\n",
    "from sklearn.tree import DecisionTreeRegressor\n",
    "from sklearn.linear_model import Ridge\n",
    "from sklearn.neighbors import KNeighborsRegressor\n",
    "from sklearn.svm import SVR\n",
    "\n",
    "from utils.data_manager import DataManager\n",
    "from utils.model_manager import ModelManager"
   ],
   "outputs": [],
   "execution_count": 1
  },
  {
   "metadata": {},
   "cell_type": "markdown",
   "source": "## 1. Загрузка данных",
   "id": "6120ca117516743"
  },
  {
   "metadata": {
    "ExecuteTime": {
     "end_time": "2025-03-25T18:15:52.082903Z",
     "start_time": "2025-03-25T18:15:52.050042Z"
    }
   },
   "cell_type": "code",
   "source": [
    "data_path = 'data/home-data-for-ml-course'\n",
    "train_data = pd.read_csv(data_path + '/train.csv')\n",
    "test_data = pd.read_csv(data_path + '/test.csv')"
   ],
   "id": "b6c551eb575b80ce",
   "outputs": [],
   "execution_count": 2
  },
  {
   "metadata": {},
   "cell_type": "markdown",
   "source": "## 2. Предобработка данных ",
   "id": "65d4ddde68dc5d57"
  },
  {
   "metadata": {
    "ExecuteTime": {
     "end_time": "2025-03-25T18:15:52.179566Z",
     "start_time": "2025-03-25T18:15:52.165548Z"
    }
   },
   "cell_type": "code",
   "source": "dm = DataManager()",
   "id": "e5b99da507a9b35b",
   "outputs": [],
   "execution_count": 3
  },
  {
   "metadata": {},
   "cell_type": "markdown",
   "source": "### 2.1. Удаление ненужных столбцов",
   "id": "4c55ed3e8123ac12"
  },
  {
   "metadata": {
    "ExecuteTime": {
     "end_time": "2025-03-25T18:15:52.207865Z",
     "start_time": "2025-03-25T18:15:52.190287Z"
    }
   },
   "cell_type": "code",
   "source": [
    "intuitively_bad_features = [\n",
    "    'LotShape',  # Общая форма участка\n",
    "    'LandContour',  # Рельеф участка\n",
    "    'LotConfig',  # Конфигурация участка\n",
    "    'LandSlope',  # Уклон участка\n",
    "    'MiscFeature',\n",
    "    'MiscVal',\n",
    "]\n",
    "bad_columns = dm.get_all_nan_cols(train_data)\n",
    "bad_columns.append('Id')\n",
    "bad_columns.extend(intuitively_bad_features)\n",
    "bad_columns"
   ],
   "id": "9aeb6d461c6bdaea",
   "outputs": [
    {
     "data": {
      "text/plain": [
       "['Id',\n",
       " 'LotShape',\n",
       " 'LandContour',\n",
       " 'LotConfig',\n",
       " 'LandSlope',\n",
       " 'MiscFeature',\n",
       " 'MiscVal']"
      ]
     },
     "execution_count": 4,
     "metadata": {},
     "output_type": "execute_result"
    }
   ],
   "execution_count": 4
  },
  {
   "metadata": {
    "ExecuteTime": {
     "end_time": "2025-03-25T18:15:52.263523Z",
     "start_time": "2025-03-25T18:15:52.242060Z"
    }
   },
   "cell_type": "code",
   "source": [
    "train_data = train_data.drop(columns=bad_columns)\n",
    "train_data.head()"
   ],
   "id": "84db645b9fd2f674",
   "outputs": [
    {
     "data": {
      "text/plain": [
       "   MSSubClass MSZoning  LotFrontage  LotArea Street Alley Utilities  \\\n",
       "0          60       RL         65.0     8450   Pave   NaN    AllPub   \n",
       "1          20       RL         80.0     9600   Pave   NaN    AllPub   \n",
       "2          60       RL         68.0    11250   Pave   NaN    AllPub   \n",
       "3          70       RL         60.0     9550   Pave   NaN    AllPub   \n",
       "4          60       RL         84.0    14260   Pave   NaN    AllPub   \n",
       "\n",
       "  Neighborhood Condition1 Condition2  ... 3SsnPorch ScreenPorch  PoolArea  \\\n",
       "0      CollgCr       Norm       Norm  ...         0           0         0   \n",
       "1      Veenker      Feedr       Norm  ...         0           0         0   \n",
       "2      CollgCr       Norm       Norm  ...         0           0         0   \n",
       "3      Crawfor       Norm       Norm  ...         0           0         0   \n",
       "4      NoRidge       Norm       Norm  ...         0           0         0   \n",
       "\n",
       "   PoolQC  Fence  MoSold YrSold SaleType SaleCondition SalePrice  \n",
       "0     NaN    NaN       2   2008       WD        Normal    208500  \n",
       "1     NaN    NaN       5   2007       WD        Normal    181500  \n",
       "2     NaN    NaN       9   2008       WD        Normal    223500  \n",
       "3     NaN    NaN       2   2006       WD       Abnorml    140000  \n",
       "4     NaN    NaN      12   2008       WD        Normal    250000  \n",
       "\n",
       "[5 rows x 74 columns]"
      ],
      "text/html": [
       "<div>\n",
       "<style scoped>\n",
       "    .dataframe tbody tr th:only-of-type {\n",
       "        vertical-align: middle;\n",
       "    }\n",
       "\n",
       "    .dataframe tbody tr th {\n",
       "        vertical-align: top;\n",
       "    }\n",
       "\n",
       "    .dataframe thead th {\n",
       "        text-align: right;\n",
       "    }\n",
       "</style>\n",
       "<table border=\"1\" class=\"dataframe\">\n",
       "  <thead>\n",
       "    <tr style=\"text-align: right;\">\n",
       "      <th></th>\n",
       "      <th>MSSubClass</th>\n",
       "      <th>MSZoning</th>\n",
       "      <th>LotFrontage</th>\n",
       "      <th>LotArea</th>\n",
       "      <th>Street</th>\n",
       "      <th>Alley</th>\n",
       "      <th>Utilities</th>\n",
       "      <th>Neighborhood</th>\n",
       "      <th>Condition1</th>\n",
       "      <th>Condition2</th>\n",
       "      <th>...</th>\n",
       "      <th>3SsnPorch</th>\n",
       "      <th>ScreenPorch</th>\n",
       "      <th>PoolArea</th>\n",
       "      <th>PoolQC</th>\n",
       "      <th>Fence</th>\n",
       "      <th>MoSold</th>\n",
       "      <th>YrSold</th>\n",
       "      <th>SaleType</th>\n",
       "      <th>SaleCondition</th>\n",
       "      <th>SalePrice</th>\n",
       "    </tr>\n",
       "  </thead>\n",
       "  <tbody>\n",
       "    <tr>\n",
       "      <th>0</th>\n",
       "      <td>60</td>\n",
       "      <td>RL</td>\n",
       "      <td>65.0</td>\n",
       "      <td>8450</td>\n",
       "      <td>Pave</td>\n",
       "      <td>NaN</td>\n",
       "      <td>AllPub</td>\n",
       "      <td>CollgCr</td>\n",
       "      <td>Norm</td>\n",
       "      <td>Norm</td>\n",
       "      <td>...</td>\n",
       "      <td>0</td>\n",
       "      <td>0</td>\n",
       "      <td>0</td>\n",
       "      <td>NaN</td>\n",
       "      <td>NaN</td>\n",
       "      <td>2</td>\n",
       "      <td>2008</td>\n",
       "      <td>WD</td>\n",
       "      <td>Normal</td>\n",
       "      <td>208500</td>\n",
       "    </tr>\n",
       "    <tr>\n",
       "      <th>1</th>\n",
       "      <td>20</td>\n",
       "      <td>RL</td>\n",
       "      <td>80.0</td>\n",
       "      <td>9600</td>\n",
       "      <td>Pave</td>\n",
       "      <td>NaN</td>\n",
       "      <td>AllPub</td>\n",
       "      <td>Veenker</td>\n",
       "      <td>Feedr</td>\n",
       "      <td>Norm</td>\n",
       "      <td>...</td>\n",
       "      <td>0</td>\n",
       "      <td>0</td>\n",
       "      <td>0</td>\n",
       "      <td>NaN</td>\n",
       "      <td>NaN</td>\n",
       "      <td>5</td>\n",
       "      <td>2007</td>\n",
       "      <td>WD</td>\n",
       "      <td>Normal</td>\n",
       "      <td>181500</td>\n",
       "    </tr>\n",
       "    <tr>\n",
       "      <th>2</th>\n",
       "      <td>60</td>\n",
       "      <td>RL</td>\n",
       "      <td>68.0</td>\n",
       "      <td>11250</td>\n",
       "      <td>Pave</td>\n",
       "      <td>NaN</td>\n",
       "      <td>AllPub</td>\n",
       "      <td>CollgCr</td>\n",
       "      <td>Norm</td>\n",
       "      <td>Norm</td>\n",
       "      <td>...</td>\n",
       "      <td>0</td>\n",
       "      <td>0</td>\n",
       "      <td>0</td>\n",
       "      <td>NaN</td>\n",
       "      <td>NaN</td>\n",
       "      <td>9</td>\n",
       "      <td>2008</td>\n",
       "      <td>WD</td>\n",
       "      <td>Normal</td>\n",
       "      <td>223500</td>\n",
       "    </tr>\n",
       "    <tr>\n",
       "      <th>3</th>\n",
       "      <td>70</td>\n",
       "      <td>RL</td>\n",
       "      <td>60.0</td>\n",
       "      <td>9550</td>\n",
       "      <td>Pave</td>\n",
       "      <td>NaN</td>\n",
       "      <td>AllPub</td>\n",
       "      <td>Crawfor</td>\n",
       "      <td>Norm</td>\n",
       "      <td>Norm</td>\n",
       "      <td>...</td>\n",
       "      <td>0</td>\n",
       "      <td>0</td>\n",
       "      <td>0</td>\n",
       "      <td>NaN</td>\n",
       "      <td>NaN</td>\n",
       "      <td>2</td>\n",
       "      <td>2006</td>\n",
       "      <td>WD</td>\n",
       "      <td>Abnorml</td>\n",
       "      <td>140000</td>\n",
       "    </tr>\n",
       "    <tr>\n",
       "      <th>4</th>\n",
       "      <td>60</td>\n",
       "      <td>RL</td>\n",
       "      <td>84.0</td>\n",
       "      <td>14260</td>\n",
       "      <td>Pave</td>\n",
       "      <td>NaN</td>\n",
       "      <td>AllPub</td>\n",
       "      <td>NoRidge</td>\n",
       "      <td>Norm</td>\n",
       "      <td>Norm</td>\n",
       "      <td>...</td>\n",
       "      <td>0</td>\n",
       "      <td>0</td>\n",
       "      <td>0</td>\n",
       "      <td>NaN</td>\n",
       "      <td>NaN</td>\n",
       "      <td>12</td>\n",
       "      <td>2008</td>\n",
       "      <td>WD</td>\n",
       "      <td>Normal</td>\n",
       "      <td>250000</td>\n",
       "    </tr>\n",
       "  </tbody>\n",
       "</table>\n",
       "<p>5 rows × 74 columns</p>\n",
       "</div>"
      ]
     },
     "execution_count": 5,
     "metadata": {},
     "output_type": "execute_result"
    }
   ],
   "execution_count": 5
  },
  {
   "metadata": {
    "ExecuteTime": {
     "end_time": "2025-03-25T18:15:52.303444Z",
     "start_time": "2025-03-25T18:15:52.288280Z"
    }
   },
   "cell_type": "code",
   "source": [
    "X, y = dm.split_data_set_to_x_y(train_data, 'SalePrice')\n",
    "print(X.shape, y.shape)"
   ],
   "id": "6886b866ac95c603",
   "outputs": [
    {
     "name": "stdout",
     "output_type": "stream",
     "text": [
      "(1460, 73) (1460,)\n"
     ]
    }
   ],
   "execution_count": 6
  },
  {
   "metadata": {},
   "cell_type": "markdown",
   "source": "### 2.2. Обработка пропущенных значений и нормализация данных через ColumnTransformer и Pipeline",
   "id": "ad9948001fc3bdb3"
  },
  {
   "metadata": {
    "ExecuteTime": {
     "end_time": "2025-03-25T18:15:52.342226Z",
     "start_time": "2025-03-25T18:15:52.326093Z"
    }
   },
   "cell_type": "code",
   "source": [
    "# Получение числовых колонок\n",
    "numeric_columns = X.select_dtypes(include=['float64', 'int64']).columns\n",
    "\n",
    "# Получение нечисловых колонок (всех остальных)\n",
    "non_numeric_columns = X.select_dtypes(exclude=['float64', 'int64']).columns\n",
    "\n",
    "numeric_columns, non_numeric_columns"
   ],
   "id": "85f299f055ea56f5",
   "outputs": [
    {
     "data": {
      "text/plain": [
       "(Index(['MSSubClass', 'LotFrontage', 'LotArea', 'OverallQual', 'OverallCond',\n",
       "        'YearBuilt', 'YearRemodAdd', 'MasVnrArea', 'BsmtFinSF1', 'BsmtFinSF2',\n",
       "        'BsmtUnfSF', 'TotalBsmtSF', '1stFlrSF', '2ndFlrSF', 'LowQualFinSF',\n",
       "        'GrLivArea', 'BsmtFullBath', 'BsmtHalfBath', 'FullBath', 'HalfBath',\n",
       "        'BedroomAbvGr', 'KitchenAbvGr', 'TotRmsAbvGrd', 'Fireplaces',\n",
       "        'GarageYrBlt', 'GarageCars', 'GarageArea', 'WoodDeckSF', 'OpenPorchSF',\n",
       "        'EnclosedPorch', '3SsnPorch', 'ScreenPorch', 'PoolArea', 'MoSold',\n",
       "        'YrSold'],\n",
       "       dtype='object'),\n",
       " Index(['MSZoning', 'Street', 'Alley', 'Utilities', 'Neighborhood',\n",
       "        'Condition1', 'Condition2', 'BldgType', 'HouseStyle', 'RoofStyle',\n",
       "        'RoofMatl', 'Exterior1st', 'Exterior2nd', 'MasVnrType', 'ExterQual',\n",
       "        'ExterCond', 'Foundation', 'BsmtQual', 'BsmtCond', 'BsmtExposure',\n",
       "        'BsmtFinType1', 'BsmtFinType2', 'Heating', 'HeatingQC', 'CentralAir',\n",
       "        'Electrical', 'KitchenQual', 'Functional', 'FireplaceQu', 'GarageType',\n",
       "        'GarageFinish', 'GarageQual', 'GarageCond', 'PavedDrive', 'PoolQC',\n",
       "        'Fence', 'SaleType', 'SaleCondition'],\n",
       "       dtype='object'))"
      ]
     },
     "execution_count": 7,
     "metadata": {},
     "output_type": "execute_result"
    }
   ],
   "execution_count": 7
  },
  {
   "metadata": {
    "ExecuteTime": {
     "end_time": "2025-03-25T18:15:52.404045Z",
     "start_time": "2025-03-25T18:15:52.390220Z"
    }
   },
   "cell_type": "code",
   "source": [
    "# Создаем preprocessor с разными трансформерами для разных типов данных\n",
    "preprocessor = ColumnTransformer(\n",
    "    transformers=[\n",
    "        # Для числовых - импутация средним\n",
    "        ('num', Pipeline([\n",
    "            ('imputer', SimpleImputer(strategy='mean')),\n",
    "        ]), numeric_columns),\n",
    "        \n",
    "        # Для категориальных - сначала импутация, затем one-hot кодирование\n",
    "        ('cat', Pipeline([\n",
    "            ('imputer', SimpleImputer(strategy='most_frequent')),  # 'constant': заполняет константой, которую можно указать через параметр fill_value\n",
    "            ('onehot', OneHotEncoder(handle_unknown='ignore'))\n",
    "        ]), non_numeric_columns)\n",
    "    ], \n",
    "    sparse_threshold=0,  # Это заставит возвращать dense матрицу вместо sparse\n",
    "    remainder='drop'  # Все остальные столбцы не будут включены в результат; passthrough - оставить нетронутыми\n",
    ")"
   ],
   "id": "6d22b455f2c87cab",
   "outputs": [],
   "execution_count": 8
  },
  {
   "metadata": {},
   "cell_type": "markdown",
   "source": "### 2.3. Разбиение данных на обучающую и тестовую выборки",
   "id": "a87e406ee1a7f4c7"
  },
  {
   "metadata": {
    "ExecuteTime": {
     "end_time": "2025-03-25T18:15:52.436625Z",
     "start_time": "2025-03-25T18:15:52.422373Z"
    }
   },
   "cell_type": "code",
   "source": "RANDOM_STATE = 42",
   "id": "9f92def28a45f6",
   "outputs": [],
   "execution_count": 9
  },
  {
   "metadata": {
    "ExecuteTime": {
     "end_time": "2025-03-26T09:21:27.745763Z",
     "start_time": "2025-03-26T09:21:27.701261Z"
    }
   },
   "cell_type": "code",
   "source": [
    "# Катбуст сам выбирает даныне для валидации, поэтому отсекаем данные только для теста\n",
    "X_train, X_test, y_train, y_test = train_test_split(X, y, test_size=0.3, random_state=RANDOM_STATE)\n",
    "\n",
    "# Проверка размера полученных наборов\n",
    "print(f'Train size: {len(X_train)}')\n",
    "print(f'Test size: {len(X_test)}')"
   ],
   "id": "fc28101ddd71e50a",
   "outputs": [
    {
     "name": "stdout",
     "output_type": "stream",
     "text": [
      "Train size: 1022\n",
      "Test size: 438\n"
     ]
    }
   ],
   "execution_count": 20
  },
  {
   "metadata": {},
   "cell_type": "markdown",
   "source": [
    "### 2.4. Преобразование данных\n",
    "Т.к. сейчас будут ансамбли, то pipeline-ом пользоваться не сможем, поэтому преобразуем данные вручную"
   ],
   "id": "489dfe9c538e1294"
  },
  {
   "metadata": {
    "ExecuteTime": {
     "end_time": "2025-03-26T09:20:58.483317Z",
     "start_time": "2025-03-26T09:20:58.405584Z"
    }
   },
   "cell_type": "code",
   "source": [
    "# Фиттим только на обучающих данных\n",
    "preprocessor.fit(X_train)\n",
    "\n",
    "# Трансформируем обучающие и тестовые данные\n",
    "X_train_processed = preprocessor.transform(X_train)\n",
    "X_test_processed = preprocessor.transform(X_test)"
   ],
   "id": "ab3e0f87a923ab0e",
   "outputs": [],
   "execution_count": 19
  },
  {
   "metadata": {},
   "cell_type": "markdown",
   "source": "### 2.5. Обучение модели",
   "id": "c95fe0d5898232e7"
  },
  {
   "metadata": {},
   "cell_type": "markdown",
   "source": "#### 2.5.1. Обучение модели с использованием Ансамблей",
   "id": "59e51b83d2a143f9"
  },
  {
   "metadata": {
    "ExecuteTime": {
     "end_time": "2025-03-25T18:15:52.561303Z",
     "start_time": "2025-03-25T18:15:52.548232Z"
    }
   },
   "cell_type": "code",
   "source": [
    "ITERATIONS = 1000\n",
    "LEARNING_RATE = 0.05\n",
    "DEPTH = 6\n",
    "LOSS = 'RMSE'\n",
    "EVAL = 'RMSE'"
   ],
   "id": "ae15711665d5bff6",
   "outputs": [],
   "execution_count": 12
  },
  {
   "metadata": {
    "ExecuteTime": {
     "end_time": "2025-03-25T18:15:58.545954Z",
     "start_time": "2025-03-25T18:15:58.528091Z"
    }
   },
   "cell_type": "code",
   "source": [
    "# Определяем базовые модели\n",
    "estimators = [\n",
    "    ('lr', LinearRegression()),\n",
    "    ('rf', RandomForestRegressor(\n",
    "        n_estimators=ITERATIONS,\n",
    "        max_depth=DEPTH,\n",
    "        random_state=RANDOM_STATE,\n",
    "        verbose=0\n",
    "    )),\n",
    "    ('gbr', GradientBoostingRegressor(\n",
    "        n_estimators=ITERATIONS,\n",
    "        learning_rate=LEARNING_RATE,\n",
    "        max_depth=DEPTH,\n",
    "        loss='squared_error',\n",
    "        random_state=RANDOM_STATE,\n",
    "        verbose=0\n",
    "    )),\n",
    "    ('cb', CatBoostRegressor(\n",
    "        iterations=ITERATIONS,\n",
    "        learning_rate=LEARNING_RATE,\n",
    "        depth=DEPTH,\n",
    "        loss_function=LOSS,  # 'RMSE' или 'MAE', чаще RMSE\n",
    "        random_seed=RANDOM_STATE,\n",
    "        verbose=0\n",
    "    )),\n",
    "]"
   ],
   "id": "bf360cc1a5eea397",
   "outputs": [],
   "execution_count": 13
  },
  {
   "metadata": {
    "ExecuteTime": {
     "end_time": "2025-03-25T17:32:31.605435Z",
     "start_time": "2025-03-25T17:32:15.878776Z"
    }
   },
   "cell_type": "code",
   "source": [
    "# Смотрим, какие модели дают откровенно плохой результат - они не нужны в итоговом ансамбле\n",
    "for name, model in estimators:\n",
    "    model.fit(X_train_processed, y_train)\n",
    "    pred = model.predict(X_test_processed)\n",
    "    rmse = root_mean_squared_error(y_test, pred)\n",
    "    print(f'{name}: RMSE={rmse:.2f}')"
   ],
   "id": "bcfbeea20c7ca40e",
   "outputs": [
    {
     "name": "stdout",
     "output_type": "stream",
     "text": [
      "lr: RMSE=28026.02\n",
      "rf: RMSE=29283.10\n",
      "gbr: RMSE=25103.72\n",
      "cb: RMSE=23271.34\n"
     ]
    }
   ],
   "execution_count": 14
  },
  {
   "metadata": {
    "ExecuteTime": {
     "end_time": "2025-03-25T18:16:15.479521Z",
     "start_time": "2025-03-25T18:16:15.435335Z"
    }
   },
   "cell_type": "code",
   "source": [
    "# Финальные только хорошие модели\n",
    "estimators = [\n",
    "    ('cb', CatBoostRegressor(\n",
    "        iterations=ITERATIONS,\n",
    "        learning_rate=LEARNING_RATE,\n",
    "        depth=DEPTH,\n",
    "        loss_function=LOSS,\n",
    "        random_seed=RANDOM_STATE,\n",
    "        verbose=0\n",
    "    )),\n",
    "    # ('gbr', GradientBoostingRegressor(\n",
    "    #     n_estimators=ITERATIONS,\n",
    "    #     learning_rate=LEARNING_RATE * 0.1,  # часто лучше меньший lr\n",
    "    #     max_depth=DEPTH // 2,  # меньше глубина помогает избежать переобучения\n",
    "    #     random_state=RANDOM_STATE,\n",
    "    #     verbose=0\n",
    "    # )),\n",
    "]"
   ],
   "id": "42b9384f691bec52",
   "outputs": [],
   "execution_count": 14
  },
  {
   "metadata": {
    "ExecuteTime": {
     "end_time": "2025-03-25T18:16:24.483886Z",
     "start_time": "2025-03-25T18:16:16.008394Z"
    }
   },
   "cell_type": "code",
   "source": [
    "# Создаем модель стэкинга\n",
    "stacking_regressor = StackingRegressor(\n",
    "    estimators=estimators,\n",
    "    final_estimator=RidgeCV()\n",
    ")\n",
    "\n",
    "# Обучаем модель\n",
    "stacking_regressor.fit(X_train_processed, y_train)\n",
    "\n",
    "# Предсказание и оценка\n",
    "y_pred_cat = stacking_regressor.predict(X_test_processed)\n",
    "mse_cat = mean_squared_error(y_test, y_pred_cat)\n",
    "rmse_cat = root_mean_squared_error(y_test, y_pred_cat)\n",
    "r2_cat = r2_score(y_test, y_pred_cat)\n",
    "\n",
    "mean_target = np.mean(y_test)\n",
    "\n",
    "print(\"\\n=== Ansamble ===\")\n",
    "print(f'RMSE: {rmse_cat:.4f}')\n",
    "print(f'R² (коэффициент детерминации): {r2_cat:.4f}')\n",
    "print(f'Относительная среднеквадратичная ошибка (Relative RMSE): {rmse_cat/mean_target*100:.2f}%')"
   ],
   "id": "f018d6a6fe124562",
   "outputs": [
    {
     "name": "stdout",
     "output_type": "stream",
     "text": [
      "\n",
      "=== Ansamble ===\n",
      "RMSE: 23019.8614\n",
      "R² (коэффициент детерминации): 0.9241\n",
      "Относительная среднеквадратичная ошибка (Relative RMSE): 12.79%\n"
     ]
    }
   ],
   "execution_count": 15
  },
  {
   "metadata": {},
   "cell_type": "markdown",
   "source": "### Удивительно, но факт - вот этот вариант, где мы загнали в стекинг одну модель катбуста - оказался самым лучшим из всех экспериментов. Потому что катбуст сам по себе ансамблевый метод и не нуждается в дополнительных моделях. А все, что тут произошло, почему на пару долей десятых улучшился показатель, потому что стекинг сгладил результаты своей нормализацией через RidgeCV.",
   "id": "d0575e2ab7cd2f9a"
  },
  {
   "metadata": {
    "ExecuteTime": {
     "end_time": "2025-03-25T18:20:06.229208Z",
     "start_time": "2025-03-25T18:20:06.074386Z"
    }
   },
   "cell_type": "code",
   "source": [
    "# Формируем Submission файл для Kaggle обучив модель на 100% данных\n",
    "X_submission = test_data.drop(columns=bad_columns)\n",
    "X_submission_processed = preprocessor.transform(X_submission)\n",
    "y_submission = stacking_regressor.predict(X_submission_processed)\n",
    "submission = pd.DataFrame({\n",
    "    'Id': test_data['Id'],\n",
    "    'SalePrice': y_submission\n",
    "})\n",
    "submission.set_index('Id', inplace=True)\n",
    "submission.head()"
   ],
   "id": "34b43f2ad7b7571e",
   "outputs": [
    {
     "data": {
      "text/plain": [
       "          SalePrice\n",
       "Id                 \n",
       "1461  124456.383336\n",
       "1462  159655.895287\n",
       "1463  185200.203071\n",
       "1464  191353.832634\n",
       "1465  194300.650833"
      ],
      "text/html": [
       "<div>\n",
       "<style scoped>\n",
       "    .dataframe tbody tr th:only-of-type {\n",
       "        vertical-align: middle;\n",
       "    }\n",
       "\n",
       "    .dataframe tbody tr th {\n",
       "        vertical-align: top;\n",
       "    }\n",
       "\n",
       "    .dataframe thead th {\n",
       "        text-align: right;\n",
       "    }\n",
       "</style>\n",
       "<table border=\"1\" class=\"dataframe\">\n",
       "  <thead>\n",
       "    <tr style=\"text-align: right;\">\n",
       "      <th></th>\n",
       "      <th>SalePrice</th>\n",
       "    </tr>\n",
       "    <tr>\n",
       "      <th>Id</th>\n",
       "      <th></th>\n",
       "    </tr>\n",
       "  </thead>\n",
       "  <tbody>\n",
       "    <tr>\n",
       "      <th>1461</th>\n",
       "      <td>124456.383336</td>\n",
       "    </tr>\n",
       "    <tr>\n",
       "      <th>1462</th>\n",
       "      <td>159655.895287</td>\n",
       "    </tr>\n",
       "    <tr>\n",
       "      <th>1463</th>\n",
       "      <td>185200.203071</td>\n",
       "    </tr>\n",
       "    <tr>\n",
       "      <th>1464</th>\n",
       "      <td>191353.832634</td>\n",
       "    </tr>\n",
       "    <tr>\n",
       "      <th>1465</th>\n",
       "      <td>194300.650833</td>\n",
       "    </tr>\n",
       "  </tbody>\n",
       "</table>\n",
       "</div>"
      ]
     },
     "execution_count": 16,
     "metadata": {},
     "output_type": "execute_result"
    }
   ],
   "execution_count": 16
  },
  {
   "metadata": {
    "ExecuteTime": {
     "end_time": "2025-03-25T18:20:18.649473Z",
     "start_time": "2025-03-25T18:20:18.603621Z"
    }
   },
   "cell_type": "code",
   "source": "submission.to_csv('submission_ansabmled_catboost.csv')",
   "id": "beda1dda27cf3ae",
   "outputs": [],
   "execution_count": 17
  },
  {
   "metadata": {},
   "cell_type": "markdown",
   "source": "### Ниже всякие эксперименты с беггингом, стекингом и разными моделями и гиперпараметрами",
   "id": "aaaf64a7287706be"
  },
  {
   "metadata": {
    "ExecuteTime": {
     "end_time": "2025-03-25T17:33:11.094756Z",
     "start_time": "2025-03-25T17:33:02.425698Z"
    }
   },
   "cell_type": "code",
   "source": [
    "# Определяем базовые модели\n",
    "estimators = [\n",
    "    # ('lr', LinearRegression()),\n",
    "    # ('rf', RandomForestRegressor(\n",
    "    #     n_estimators=ITERATIONS,\n",
    "    #     max_depth=DEPTH,\n",
    "    #     random_state=RANDOM_STATE,\n",
    "    #     verbose=0\n",
    "    # )),\n",
    "    # ('gbr', GradientBoostingRegressor(\n",
    "    #     n_estimators=ITERATIONS,\n",
    "    #     learning_rate=LEARNING_RATE,\n",
    "    #     max_depth=DEPTH,\n",
    "    #     loss='squared_error',\n",
    "    #     random_state=RANDOM_STATE,\n",
    "    #     verbose=0\n",
    "    # )),\n",
    "    ('cb', CatBoostRegressor(\n",
    "        iterations=ITERATIONS,\n",
    "        learning_rate=LEARNING_RATE,\n",
    "        depth=DEPTH,\n",
    "        loss_function=LOSS,  # 'RMSE' или 'MAE', чаще RMSE\n",
    "        random_seed=RANDOM_STATE,\n",
    "        verbose=0\n",
    "    )),\n",
    "]\n",
    "\n",
    "# Создаем модель стэкинга\n",
    "stacking_regressor = StackingRegressor(\n",
    "    estimators=estimators,\n",
    "    final_estimator=RidgeCV()\n",
    ")\n",
    "\n",
    "# Обучаем модель\n",
    "stacking_regressor.fit(X_train_processed, y_train)\n",
    "\n",
    "# Предсказание и оценка\n",
    "y_pred_cat = stacking_regressor.predict(X_test_processed)\n",
    "mse_cat = mean_squared_error(y_test, y_pred_cat)\n",
    "rmse_cat = root_mean_squared_error(y_test, y_pred_cat)\n",
    "r2_cat = r2_score(y_test, y_pred_cat)\n",
    "\n",
    "mean_target = np.mean(y_test)\n",
    "\n",
    "print(\"\\n=== Ansamble ===\")\n",
    "print(f'RMSE: {rmse_cat:.4f}')\n",
    "print(f'R² (коэффициент детерминации): {r2_cat:.4f}')\n",
    "print(f'Относительная среднеквадратичная ошибка (Relative RMSE): {rmse_cat/mean_target*100:.2f}%')"
   ],
   "id": "45a95cea1573b672",
   "outputs": [
    {
     "name": "stdout",
     "output_type": "stream",
     "text": [
      "\n",
      "=== Ansamble ===\n",
      "RMSE: 23019.8614\n",
      "R² (коэффициент детерминации): 0.9241\n",
      "Относительная среднеквадратичная ошибка (Relative RMSE): 12.79%\n"
     ]
    }
   ],
   "execution_count": 17
  },
  {
   "metadata": {},
   "cell_type": "markdown",
   "source": "##### Мы видим, что стэкинг с моделями, которые дают явно худшие результаты, чем catboost, не дает улучшения. Попробуем бэггинг",
   "id": "63dca4820276b21c"
  },
  {
   "metadata": {
    "ExecuteTime": {
     "end_time": "2025-03-25T17:39:50.854021Z",
     "start_time": "2025-03-25T17:35:29.236462Z"
    }
   },
   "cell_type": "code",
   "source": [
    "# Базовый регрессор (CatBoost)\n",
    "base_regressor = CatBoostRegressor(\n",
    "    iterations=ITERATIONS,\n",
    "    learning_rate=LEARNING_RATE,\n",
    "    depth=DEPTH,\n",
    "    loss_function=LOSS,\n",
    "    random_seed=RANDOM_STATE,\n",
    "    verbose=0\n",
    ")\n",
    "\n",
    "# Эксперименты с параметрами\n",
    "bagging_params = [\n",
    "    {\n",
    "        'estimator': base_regressor, \n",
    "        'n_estimators': 10, \n",
    "        'max_samples': 0.8,\n",
    "        'max_features': 0.8,\n",
    "        'random_state': RANDOM_STATE\n",
    "    },\n",
    "    {\n",
    "        'estimator': base_regressor, \n",
    "        'n_estimators': 20, \n",
    "        'max_samples': 0.8,\n",
    "        'max_features': 0.8,\n",
    "        'random_state': RANDOM_STATE\n",
    "    },\n",
    "    {\n",
    "        'estimator': base_regressor, \n",
    "        'n_estimators': 30, \n",
    "        'max_samples': 0.8,\n",
    "        'max_features': 0.8,\n",
    "        'random_state': RANDOM_STATE\n",
    "    },\n",
    "    {\n",
    "        'estimator': base_regressor, \n",
    "        'n_estimators': 40, \n",
    "        'max_samples': 0.8,\n",
    "        'max_features': 0.8,\n",
    "        'random_state': RANDOM_STATE\n",
    "    },\n",
    "    {\n",
    "        'estimator': base_regressor, \n",
    "        'n_estimators': 50, \n",
    "        'max_samples': 0.8,\n",
    "        'max_features': 0.8,\n",
    "        'random_state': RANDOM_STATE\n",
    "    },\n",
    "]\n",
    "\n",
    "mean_target = np.mean(y_test)\n",
    "for baggin_param in bagging_params:\n",
    "    # Bagging для регрессии\n",
    "    bagging_regressor = BaggingRegressor(**baggin_param)\n",
    "    \n",
    "    # Обучаем ансамбль\n",
    "    bagging_regressor.fit(X_train_processed, y_train)\n",
    "    \n",
    "    # Предсказание и оценка\n",
    "    y_pred_cat = bagging_regressor.predict(X_test_processed)\n",
    "    mse_cat = mean_squared_error(y_test, y_pred_cat)\n",
    "    rmse_cat = root_mean_squared_error(y_test, y_pred_cat)\n",
    "    r2_cat = r2_score(y_test, y_pred_cat)\n",
    "\n",
    "    print(\"\\n=== Ansamble bagging ===\")\n",
    "    print(baggin_param)\n",
    "    print(f'RMSE: {rmse_cat:.4f}')\n",
    "    print(f'R² (коэффициент детерминации): {r2_cat:.4f}')\n",
    "    print(f'Относительная среднеквадратичная ошибка (Relative RMSE): {rmse_cat/mean_target*100:.2f}%')\n",
    "    print('====================')"
   ],
   "id": "da3b0c8194d27652",
   "outputs": [
    {
     "name": "stdout",
     "output_type": "stream",
     "text": [
      "\n",
      "=== Ansamble bagging ===\n",
      "[{'estimator': <catboost.core.CatBoostRegressor object at 0x30bb170b0>, 'n_estimators': 10, 'max_samples': 0.8, 'max_features': 0.8, 'random_state': 42}, {'estimator': <catboost.core.CatBoostRegressor object at 0x30bb170b0>, 'n_estimators': 20, 'max_samples': 0.8, 'max_features': 0.8, 'random_state': 42}, {'estimator': <catboost.core.CatBoostRegressor object at 0x30bb170b0>, 'n_estimators': 30, 'max_samples': 0.8, 'max_features': 0.8, 'random_state': 42}, {'estimator': <catboost.core.CatBoostRegressor object at 0x30bb170b0>, 'n_estimators': 40, 'max_samples': 0.8, 'max_features': 0.8, 'random_state': 42}, {'estimator': <catboost.core.CatBoostRegressor object at 0x30bb170b0>, 'n_estimators': 50, 'max_samples': 0.8, 'max_features': 0.8, 'random_state': 42}]\n",
      "RMSE: 25457.2847\n",
      "R² (коэффициент детерминации): 0.9071\n",
      "Относительная среднеквадратичная ошибка (Relative RMSE): 14.14%\n",
      "====================\n",
      "\n",
      "=== Ansamble bagging ===\n",
      "[{'estimator': <catboost.core.CatBoostRegressor object at 0x30bb170b0>, 'n_estimators': 10, 'max_samples': 0.8, 'max_features': 0.8, 'random_state': 42}, {'estimator': <catboost.core.CatBoostRegressor object at 0x30bb170b0>, 'n_estimators': 20, 'max_samples': 0.8, 'max_features': 0.8, 'random_state': 42}, {'estimator': <catboost.core.CatBoostRegressor object at 0x30bb170b0>, 'n_estimators': 30, 'max_samples': 0.8, 'max_features': 0.8, 'random_state': 42}, {'estimator': <catboost.core.CatBoostRegressor object at 0x30bb170b0>, 'n_estimators': 40, 'max_samples': 0.8, 'max_features': 0.8, 'random_state': 42}, {'estimator': <catboost.core.CatBoostRegressor object at 0x30bb170b0>, 'n_estimators': 50, 'max_samples': 0.8, 'max_features': 0.8, 'random_state': 42}]\n",
      "RMSE: 25618.2965\n",
      "R² (коэффициент детерминации): 0.9059\n",
      "Относительная среднеквадратичная ошибка (Relative RMSE): 14.23%\n",
      "====================\n",
      "\n",
      "=== Ansamble bagging ===\n",
      "[{'estimator': <catboost.core.CatBoostRegressor object at 0x30bb170b0>, 'n_estimators': 10, 'max_samples': 0.8, 'max_features': 0.8, 'random_state': 42}, {'estimator': <catboost.core.CatBoostRegressor object at 0x30bb170b0>, 'n_estimators': 20, 'max_samples': 0.8, 'max_features': 0.8, 'random_state': 42}, {'estimator': <catboost.core.CatBoostRegressor object at 0x30bb170b0>, 'n_estimators': 30, 'max_samples': 0.8, 'max_features': 0.8, 'random_state': 42}, {'estimator': <catboost.core.CatBoostRegressor object at 0x30bb170b0>, 'n_estimators': 40, 'max_samples': 0.8, 'max_features': 0.8, 'random_state': 42}, {'estimator': <catboost.core.CatBoostRegressor object at 0x30bb170b0>, 'n_estimators': 50, 'max_samples': 0.8, 'max_features': 0.8, 'random_state': 42}]\n",
      "RMSE: 25665.9301\n",
      "R² (коэффициент детерминации): 0.9056\n",
      "Относительная среднеквадратичная ошибка (Relative RMSE): 14.26%\n",
      "====================\n",
      "\n",
      "=== Ansamble bagging ===\n",
      "[{'estimator': <catboost.core.CatBoostRegressor object at 0x30bb170b0>, 'n_estimators': 10, 'max_samples': 0.8, 'max_features': 0.8, 'random_state': 42}, {'estimator': <catboost.core.CatBoostRegressor object at 0x30bb170b0>, 'n_estimators': 20, 'max_samples': 0.8, 'max_features': 0.8, 'random_state': 42}, {'estimator': <catboost.core.CatBoostRegressor object at 0x30bb170b0>, 'n_estimators': 30, 'max_samples': 0.8, 'max_features': 0.8, 'random_state': 42}, {'estimator': <catboost.core.CatBoostRegressor object at 0x30bb170b0>, 'n_estimators': 40, 'max_samples': 0.8, 'max_features': 0.8, 'random_state': 42}, {'estimator': <catboost.core.CatBoostRegressor object at 0x30bb170b0>, 'n_estimators': 50, 'max_samples': 0.8, 'max_features': 0.8, 'random_state': 42}]\n",
      "RMSE: 25898.5132\n",
      "R² (коэффициент детерминации): 0.9039\n",
      "Относительная среднеквадратичная ошибка (Relative RMSE): 14.39%\n",
      "====================\n",
      "\n",
      "=== Ansamble bagging ===\n",
      "[{'estimator': <catboost.core.CatBoostRegressor object at 0x30bb170b0>, 'n_estimators': 10, 'max_samples': 0.8, 'max_features': 0.8, 'random_state': 42}, {'estimator': <catboost.core.CatBoostRegressor object at 0x30bb170b0>, 'n_estimators': 20, 'max_samples': 0.8, 'max_features': 0.8, 'random_state': 42}, {'estimator': <catboost.core.CatBoostRegressor object at 0x30bb170b0>, 'n_estimators': 30, 'max_samples': 0.8, 'max_features': 0.8, 'random_state': 42}, {'estimator': <catboost.core.CatBoostRegressor object at 0x30bb170b0>, 'n_estimators': 40, 'max_samples': 0.8, 'max_features': 0.8, 'random_state': 42}, {'estimator': <catboost.core.CatBoostRegressor object at 0x30bb170b0>, 'n_estimators': 50, 'max_samples': 0.8, 'max_features': 0.8, 'random_state': 42}]\n",
      "RMSE: 26029.7411\n",
      "R² (коэффициент детерминации): 0.9029\n",
      "Относительная среднеквадратичная ошибка (Relative RMSE): 14.46%\n",
      "====================\n"
     ]
    }
   ],
   "execution_count": 19
  },
  {
   "metadata": {},
   "cell_type": "markdown",
   "source": [
    "##### Результаты бэггинга\n",
    "Видим, что, если просто увеличивать количество n_estimators, то улучшений нет, потому что все, что мы делаем, создаем новые модели catboost-а, но обученные на меньшем количестве данных и меньшем кол-ве фичей. Потом усредняем все это и получаются результаты хуже, чем просто результаты обучения одного catboost-а. Беггинг должен хорошо сработать на простых моделях, которые не являются сами по себе ансамблевыми (коими является catboost). Попробуем на LinearRegression, чем черт не шутит :)"
   ],
   "id": "ab88c32411fd8273"
  },
  {
   "metadata": {
    "ExecuteTime": {
     "end_time": "2025-03-25T17:51:06.232291Z",
     "start_time": "2025-03-25T17:51:04.151989Z"
    }
   },
   "cell_type": "code",
   "source": [
    "# Базовый регрессор\n",
    "base_regressor = LinearRegression()\n",
    "\n",
    "# Эксперименты с параметрами\n",
    "bagging_params = [\n",
    "    {\n",
    "        'estimator': base_regressor, \n",
    "        'n_estimators': 200, \n",
    "        'max_samples': 0.5,\n",
    "        'max_features': 0.8,\n",
    "        'random_state': RANDOM_STATE\n",
    "    },\n",
    "    # {\n",
    "    #     'estimator': base_regressor, \n",
    "    #     'n_estimators': 200, \n",
    "    #     'max_samples': 0.5,\n",
    "    #     'max_features': 0.6,\n",
    "    #     'random_state': RANDOM_STATE\n",
    "    # },\n",
    "    # {\n",
    "    #     'estimator': base_regressor, \n",
    "    #     'n_estimators': 200, \n",
    "    #     'max_samples': 0.5,\n",
    "    #     'max_features': 0.7,\n",
    "    #     'random_state': RANDOM_STATE\n",
    "    # },\n",
    "    # {\n",
    "    #     'estimator': base_regressor, \n",
    "    #     'n_estimators': 200, \n",
    "    #     'max_samples': 0.5,\n",
    "    #     'max_features': 0.8,\n",
    "    #     'random_state': RANDOM_STATE\n",
    "    # },\n",
    "    # {\n",
    "    #     'estimator': base_regressor, \n",
    "    #     'n_estimators': 200, \n",
    "    #     'max_samples': 0.5,\n",
    "    #     'max_features': 0.9,\n",
    "    #     'random_state': RANDOM_STATE\n",
    "    # },\n",
    "]\n",
    "\n",
    "mean_target = np.mean(y_test)\n",
    "for baggin_param in bagging_params:\n",
    "    # Bagging для регрессии\n",
    "    bagging_regressor = BaggingRegressor(**baggin_param)\n",
    "    \n",
    "    # Обучаем ансамбль\n",
    "    bagging_regressor.fit(X_train_processed, y_train)\n",
    "    \n",
    "    # Предсказание и оценка\n",
    "    y_pred_cat = bagging_regressor.predict(X_test_processed)\n",
    "    mse_cat = mean_squared_error(y_test, y_pred_cat)\n",
    "    rmse_cat = root_mean_squared_error(y_test, y_pred_cat)\n",
    "    r2_cat = r2_score(y_test, y_pred_cat)\n",
    "\n",
    "    print(\"\\n=== Ansamble bagging ===\")\n",
    "    print(baggin_param)\n",
    "    print(f'RMSE: {rmse_cat:.4f}')\n",
    "    print(f'R² (коэффициент детерминации): {r2_cat:.4f}')\n",
    "    print(f'Относительная среднеквадратичная ошибка (Relative RMSE): {rmse_cat/mean_target*100:.2f}%')\n",
    "    print('====================')"
   ],
   "id": "53fae194ec724d37",
   "outputs": [
    {
     "name": "stdout",
     "output_type": "stream",
     "text": [
      "\n",
      "=== Ansamble bagging ===\n",
      "{'estimator': LinearRegression(), 'n_estimators': 200, 'max_samples': 0.5, 'max_features': 0.8, 'random_state': 42}\n",
      "RMSE: 26533.2668\n",
      "R² (коэффициент детерминации): 0.8991\n",
      "Относительная среднеквадратичная ошибка (Relative RMSE): 14.74%\n",
      "====================\n"
     ]
    }
   ],
   "execution_count": 26
  },
  {
   "metadata": {},
   "cell_type": "markdown",
   "source": "##### Снизили хорошо ошибку бэггингом LinearRegression алгоритму. Попробуем еще другие модели",
   "id": "2cac979aeaa27a4"
  },
  {
   "metadata": {
    "ExecuteTime": {
     "end_time": "2025-03-25T18:02:11.343688Z",
     "start_time": "2025-03-25T18:02:00.292781Z"
    }
   },
   "cell_type": "code",
   "source": [
    "models = [\n",
    "    ('LinearRegression', LinearRegression()),\n",
    "    ('DecisionTree', DecisionTreeRegressor(max_depth=10, random_state=RANDOM_STATE)),\n",
    "    ('Ridge', Ridge(alpha=1.0)),\n",
    "    ('KNeighborsRegressor', KNeighborsRegressor(n_neighbors=5)),\n",
    "    ('SVR', SVR(kernel='rbf', C=10.0, epsilon=0.1)),\n",
    "]\n",
    "\n",
    "for model in models:\n",
    "    model_name, base_regressor = model \n",
    "    # Эксперименты с параметрами\n",
    "    bagging_params = [\n",
    "        {\n",
    "            'estimator': base_regressor, \n",
    "            'n_estimators': 10, \n",
    "            'max_samples': 0.8,\n",
    "            'max_features': 0.7,\n",
    "            'random_state': RANDOM_STATE\n",
    "        },\n",
    "        {\n",
    "            'estimator': base_regressor, \n",
    "            'n_estimators': 20, \n",
    "            'max_samples': 0.8,\n",
    "            'max_features': 0.7,\n",
    "            'random_state': RANDOM_STATE\n",
    "        },\n",
    "        {\n",
    "            'estimator': base_regressor, \n",
    "            'n_estimators': 30, \n",
    "            'max_samples': 0.8,\n",
    "            'max_features': 0.7,\n",
    "            'random_state': RANDOM_STATE\n",
    "        },\n",
    "        {\n",
    "            'estimator': base_regressor, \n",
    "            'n_estimators': 40, \n",
    "            'max_samples': 0.8,\n",
    "            'max_features': 0.7,\n",
    "            'random_state': RANDOM_STATE\n",
    "        },\n",
    "        {\n",
    "            'estimator': base_regressor, \n",
    "            'n_estimators': 50, \n",
    "            'max_samples': 0.8,\n",
    "            'max_features': 0.7,\n",
    "            'random_state': RANDOM_STATE\n",
    "        },\n",
    "    ]\n",
    "    \n",
    "    mean_target = np.mean(y_test)\n",
    "    for baggin_param in bagging_params:\n",
    "        # Bagging для регрессии\n",
    "        bagging_regressor = BaggingRegressor(**baggin_param)\n",
    "        \n",
    "        # Обучаем ансамбль\n",
    "        bagging_regressor.fit(X_train_processed, y_train)\n",
    "        \n",
    "        # Предсказание и оценка\n",
    "        y_pred_cat = bagging_regressor.predict(X_test_processed)\n",
    "        mse_cat = mean_squared_error(y_test, y_pred_cat)\n",
    "        rmse_cat = root_mean_squared_error(y_test, y_pred_cat)\n",
    "        r2_cat = r2_score(y_test, y_pred_cat)\n",
    "    \n",
    "        print(f\"\\n=== Ansamble bagging {model_name} ===\")\n",
    "        print(baggin_param)\n",
    "        print(f'RMSE: {rmse_cat:.4f}')\n",
    "        print(f'R² (коэффициент детерминации): {r2_cat:.4f}')\n",
    "        print(f'Относительная среднеквадратичная ошибка (Relative RMSE): {rmse_cat/mean_target*100:.2f}%')\n",
    "        print('====================')"
   ],
   "id": "a07c596f644555d2",
   "outputs": [
    {
     "name": "stdout",
     "output_type": "stream",
     "text": [
      "\n",
      "=== Ansamble bagging LinearRegression ===\n",
      "{'estimator': LinearRegression(), 'n_estimators': 10, 'max_samples': 0.8, 'max_features': 0.7, 'random_state': 42}\n",
      "RMSE: 27363.4477\n",
      "R² (коэффициент детерминации): 0.8927\n",
      "Относительная среднеквадратичная ошибка (Relative RMSE): 15.20%\n",
      "====================\n",
      "\n",
      "=== Ansamble bagging LinearRegression ===\n",
      "{'estimator': LinearRegression(), 'n_estimators': 20, 'max_samples': 0.8, 'max_features': 0.7, 'random_state': 42}\n",
      "RMSE: 27656.3438\n",
      "R² (коэффициент детерминации): 0.8904\n",
      "Относительная среднеквадратичная ошибка (Relative RMSE): 15.36%\n",
      "====================\n",
      "\n",
      "=== Ansamble bagging LinearRegression ===\n",
      "{'estimator': LinearRegression(), 'n_estimators': 30, 'max_samples': 0.8, 'max_features': 0.7, 'random_state': 42}\n",
      "RMSE: 27340.6598\n",
      "R² (коэффициент детерминации): 0.8929\n",
      "Относительная среднеквадратичная ошибка (Relative RMSE): 15.19%\n",
      "====================\n",
      "\n",
      "=== Ansamble bagging LinearRegression ===\n",
      "{'estimator': LinearRegression(), 'n_estimators': 40, 'max_samples': 0.8, 'max_features': 0.7, 'random_state': 42}\n",
      "RMSE: 27615.7435\n",
      "R² (коэффициент детерминации): 0.8907\n",
      "Относительная среднеквадратичная ошибка (Relative RMSE): 15.34%\n",
      "====================\n",
      "\n",
      "=== Ansamble bagging LinearRegression ===\n",
      "{'estimator': LinearRegression(), 'n_estimators': 50, 'max_samples': 0.8, 'max_features': 0.7, 'random_state': 42}\n",
      "RMSE: 27437.1916\n",
      "R² (коэффициент детерминации): 0.8921\n",
      "Относительная среднеквадратичная ошибка (Relative RMSE): 15.24%\n",
      "====================\n",
      "\n",
      "=== Ansamble bagging DecisionTree ===\n",
      "{'estimator': DecisionTreeRegressor(max_depth=10, random_state=42), 'n_estimators': 10, 'max_samples': 0.8, 'max_features': 0.7, 'random_state': 42}\n",
      "RMSE: 29451.8911\n",
      "R² (коэффициент детерминации): 0.8757\n",
      "Относительная среднеквадратичная ошибка (Relative RMSE): 16.36%\n",
      "====================\n",
      "\n",
      "=== Ansamble bagging DecisionTree ===\n",
      "{'estimator': DecisionTreeRegressor(max_depth=10, random_state=42), 'n_estimators': 20, 'max_samples': 0.8, 'max_features': 0.7, 'random_state': 42}\n",
      "RMSE: 27423.0846\n",
      "R² (коэффициент детерминации): 0.8922\n",
      "Относительная среднеквадратичная ошибка (Relative RMSE): 15.23%\n",
      "====================\n",
      "\n",
      "=== Ansamble bagging DecisionTree ===\n",
      "{'estimator': DecisionTreeRegressor(max_depth=10, random_state=42), 'n_estimators': 30, 'max_samples': 0.8, 'max_features': 0.7, 'random_state': 42}\n",
      "RMSE: 26967.5891\n",
      "R² (коэффициент детерминации): 0.8958\n",
      "Относительная среднеквадратичная ошибка (Relative RMSE): 14.98%\n",
      "====================\n",
      "\n",
      "=== Ansamble bagging DecisionTree ===\n",
      "{'estimator': DecisionTreeRegressor(max_depth=10, random_state=42), 'n_estimators': 40, 'max_samples': 0.8, 'max_features': 0.7, 'random_state': 42}\n",
      "RMSE: 26623.0867\n",
      "R² (коэффициент детерминации): 0.8984\n",
      "Относительная среднеквадратичная ошибка (Relative RMSE): 14.79%\n",
      "====================\n",
      "\n",
      "=== Ansamble bagging DecisionTree ===\n",
      "{'estimator': DecisionTreeRegressor(max_depth=10, random_state=42), 'n_estimators': 50, 'max_samples': 0.8, 'max_features': 0.7, 'random_state': 42}\n",
      "RMSE: 27096.0814\n",
      "R² (коэффициент детерминации): 0.8948\n",
      "Относительная среднеквадратичная ошибка (Relative RMSE): 15.05%\n",
      "====================\n",
      "\n",
      "=== Ansamble bagging Ridge ===\n",
      "{'estimator': Ridge(), 'n_estimators': 10, 'max_samples': 0.8, 'max_features': 0.7, 'random_state': 42}\n",
      "RMSE: 27964.7259\n",
      "R² (коэффициент детерминации): 0.8879\n",
      "Относительная среднеквадратичная ошибка (Relative RMSE): 15.54%\n",
      "====================\n",
      "\n",
      "=== Ansamble bagging Ridge ===\n",
      "{'estimator': Ridge(), 'n_estimators': 20, 'max_samples': 0.8, 'max_features': 0.7, 'random_state': 42}\n",
      "RMSE: 27658.8779\n",
      "R² (коэффициент детерминации): 0.8904\n",
      "Относительная среднеквадратичная ошибка (Relative RMSE): 15.37%\n",
      "====================\n",
      "\n",
      "=== Ansamble bagging Ridge ===\n",
      "{'estimator': Ridge(), 'n_estimators': 30, 'max_samples': 0.8, 'max_features': 0.7, 'random_state': 42}\n",
      "RMSE: 27355.6598\n",
      "R² (коэффициент детерминации): 0.8928\n",
      "Относительная среднеквадратичная ошибка (Relative RMSE): 15.20%\n",
      "====================\n",
      "\n",
      "=== Ansamble bagging Ridge ===\n",
      "{'estimator': Ridge(), 'n_estimators': 40, 'max_samples': 0.8, 'max_features': 0.7, 'random_state': 42}\n",
      "RMSE: 27524.8636\n",
      "R² (коэффициент детерминации): 0.8914\n",
      "Относительная среднеквадратичная ошибка (Relative RMSE): 15.29%\n",
      "====================\n",
      "\n",
      "=== Ansamble bagging Ridge ===\n",
      "{'estimator': Ridge(), 'n_estimators': 50, 'max_samples': 0.8, 'max_features': 0.7, 'random_state': 42}\n",
      "RMSE: 27504.0702\n",
      "R² (коэффициент детерминации): 0.8916\n",
      "Относительная среднеквадратичная ошибка (Relative RMSE): 15.28%\n",
      "====================\n",
      "\n",
      "=== Ansamble bagging KNeighborsRegressor ===\n",
      "{'estimator': KNeighborsRegressor(), 'n_estimators': 10, 'max_samples': 0.8, 'max_features': 0.7, 'random_state': 42}\n",
      "RMSE: 42309.3242\n",
      "R² (коэффициент детерминации): 0.7435\n",
      "Относительная среднеквадратичная ошибка (Relative RMSE): 23.50%\n",
      "====================\n",
      "\n",
      "=== Ansamble bagging KNeighborsRegressor ===\n",
      "{'estimator': KNeighborsRegressor(), 'n_estimators': 20, 'max_samples': 0.8, 'max_features': 0.7, 'random_state': 42}\n",
      "RMSE: 42830.1496\n",
      "R² (коэффициент детерминации): 0.7371\n",
      "Относительная среднеквадратичная ошибка (Relative RMSE): 23.79%\n",
      "====================\n",
      "\n",
      "=== Ansamble bagging KNeighborsRegressor ===\n",
      "{'estimator': KNeighborsRegressor(), 'n_estimators': 30, 'max_samples': 0.8, 'max_features': 0.7, 'random_state': 42}\n",
      "RMSE: 43672.3467\n",
      "R² (коэффициент детерминации): 0.7267\n",
      "Относительная среднеквадратичная ошибка (Relative RMSE): 24.26%\n",
      "====================\n",
      "\n",
      "=== Ansamble bagging KNeighborsRegressor ===\n",
      "{'estimator': KNeighborsRegressor(), 'n_estimators': 40, 'max_samples': 0.8, 'max_features': 0.7, 'random_state': 42}\n",
      "RMSE: 44148.9056\n",
      "R² (коэффициент детерминации): 0.7207\n",
      "Относительная среднеквадратичная ошибка (Relative RMSE): 24.53%\n",
      "====================\n",
      "\n",
      "=== Ansamble bagging KNeighborsRegressor ===\n",
      "{'estimator': KNeighborsRegressor(), 'n_estimators': 50, 'max_samples': 0.8, 'max_features': 0.7, 'random_state': 42}\n",
      "RMSE: 44900.9351\n",
      "R² (коэффициент детерминации): 0.7111\n",
      "Относительная среднеквадратичная ошибка (Relative RMSE): 24.94%\n",
      "====================\n",
      "\n",
      "=== Ansamble bagging SVR ===\n",
      "{'estimator': SVR(C=10.0), 'n_estimators': 10, 'max_samples': 0.8, 'max_features': 0.7, 'random_state': 42}\n",
      "RMSE: 84911.2801\n",
      "R² (коэффициент детерминации): -0.0332\n",
      "Относительная среднеквадратичная ошибка (Relative RMSE): 47.17%\n",
      "====================\n",
      "\n",
      "=== Ansamble bagging SVR ===\n",
      "{'estimator': SVR(C=10.0), 'n_estimators': 20, 'max_samples': 0.8, 'max_features': 0.7, 'random_state': 42}\n",
      "RMSE: 84857.7601\n",
      "R² (коэффициент детерминации): -0.0319\n",
      "Относительная среднеквадратичная ошибка (Relative RMSE): 47.14%\n",
      "====================\n",
      "\n",
      "=== Ansamble bagging SVR ===\n",
      "{'estimator': SVR(C=10.0), 'n_estimators': 30, 'max_samples': 0.8, 'max_features': 0.7, 'random_state': 42}\n",
      "RMSE: 84781.1592\n",
      "R² (коэффициент детерминации): -0.0301\n",
      "Относительная среднеквадратичная ошибка (Relative RMSE): 47.10%\n",
      "====================\n",
      "\n",
      "=== Ansamble bagging SVR ===\n",
      "{'estimator': SVR(C=10.0), 'n_estimators': 40, 'max_samples': 0.8, 'max_features': 0.7, 'random_state': 42}\n",
      "RMSE: 84785.5262\n",
      "R² (коэффициент детерминации): -0.0302\n",
      "Относительная среднеквадратичная ошибка (Relative RMSE): 47.10%\n",
      "====================\n",
      "\n",
      "=== Ansamble bagging SVR ===\n",
      "{'estimator': SVR(C=10.0), 'n_estimators': 50, 'max_samples': 0.8, 'max_features': 0.7, 'random_state': 42}\n",
      "RMSE: 84812.2567\n",
      "R² (коэффициент детерминации): -0.0308\n",
      "Относительная среднеквадратичная ошибка (Relative RMSE): 47.12%\n",
      "====================\n"
     ]
    }
   ],
   "execution_count": 29
  },
  {
   "metadata": {},
   "cell_type": "markdown",
   "source": "##### Видим, что бэггинг сработал лучше всего на LinearRegression, DecisionTree и Ridge. Попробуем их в стэкинге",
   "id": "a6e41d9ce265909d"
  },
  {
   "metadata": {
    "ExecuteTime": {
     "end_time": "2025-03-25T18:04:44.113052Z",
     "start_time": "2025-03-25T18:04:42.922321Z"
    }
   },
   "cell_type": "code",
   "source": [
    "estimators = [\n",
    "    ('LinearRegression', LinearRegression()),\n",
    "    ('DecisionTree', DecisionTreeRegressor(max_depth=10, random_state=RANDOM_STATE)),\n",
    "    ('Ridge', Ridge(alpha=1.0)),\n",
    "    ('KNeighborsRegressor', KNeighborsRegressor(n_neighbors=5)),\n",
    "    ('SVR', SVR(kernel='rbf', C=10.0, epsilon=0.1)),\n",
    "]\n",
    "\n",
    "# Создаем модель стэкинга\n",
    "stacking_regressor = StackingRegressor(\n",
    "    estimators=estimators,\n",
    "    final_estimator=RidgeCV()\n",
    ")\n",
    "\n",
    "# Обучаем модель\n",
    "stacking_regressor.fit(X_train_processed, y_train)\n",
    "\n",
    "# Предсказание и оценка\n",
    "y_pred_cat = stacking_regressor.predict(X_test_processed)\n",
    "mse_cat = mean_squared_error(y_test, y_pred_cat)\n",
    "rmse_cat = root_mean_squared_error(y_test, y_pred_cat)\n",
    "r2_cat = r2_score(y_test, y_pred_cat)\n",
    "\n",
    "mean_target = np.mean(y_test)\n",
    "\n",
    "print(\"\\n=== Ansamble stacking ===\")\n",
    "print(f'RMSE: {rmse_cat:.4f}')\n",
    "print(f'R² (коэффициент детерминации): {r2_cat:.4f}')\n",
    "print(f'Относительная среднеквадратичная ошибка (Relative RMSE): {rmse_cat/mean_target*100:.2f}%')"
   ],
   "id": "f618c782bf9bda31",
   "outputs": [
    {
     "name": "stdout",
     "output_type": "stream",
     "text": [
      "\n",
      "=== Ansamble stacking ===\n",
      "RMSE: 28389.0368\n",
      "R² (коэффициент детерминации): 0.8845\n",
      "Относительная среднеквадратичная ошибка (Relative RMSE): 15.77%\n"
     ]
    }
   ],
   "execution_count": 31
  },
  {
   "metadata": {},
   "cell_type": "markdown",
   "source": "##### Попробуем бэггинг на CatBoost, но с выборкой по данным и фичам близкими к 1",
   "id": "3548633579ae678e"
  },
  {
   "metadata": {
    "ExecuteTime": {
     "end_time": "2025-03-25T18:07:43.813474Z",
     "start_time": "2025-03-25T18:07:26.489755Z"
    }
   },
   "cell_type": "code",
   "source": [
    "# Базовый регрессор (CatBoost)\n",
    "base_regressor = CatBoostRegressor(\n",
    "    iterations=ITERATIONS,\n",
    "    learning_rate=LEARNING_RATE,\n",
    "    depth=DEPTH,\n",
    "    loss_function=LOSS,\n",
    "    random_seed=RANDOM_STATE,\n",
    "    verbose=0\n",
    ")\n",
    "\n",
    "# Эксперименты с параметрами\n",
    "bagging_params = [\n",
    "    {\n",
    "        'estimator': base_regressor, \n",
    "        'n_estimators': 10, \n",
    "        'max_samples': 0.9,\n",
    "        'max_features': 0.9,\n",
    "        'random_state': RANDOM_STATE\n",
    "    },\n",
    "    # {\n",
    "    #     'estimator': base_regressor, \n",
    "    #     'n_estimators': 20, \n",
    "    #     'max_samples': 0.8,\n",
    "    #     'max_features': 0.8,\n",
    "    #     'random_state': RANDOM_STATE\n",
    "    # },\n",
    "    # {\n",
    "    #     'estimator': base_regressor, \n",
    "    #     'n_estimators': 30, \n",
    "    #     'max_samples': 0.8,\n",
    "    #     'max_features': 0.8,\n",
    "    #     'random_state': RANDOM_STATE\n",
    "    # },\n",
    "    # {\n",
    "    #     'estimator': base_regressor, \n",
    "    #     'n_estimators': 40, \n",
    "    #     'max_samples': 0.8,\n",
    "    #     'max_features': 0.8,\n",
    "    #     'random_state': RANDOM_STATE\n",
    "    # },\n",
    "    # {\n",
    "    #     'estimator': base_regressor, \n",
    "    #     'n_estimators': 50, \n",
    "    #     'max_samples': 0.8,\n",
    "    #     'max_features': 0.8,\n",
    "    #     'random_state': RANDOM_STATE\n",
    "    # },\n",
    "]\n",
    "\n",
    "mean_target = np.mean(y_test)\n",
    "for baggin_param in bagging_params:\n",
    "    # Bagging для регрессии\n",
    "    bagging_regressor = BaggingRegressor(**baggin_param)\n",
    "    \n",
    "    # Обучаем ансамбль\n",
    "    bagging_regressor.fit(X_train_processed, y_train)\n",
    "    \n",
    "    # Предсказание и оценка\n",
    "    y_pred_cat = bagging_regressor.predict(X_test_processed)\n",
    "    mse_cat = mean_squared_error(y_test, y_pred_cat)\n",
    "    rmse_cat = root_mean_squared_error(y_test, y_pred_cat)\n",
    "    r2_cat = r2_score(y_test, y_pred_cat)\n",
    "\n",
    "    print(\"\\n=== Ansamble bagging ===\")\n",
    "    print(baggin_param)\n",
    "    print(f'RMSE: {rmse_cat:.4f}')\n",
    "    print(f'R² (коэффициент детерминации): {r2_cat:.4f}')\n",
    "    print(f'Относительная среднеквадратичная ошибка (Relative RMSE): {rmse_cat/mean_target*100:.2f}%')\n",
    "    print('====================')"
   ],
   "id": "37edb05f993870fb",
   "outputs": [
    {
     "name": "stdout",
     "output_type": "stream",
     "text": [
      "\n",
      "=== Ansamble bagging ===\n",
      "{'estimator': <catboost.core.CatBoostRegressor object at 0x30b2473b0>, 'n_estimators': 10, 'max_samples': 0.9, 'max_features': 0.9, 'random_state': 42}\n",
      "RMSE: 24727.4780\n",
      "R² (коэффициент детерминации): 0.9124\n",
      "Относительная среднеквадратичная ошибка (Relative RMSE): 13.74%\n",
      "====================\n"
     ]
    }
   ],
   "execution_count": 32
  },
  {
   "metadata": {},
   "cell_type": "markdown",
   "source": "##### Попробуем просто обучить N раз catboost без ансамблей и взять усредненные данные",
   "id": "7ddb96b4ad856583"
  },
  {
   "metadata": {
    "ExecuteTime": {
     "end_time": "2025-03-25T18:15:20.345559Z",
     "start_time": "2025-03-25T18:14:51.412705Z"
    }
   },
   "cell_type": "code",
   "source": [
    "# Сколько моделей будем обучать и усреднять\n",
    "N_MODELS = 10\n",
    "\n",
    "# Список для сохранения предсказаний всех моделей\n",
    "predictions = []\n",
    "\n",
    "# Обучаем N моделей CatBoost с разными random_seed\n",
    "models = []\n",
    "for i in range(N_MODELS):\n",
    "    seed = RANDOM_STATE + i * 10  # разные random_seed-ы\n",
    "    \n",
    "    model = CatBoostRegressor(\n",
    "        iterations=ITERATIONS,\n",
    "        learning_rate=LEARNING_RATE,\n",
    "        depth=DEPTH,\n",
    "        loss_function=LOSS,\n",
    "        random_seed=seed,\n",
    "        verbose=False\n",
    "    )\n",
    "    \n",
    "    # Обучаем модель на всех данных\n",
    "    model.fit(X_train_processed, y_train)\n",
    "    models.append(model)\n",
    "    \n",
    "    # Предсказания на тесте\n",
    "    y_pred = model.predict(X_test_processed)\n",
    "    \n",
    "    # Добавляем предсказания в список\n",
    "    predictions.append(y_pred)\n",
    "\n",
    "# Усредняем предсказания всех моделей\n",
    "avg_predictions = np.mean(predictions, axis=0)\n",
    "\n",
    "# Оценка результатов усреднённой модели\n",
    "rmse = root_mean_squared_error(y_test, avg_predictions)\n",
    "r2 = r2_score(y_test, avg_predictions)\n",
    "mean_target = np.mean(y_test)\n",
    "\n",
    "print(\"\\n=== Усреднённый ансамбль CatBoost ===\")\n",
    "print(f'RMSE: {rmse:.4f}')\n",
    "print(f'R² (коэффициент детерминации): {r2:.4f}')\n",
    "print(f'Относительная среднеквадратичная ошибка (Relative RMSE): {rmse/mean_target*100:.2f}%')"
   ],
   "id": "8d355e23de8438db",
   "outputs": [
    {
     "name": "stdout",
     "output_type": "stream",
     "text": [
      "\n",
      "=== Усреднённый ансамбль CatBoost ===\n",
      "RMSE: 23433.0821\n",
      "R² (коэффициент детерминации): 0.9213\n",
      "Относительная среднеквадратичная ошибка (Relative RMSE): 13.02%\n"
     ]
    }
   ],
   "execution_count": 36
  },
  {
   "metadata": {},
   "cell_type": "markdown",
   "source": "#### 2.5.2. Стандартное обучение модели без пайплайна с заранее преобразованными данными",
   "id": "62acdd1fd72f1596"
  },
  {
   "metadata": {
    "ExecuteTime": {
     "end_time": "2025-03-25T14:50:42.451493Z",
     "start_time": "2025-03-25T14:50:40.893443Z"
    }
   },
   "cell_type": "code",
   "source": [
    "cat_model = CatBoostRegressor(\n",
    "    iterations=ITERATIONS,\n",
    "    learning_rate=LEARNING_RATE,\n",
    "    depth=DEPTH,\n",
    "    loss_function=LOSS,\n",
    "    random_seed=RANDOM_STATE,\n",
    "    verbose=False,\n",
    "    # eval_metric='RMSE'\n",
    ")\n",
    "\n",
    "cat_model.fit(\n",
    "    X_train_processed, y_train,\n",
    ")\n",
    "\n",
    "# Предсказание и оценка\n",
    "y_pred_cat = cat_model.predict(X_test_processed)\n",
    "mse_cat = mean_squared_error(y_test, y_pred_cat)\n",
    "rmse_cat = root_mean_squared_error(y_test, y_pred_cat)\n",
    "r2_cat = r2_score(y_test, y_pred_cat)\n",
    "\n",
    "mean_target = np.mean(y_test)\n",
    "\n",
    "print(\"\\n=== CatBoost ===\")\n",
    "print(f'RMSE: {rmse_cat:.4f}')\n",
    "print(f'R² (коэффициент детерминации): {r2_cat:.4f}')\n",
    "print(f'Относительная среднеквадратичная ошибка (Relative RMSE): {rmse_cat/mean_target*100:.2f}%')"
   ],
   "id": "373e147538b719a",
   "outputs": [
    {
     "name": "stdout",
     "output_type": "stream",
     "text": [
      "\n",
      "=== CatBoost ===\n",
      "RMSE: 23271.3399\n",
      "R² (коэффициент детерминации): 0.9224\n",
      "Относительная среднеквадратичная ошибка (Relative RMSE): 12.93%\n"
     ]
    }
   ],
   "execution_count": 14
  },
  {
   "metadata": {},
   "cell_type": "markdown",
   "source": "#### 2.5.2. Стандартное обучение модели c пайлайном",
   "id": "698e34c054b909cb"
  },
  {
   "metadata": {
    "ExecuteTime": {
     "end_time": "2025-03-25T13:33:52.334644Z",
     "start_time": "2025-03-25T13:33:43.245196Z"
    }
   },
   "cell_type": "code",
   "outputs": [
    {
     "name": "stdout",
     "output_type": "stream",
     "text": [
      "\n",
      "=== CatBoost ===\n",
      "RMSE: 23271.3399\n",
      "R² (коэффициент детерминации): 0.9224\n",
      "Относительная среднеквадратичная ошибка (Relative RMSE): 12.93%\n",
      "Средний RMSE на кросс-валидации: 25867.99820262165\n"
     ]
    }
   ],
   "execution_count": 23,
   "source": [
    "cat_pipeline = Pipeline([\n",
    "    ('preprocessor', preprocessor),\n",
    "    ('model', CatBoostRegressor(iterations=1000, \n",
    "                                learning_rate=0.05, \n",
    "                                depth=6, \n",
    "                                loss_function='RMSE',\n",
    "                                verbose=False,\n",
    "                                random_seed=RANDOM_STATE,\n",
    "                                ))\n",
    "])\n",
    "\n",
    "# Обучение модели\n",
    "cat_pipeline.fit(X_train, y_train)\n",
    "\n",
    "# Предсказание и оценка\n",
    "y_pred_cat = cat_pipeline.predict(X_test)\n",
    "mse_cat = mean_squared_error(y_test, y_pred_cat)\n",
    "rmse_cat = root_mean_squared_error(y_test, y_pred_cat)\n",
    "r2_cat = r2_score(y_test, y_pred_cat)\n",
    "\n",
    "mean_target = np.mean(y_test)\n",
    "\n",
    "print(\"\\n=== CatBoost ===\")\n",
    "print(f'RMSE: {rmse_cat:.4f}')\n",
    "print(f'R² (коэффициент детерминации): {r2_cat:.4f}')\n",
    "print(f'Относительная среднеквадратичная ошибка (Relative RMSE): {rmse_cat/mean_target*100:.2f}%')\n",
    "\n",
    "# Используем кросс-валидацию (cross-validation), чтобы результаты были надежными и не зависели от случайного разбиения.\n",
    "scores = cross_val_score(cat_pipeline, X, y, scoring='neg_root_mean_squared_error', cv=5)\n",
    "rmse_scores = -scores\n",
    "print(\"Средний RMSE на кросс-валидации:\", rmse_scores.mean())"
   ],
   "id": "90f433f32d8aef0a"
  }
 ],
 "metadata": {
  "kernelspec": {
   "display_name": "Python 3",
   "language": "python",
   "name": "python3"
  },
  "language_info": {
   "codemirror_mode": {
    "name": "ipython",
    "version": 2
   },
   "file_extension": ".py",
   "mimetype": "text/x-python",
   "name": "python",
   "nbconvert_exporter": "python",
   "pygments_lexer": "ipython2",
   "version": "2.7.6"
  }
 },
 "nbformat": 4,
 "nbformat_minor": 5
}

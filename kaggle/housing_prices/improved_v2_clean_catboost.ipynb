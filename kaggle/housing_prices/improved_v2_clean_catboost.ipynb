{
 "cells": [
  {
   "metadata": {},
   "cell_type": "markdown",
   "source": [
    "# Попытка улучшить показатели лучшей реализации с ошибкой в ~12.93% RMSE\n",
    "Тут пробуем отказаться от всех нормализаций данных, передав в catboost все as is."
   ],
   "id": "fef6d35b0a2ad3b0"
  },
  {
   "cell_type": "code",
   "id": "initial_id",
   "metadata": {
    "collapsed": true,
    "ExecuteTime": {
     "end_time": "2025-03-21T15:28:41.031343Z",
     "start_time": "2025-03-21T15:28:40.029869Z"
    }
   },
   "source": [
    "from IPython.lib.deepreload import reload\n",
    "from xgboost import train\n",
    "%load_ext autoreload\n",
    "%autoreload 2\n",
    "\n",
    "import joblib\n",
    "import numpy as np\n",
    "import pandas as pd\n",
    "\n",
    "from catboost import CatBoostRegressor\n",
    "from sklearn.metrics import mean_squared_error, root_mean_squared_error, r2_score\n",
    "from sklearn.model_selection import train_test_split, cross_val_score\n",
    "\n",
    "from utils.data_manager import DataManager\n",
    "from utils.model_manager import ModelManager"
   ],
   "outputs": [],
   "execution_count": 1
  },
  {
   "metadata": {},
   "cell_type": "markdown",
   "source": "## Загрузка данных",
   "id": "a921000ffcfd4140"
  },
  {
   "metadata": {
    "ExecuteTime": {
     "end_time": "2025-03-21T15:28:41.067877Z",
     "start_time": "2025-03-21T15:28:41.036740Z"
    }
   },
   "cell_type": "code",
   "source": [
    "data_path = 'data/home-data-for-ml-course'\n",
    "train_data = pd.read_csv(data_path + '/train.csv')\n",
    "test_data = pd.read_csv(data_path + '/test.csv')\n",
    "train_data.shape, test_data.shape"
   ],
   "id": "6e394a980e7e910c",
   "outputs": [
    {
     "data": {
      "text/plain": [
       "((1460, 81), (1459, 80))"
      ]
     },
     "execution_count": 2,
     "metadata": {},
     "output_type": "execute_result"
    }
   ],
   "execution_count": 2
  },
  {
   "metadata": {},
   "cell_type": "markdown",
   "source": "## Предобработка данных и построение модели через Catboost чистый",
   "id": "2c93468b7301b6ef"
  },
  {
   "metadata": {
    "ExecuteTime": {
     "end_time": "2025-03-21T15:28:41.168189Z",
     "start_time": "2025-03-21T15:28:41.154177Z"
    }
   },
   "cell_type": "code",
   "source": "dm = DataManager()",
   "id": "c93dc413bd60028a",
   "outputs": [],
   "execution_count": 3
  },
  {
   "metadata": {
    "ExecuteTime": {
     "end_time": "2025-03-21T15:28:41.191726Z",
     "start_time": "2025-03-21T15:28:41.177696Z"
    }
   },
   "cell_type": "code",
   "source": [
    "intuitively_bad_features = [\n",
    "    'LotShape',  # Общая форма участка\n",
    "    'LandContour',  # Рельеф участка\n",
    "    'LotConfig',  # Конфигурация участка\n",
    "    'LandSlope',  # Уклон участка\n",
    "    'MiscFeature',\n",
    "    'MiscVal',\n",
    "]\n",
    "bad_columns = dm.get_all_nan_cols(train_data)\n",
    "bad_columns.append('Id')\n",
    "bad_columns.extend(intuitively_bad_features)\n",
    "bad_columns"
   ],
   "id": "12c6747d1cd6b3e0",
   "outputs": [
    {
     "data": {
      "text/plain": [
       "['Id',\n",
       " 'LotShape',\n",
       " 'LandContour',\n",
       " 'LotConfig',\n",
       " 'LandSlope',\n",
       " 'MiscFeature',\n",
       " 'MiscVal']"
      ]
     },
     "execution_count": 4,
     "metadata": {},
     "output_type": "execute_result"
    }
   ],
   "execution_count": 4
  },
  {
   "metadata": {
    "ExecuteTime": {
     "end_time": "2025-03-21T15:28:41.213433Z",
     "start_time": "2025-03-21T15:28:41.201159Z"
    }
   },
   "cell_type": "code",
   "source": [
    "train_data = train_data.drop(columns=bad_columns)\n",
    "train_data.shape"
   ],
   "id": "e5aa7a1b3475ac3d",
   "outputs": [
    {
     "data": {
      "text/plain": [
       "(1460, 74)"
      ]
     },
     "execution_count": 5,
     "metadata": {},
     "output_type": "execute_result"
    }
   ],
   "execution_count": 5
  },
  {
   "metadata": {
    "ExecuteTime": {
     "end_time": "2025-03-21T15:28:41.234971Z",
     "start_time": "2025-03-21T15:28:41.222516Z"
    }
   },
   "cell_type": "code",
   "source": [
    "X, y = dm.split_data_set_to_x_y(train_data, 'SalePrice')\n",
    "print(X.shape, y.shape)"
   ],
   "id": "7d49fda3e5b50897",
   "outputs": [
    {
     "name": "stdout",
     "output_type": "stream",
     "text": [
      "(1460, 73) (1460,)\n"
     ]
    }
   ],
   "execution_count": 6
  },
  {
   "metadata": {
    "ExecuteTime": {
     "end_time": "2025-03-21T15:28:41.259558Z",
     "start_time": "2025-03-21T15:28:41.246764Z"
    }
   },
   "cell_type": "code",
   "source": [
    "# Получение числовых колонок\n",
    "numeric_columns = X.select_dtypes(include=['float64', 'int64']).columns\n",
    "# Получение нечисловых колонок (всех остальных)\n",
    "non_numeric_columns = X.select_dtypes(exclude=['float64', 'int64']).columns"
   ],
   "id": "14ab68478e68544a",
   "outputs": [],
   "execution_count": 7
  },
  {
   "metadata": {
    "ExecuteTime": {
     "end_time": "2025-03-21T15:28:41.286045Z",
     "start_time": "2025-03-21T15:28:41.271669Z"
    }
   },
   "cell_type": "code",
   "source": [
    "RANDOM_STATE = 42\n",
    "# 1. Откладываем 20% данных на итоговый тест\n",
    "X_temp, X_test, y_temp, y_test = train_test_split(X, y, test_size=0.2, random_state=RANDOM_STATE)\n",
    "\n",
    "# 2. Разбиваем оставшиеся 80% на обучающую и валидационную выборки\n",
    "X_train, X_val, y_train, y_val = train_test_split(X_temp, y_temp, test_size=0.25, random_state=RANDOM_STATE)\n",
    "\n",
    "# Проверка размера полученных наборов\n",
    "print(f'Train size: {len(X_train)}')\n",
    "print(f'Validation size: {len(X_val)}')\n",
    "print(f'Test size: {len(X_test)}')"
   ],
   "id": "7053f96fe00d2e84",
   "outputs": [
    {
     "name": "stdout",
     "output_type": "stream",
     "text": [
      "Train size: 876\n",
      "Validation size: 292\n",
      "Test size: 292\n"
     ]
    }
   ],
   "execution_count": 8
  },
  {
   "metadata": {
    "ExecuteTime": {
     "end_time": "2025-03-21T15:28:41.329351Z",
     "start_time": "2025-03-21T15:28:41.306872Z"
    }
   },
   "cell_type": "code",
   "source": [
    "# Заполнение пропусков только в категориальных признаках - так делаем, если не используем пайплайн sklearn \n",
    "for col in non_numeric_columns:\n",
    "    X_train[col] = X_train[col].fillna('unknown')\n",
    "    X_val[col] = X_val[col].fillna('unknown')\n",
    "    X_test[col] = X_test[col].fillna('unknown')"
   ],
   "id": "5fd65a31dee9a814",
   "outputs": [],
   "execution_count": 9
  },
  {
   "metadata": {
    "ExecuteTime": {
     "end_time": "2025-03-21T15:06:33.196025Z",
     "start_time": "2025-03-21T15:00:23.475329Z"
    }
   },
   "cell_type": "code",
   "source": [
    "# Инициализация и обучение CatBoost\n",
    "cat_model = CatBoostRegressor(\n",
    "    iterations=5000,\n",
    "    learning_rate=0.05,\n",
    "    depth=6,\n",
    "    loss_function='RMSE',\n",
    "    verbose=100,\n",
    "    random_seed=RANDOM_STATE,\n",
    "    # early_stopping_rounds=100  # останавливаем обучение через 20 итераций после детекции оптимального значения\n",
    "    # l2_leaf_reg=1,  # можно уменьшить до 1-2, чтобы модель лучше учила данные\n",
    "    # border_count=256,  # увеличение до 128 или даже 256 помогает точнее делить числовые признаки\n",
    "    # random_strength=0.5,  # уменьшение до 1 (или даже 0.5) позволяет модели точнее подстраиваться под данные\n",
    "    # bagging_temperature=0.3  # можно немного снизить, чтобы увеличить стабильность\n",
    "    \n",
    "    # ctr_target_border_count=20,\n",
    "    # ctr_leaf_count_limit=50,\n",
    "    # store_all_simple_ctr=True  # это сохранит больше промежуточных значений CTR, помогая качеству\n",
    ")\n",
    "\n",
    "cat_model.fit(\n",
    "    X_train, y_train,\n",
    "    cat_features=list(non_numeric_columns),\n",
    "    eval_set=(X_val, y_val),\n",
    "    use_best_model=True,\n",
    ")"
   ],
   "id": "c19051cdf2d6937c",
   "outputs": [
    {
     "name": "stdout",
     "output_type": "stream",
     "text": [
      "0:\tlearn: 74721.3226634\ttest: 74929.3601726\tbest: 74929.3601726 (0)\ttotal: 156ms\tremaining: 12m 58s\n",
      "100:\tlearn: 24517.3897780\ttest: 30471.0993737\tbest: 30471.0993737 (100)\ttotal: 6.92s\tremaining: 5m 35s\n",
      "200:\tlearn: 17548.1023597\ttest: 27037.1442010\tbest: 27037.1442010 (200)\ttotal: 13.8s\tremaining: 5m 28s\n",
      "300:\tlearn: 14789.6595772\ttest: 26020.8456591\tbest: 26020.8456591 (300)\ttotal: 21.1s\tremaining: 5m 28s\n",
      "400:\tlearn: 13171.3878976\ttest: 25625.4933304\tbest: 25607.6615998 (381)\ttotal: 28.5s\tremaining: 5m 26s\n",
      "500:\tlearn: 12088.4435666\ttest: 25340.8346331\tbest: 25340.8346331 (500)\ttotal: 36s\tremaining: 5m 23s\n",
      "600:\tlearn: 11104.7157298\ttest: 25160.7488835\tbest: 25147.3695141 (570)\ttotal: 43.2s\tremaining: 5m 16s\n",
      "700:\tlearn: 10055.0164308\ttest: 24958.2354686\tbest: 24958.2354686 (700)\ttotal: 50.7s\tremaining: 5m 10s\n",
      "800:\tlearn: 9172.3179638\ttest: 24847.4695204\tbest: 24845.6962560 (793)\ttotal: 58.3s\tremaining: 5m 5s\n",
      "900:\tlearn: 8486.4359814\ttest: 24770.2599407\tbest: 24760.3757210 (887)\ttotal: 1m 5s\tremaining: 4m 59s\n",
      "1000:\tlearn: 7989.0920192\ttest: 24732.8807106\tbest: 24732.8807106 (1000)\ttotal: 1m 13s\tremaining: 4m 52s\n",
      "1100:\tlearn: 7473.4989220\ttest: 24671.9765296\tbest: 24671.9765296 (1100)\ttotal: 1m 20s\tremaining: 4m 45s\n",
      "1200:\tlearn: 7021.5196759\ttest: 24616.1321535\tbest: 24615.5786654 (1199)\ttotal: 1m 28s\tremaining: 4m 38s\n",
      "1300:\tlearn: 6436.0837473\ttest: 24548.2447749\tbest: 24543.4188541 (1284)\ttotal: 1m 35s\tremaining: 4m 32s\n",
      "1400:\tlearn: 6081.3440391\ttest: 24519.3732580\tbest: 24517.2275697 (1393)\ttotal: 1m 43s\tremaining: 4m 25s\n",
      "1500:\tlearn: 5682.2785106\ttest: 24506.4484613\tbest: 24502.2226617 (1478)\ttotal: 1m 50s\tremaining: 4m 17s\n",
      "1600:\tlearn: 5309.1182179\ttest: 24492.8295064\tbest: 24486.7251626 (1598)\ttotal: 1m 58s\tremaining: 4m 10s\n",
      "1700:\tlearn: 5012.7614935\ttest: 24474.3459533\tbest: 24474.2346338 (1618)\ttotal: 2m 5s\tremaining: 4m 4s\n",
      "1800:\tlearn: 4739.0953406\ttest: 24456.7260135\tbest: 24452.3547879 (1779)\ttotal: 2m 13s\tremaining: 3m 56s\n",
      "1900:\tlearn: 4500.7742414\ttest: 24433.7240842\tbest: 24431.4150643 (1899)\ttotal: 2m 20s\tremaining: 3m 49s\n",
      "2000:\tlearn: 4269.9148552\ttest: 24429.3179683\tbest: 24426.2010201 (1950)\ttotal: 2m 28s\tremaining: 3m 42s\n",
      "2100:\tlearn: 4050.0460192\ttest: 24427.3020160\tbest: 24421.1062204 (2078)\ttotal: 2m 36s\tremaining: 3m 35s\n",
      "2200:\tlearn: 3836.0732146\ttest: 24398.8942334\tbest: 24398.8942334 (2200)\ttotal: 2m 43s\tremaining: 3m 27s\n",
      "2300:\tlearn: 3626.6903311\ttest: 24374.8476346\tbest: 24374.7938025 (2299)\ttotal: 2m 51s\tremaining: 3m 20s\n",
      "2400:\tlearn: 3465.2266512\ttest: 24352.6477298\tbest: 24352.3634807 (2394)\ttotal: 2m 58s\tremaining: 3m 13s\n",
      "2500:\tlearn: 3297.2208409\ttest: 24362.0567738\tbest: 24352.3634807 (2394)\ttotal: 3m 6s\tremaining: 3m 5s\n",
      "2600:\tlearn: 3131.5541435\ttest: 24355.1742153\tbest: 24351.5816166 (2538)\ttotal: 3m 13s\tremaining: 2m 58s\n",
      "2700:\tlearn: 2985.6593483\ttest: 24349.1367344\tbest: 24347.1972742 (2686)\ttotal: 3m 21s\tremaining: 2m 51s\n",
      "2800:\tlearn: 2860.7886650\ttest: 24338.6945935\tbest: 24338.6945935 (2800)\ttotal: 3m 28s\tremaining: 2m 44s\n",
      "2900:\tlearn: 2726.2898400\ttest: 24344.9826311\tbest: 24337.7122208 (2806)\ttotal: 3m 36s\tremaining: 2m 36s\n",
      "3000:\tlearn: 2606.3804052\ttest: 24345.3546326\tbest: 24337.7122208 (2806)\ttotal: 3m 43s\tremaining: 2m 28s\n",
      "3100:\tlearn: 2513.5839882\ttest: 24344.6042187\tbest: 24337.7122208 (2806)\ttotal: 3m 50s\tremaining: 2m 21s\n",
      "3200:\tlearn: 2390.2011771\ttest: 24339.5888229\tbest: 24337.7122208 (2806)\ttotal: 3m 58s\tremaining: 2m 13s\n",
      "3300:\tlearn: 2278.5928367\ttest: 24349.6050726\tbest: 24337.7122208 (2806)\ttotal: 4m 5s\tremaining: 2m 6s\n",
      "3400:\tlearn: 2190.1369548\ttest: 24343.9147164\tbest: 24337.7122208 (2806)\ttotal: 4m 12s\tremaining: 1m 58s\n",
      "3500:\tlearn: 2073.2387308\ttest: 24337.0953956\tbest: 24337.0953956 (3500)\ttotal: 4m 19s\tremaining: 1m 51s\n",
      "3600:\tlearn: 1987.5490889\ttest: 24346.5339643\tbest: 24335.7801780 (3507)\ttotal: 4m 26s\tremaining: 1m 43s\n",
      "3700:\tlearn: 1899.3994752\ttest: 24343.4668004\tbest: 24335.7801780 (3507)\ttotal: 4m 34s\tremaining: 1m 36s\n",
      "3800:\tlearn: 1821.0984972\ttest: 24339.5582006\tbest: 24335.7801780 (3507)\ttotal: 4m 41s\tremaining: 1m 28s\n",
      "3900:\tlearn: 1745.1521141\ttest: 24336.9014923\tbest: 24334.4429889 (3833)\ttotal: 4m 48s\tremaining: 1m 21s\n",
      "4000:\tlearn: 1666.2095529\ttest: 24340.2372148\tbest: 24334.4429889 (3833)\ttotal: 4m 56s\tremaining: 1m 13s\n",
      "4100:\tlearn: 1598.9343800\ttest: 24349.4260440\tbest: 24334.4429889 (3833)\ttotal: 5m 3s\tremaining: 1m 6s\n",
      "4200:\tlearn: 1535.6305299\ttest: 24353.7836718\tbest: 24334.4429889 (3833)\ttotal: 5m 10s\tremaining: 59.1s\n",
      "4300:\tlearn: 1487.5753475\ttest: 24352.7187944\tbest: 24334.4429889 (3833)\ttotal: 5m 17s\tremaining: 51.6s\n",
      "4400:\tlearn: 1432.4371847\ttest: 24353.1243565\tbest: 24334.4429889 (3833)\ttotal: 5m 25s\tremaining: 44.2s\n",
      "4500:\tlearn: 1377.8590103\ttest: 24357.2422353\tbest: 24334.4429889 (3833)\ttotal: 5m 32s\tremaining: 36.9s\n",
      "4600:\tlearn: 1326.6151359\ttest: 24359.0583832\tbest: 24334.4429889 (3833)\ttotal: 5m 40s\tremaining: 29.5s\n",
      "4700:\tlearn: 1273.9980023\ttest: 24353.9812674\tbest: 24334.4429889 (3833)\ttotal: 5m 47s\tremaining: 22.1s\n",
      "4800:\tlearn: 1228.5424940\ttest: 24351.3409118\tbest: 24334.4429889 (3833)\ttotal: 5m 54s\tremaining: 14.7s\n",
      "4900:\tlearn: 1180.7421807\ttest: 24351.4245315\tbest: 24334.4429889 (3833)\ttotal: 6m 1s\tremaining: 7.31s\n",
      "4999:\tlearn: 1141.2833504\ttest: 24351.6170557\tbest: 24334.4429889 (3833)\ttotal: 6m 8s\tremaining: 0us\n",
      "\n",
      "bestTest = 24334.44299\n",
      "bestIteration = 3833\n",
      "\n",
      "Shrink model to first 3834 iterations.\n"
     ]
    },
    {
     "data": {
      "text/plain": [
       "<catboost.core.CatBoostRegressor at 0x175c14c80>"
      ]
     },
     "execution_count": 10,
     "metadata": {},
     "output_type": "execute_result"
    }
   ],
   "execution_count": 10
  },
  {
   "metadata": {
    "ExecuteTime": {
     "end_time": "2025-03-21T15:34:20.643858Z",
     "start_time": "2025-03-21T15:34:20.571792Z"
    }
   },
   "cell_type": "code",
   "source": [
    "# Финальное предсказание и оценка на тестовых данных (RMSE)\n",
    "y_pred_test = cat_model.predict(X_test)\n",
    "rmse_test = root_mean_squared_error(y_test, y_pred_test)\n",
    "r2_test = r2_score(y_test, y_pred_test)\n",
    "mean_target = np.mean(y_test)\n",
    "\n",
    "print(f'Финальный R2 на тестовом наборе: {r2_test:.4f}')\n",
    "print(f'Финальный RMSE на тестовом наборе: {rmse_test:.2f}')\n",
    "print(f'Относительная ошибка (RMSE/mean): {rmse_test/mean_target*100:.2f}%')"
   ],
   "id": "a7aa52803da03330",
   "outputs": [
    {
     "ename": "NameError",
     "evalue": "name 'cat_model' is not defined",
     "output_type": "error",
     "traceback": [
      "\u001B[31m---------------------------------------------------------------------------\u001B[39m",
      "\u001B[31mNameError\u001B[39m                                 Traceback (most recent call last)",
      "\u001B[36mCell\u001B[39m\u001B[36m \u001B[39m\u001B[32mIn[37]\u001B[39m\u001B[32m, line 2\u001B[39m\n\u001B[32m      1\u001B[39m \u001B[38;5;66;03m# Финальное предсказание и оценка на тестовых данных (RMSE)\u001B[39;00m\n\u001B[32m----> \u001B[39m\u001B[32m2\u001B[39m y_pred_test = \u001B[43mcat_model\u001B[49m.predict(X_test)\n\u001B[32m      3\u001B[39m rmse_test = root_mean_squared_error(y_test, y_pred_test)\n\u001B[32m      4\u001B[39m r2_test = r2_score(y_test, y_pred_test)\n",
      "\u001B[31mNameError\u001B[39m: name 'cat_model' is not defined"
     ]
    }
   ],
   "execution_count": 37
  },
  {
   "metadata": {},
   "cell_type": "markdown",
   "source": [
    "# Итого\n",
    "Передача в катбуст чистых данных не привела ни к чему хорошему. Показатели ошибки вернулись до уровня 15+%. Пробовал передавать нормализованные числовые данные - безуспешно. Ни на что не влияет. Таким образом, внутренний механизм работы с категориальными признаками катбуста ничем не лучше onehot дефолтной нормализации."
   ],
   "id": "2658d4e5ee908763"
  },
  {
   "metadata": {},
   "cell_type": "code",
   "outputs": [],
   "execution_count": null,
   "source": "",
   "id": "26bf4aabcc984f7c"
  }
 ],
 "metadata": {
  "kernelspec": {
   "display_name": "Python 3",
   "language": "python",
   "name": "python3"
  },
  "language_info": {
   "codemirror_mode": {
    "name": "ipython",
    "version": 2
   },
   "file_extension": ".py",
   "mimetype": "text/x-python",
   "name": "python",
   "nbconvert_exporter": "python",
   "pygments_lexer": "ipython2",
   "version": "2.7.6"
  }
 },
 "nbformat": 4,
 "nbformat_minor": 5
}

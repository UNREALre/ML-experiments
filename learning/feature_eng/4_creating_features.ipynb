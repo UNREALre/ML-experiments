{
 "cells": [
  {
   "metadata": {},
   "cell_type": "markdown",
   "source": "# Exercise",
   "id": "73c37b5d5b93e0b9"
  },
  {
   "cell_type": "code",
   "id": "initial_id",
   "metadata": {
    "collapsed": true,
    "ExecuteTime": {
     "end_time": "2025-04-08T12:41:57.431329Z",
     "start_time": "2025-04-08T12:41:57.343677Z"
    }
   },
   "source": [
    "import matplotlib.pyplot as plt\n",
    "import numpy as np\n",
    "import pandas as pd\n",
    "import seaborn as sns\n",
    "from catboost import CatBoostRegressor\n",
    "from sklearn.model_selection import cross_val_score\n",
    "\n",
    "# Set Matplotlib defaults\n",
    "plt.rc(\"figure\", autolayout=True)\n",
    "plt.rc(\n",
    "    \"axes\",\n",
    "    labelweight=\"bold\",\n",
    "    labelsize=\"large\",\n",
    "    titleweight=\"bold\",\n",
    "    titlesize=14,\n",
    "    titlepad=10,\n",
    ")\n",
    "\n",
    "default_params = {\n",
    "    'iterations': 1000, \n",
    "    'learning_rate': 0.05, \n",
    "    'depth': 6, \n",
    "    'loss_function': 'RMSE', \n",
    "    'verbose': 100, \n",
    "    'random_seed': 42,\n",
    "    'early_stopping_rounds': 100\n",
    "}"
   ],
   "outputs": [],
   "execution_count": 7
  },
  {
   "metadata": {
    "ExecuteTime": {
     "end_time": "2025-04-08T12:41:58.410401Z",
     "start_time": "2025-04-08T12:41:58.382011Z"
    }
   },
   "cell_type": "code",
   "source": [
    "# Load data\n",
    "df = pd.read_csv(\"data/ames.csv\")"
   ],
   "id": "74b48118968ff44a",
   "outputs": [],
   "execution_count": 8
  },
  {
   "metadata": {
    "ExecuteTime": {
     "end_time": "2025-04-08T13:01:15.195533Z",
     "start_time": "2025-04-08T13:01:15.183797Z"
    }
   },
   "cell_type": "code",
   "source": [
    "def score_dataset(X, y, model=CatBoostRegressor(**default_params)):\n",
    "    # Label encoding for categoricals\n",
    "    for colname in X.select_dtypes([\"category\", \"object\"]):\n",
    "        X[colname], _ = X[colname].factorize()\n",
    "    # Metric for Housing competition is RMSLE (Root Mean Squared Log Error)\n",
    "    score = cross_val_score(\n",
    "        model, X, y, cv=5, scoring=\"neg_mean_squared_log_error\",\n",
    "    )\n",
    "    score = -1 * score.mean()\n",
    "    return score"
   ],
   "id": "4262bb4f4fe9f2ab",
   "outputs": [],
   "execution_count": 25
  },
  {
   "metadata": {
    "ExecuteTime": {
     "end_time": "2025-04-08T12:42:18.366206Z",
     "start_time": "2025-04-08T12:42:18.350108Z"
    }
   },
   "cell_type": "code",
   "source": [
    "# Prepare data\n",
    "X = df.copy()\n",
    "y = X.pop(\"SalePrice\")"
   ],
   "id": "7cc8f10fc104d77b",
   "outputs": [],
   "execution_count": 10
  },
  {
   "metadata": {
    "ExecuteTime": {
     "end_time": "2025-04-08T12:46:37.291563Z",
     "start_time": "2025-04-08T12:46:37.172898Z"
    }
   },
   "cell_type": "code",
   "source": "X.head()",
   "id": "be5266e8e266af27",
   "outputs": [
    {
     "data": {
      "text/plain": [
       "                            MSSubClass                  MSZoning  LotFrontage  \\\n",
       "0  One_Story_1946_and_Newer_All_Styles   Residential_Low_Density        141.0   \n",
       "1  One_Story_1946_and_Newer_All_Styles  Residential_High_Density         80.0   \n",
       "2  One_Story_1946_and_Newer_All_Styles   Residential_Low_Density         81.0   \n",
       "3  One_Story_1946_and_Newer_All_Styles   Residential_Low_Density         93.0   \n",
       "4             Two_Story_1946_and_Newer   Residential_Low_Density         74.0   \n",
       "\n",
       "   LotArea Street            Alley            LotShape LandContour Utilities  \\\n",
       "0  31770.0   Pave  No_Alley_Access  Slightly_Irregular         Lvl    AllPub   \n",
       "1  11622.0   Pave  No_Alley_Access             Regular         Lvl    AllPub   \n",
       "2  14267.0   Pave  No_Alley_Access  Slightly_Irregular         Lvl    AllPub   \n",
       "3  11160.0   Pave  No_Alley_Access             Regular         Lvl    AllPub   \n",
       "4  13830.0   Pave  No_Alley_Access  Slightly_Irregular         Lvl    AllPub   \n",
       "\n",
       "  LotConfig  ... ScreenPorch PoolArea   PoolQC            Fence MiscFeature  \\\n",
       "0    Corner  ...         0.0      0.0  No_Pool         No_Fence         NaN   \n",
       "1    Inside  ...       120.0      0.0  No_Pool  Minimum_Privacy         NaN   \n",
       "2    Corner  ...         0.0      0.0  No_Pool         No_Fence        Gar2   \n",
       "3    Corner  ...         0.0      0.0  No_Pool         No_Fence         NaN   \n",
       "4    Inside  ...         0.0      0.0  No_Pool  Minimum_Privacy         NaN   \n",
       "\n",
       "   MiscVal MoSold YearSold  SaleType  SaleCondition  \n",
       "0      0.0      5     2010       WD          Normal  \n",
       "1      0.0      6     2010       WD          Normal  \n",
       "2  12500.0      6     2010       WD          Normal  \n",
       "3      0.0      4     2010       WD          Normal  \n",
       "4      0.0      3     2010       WD          Normal  \n",
       "\n",
       "[5 rows x 78 columns]"
      ],
      "text/html": [
       "<div>\n",
       "<style scoped>\n",
       "    .dataframe tbody tr th:only-of-type {\n",
       "        vertical-align: middle;\n",
       "    }\n",
       "\n",
       "    .dataframe tbody tr th {\n",
       "        vertical-align: top;\n",
       "    }\n",
       "\n",
       "    .dataframe thead th {\n",
       "        text-align: right;\n",
       "    }\n",
       "</style>\n",
       "<table border=\"1\" class=\"dataframe\">\n",
       "  <thead>\n",
       "    <tr style=\"text-align: right;\">\n",
       "      <th></th>\n",
       "      <th>MSSubClass</th>\n",
       "      <th>MSZoning</th>\n",
       "      <th>LotFrontage</th>\n",
       "      <th>LotArea</th>\n",
       "      <th>Street</th>\n",
       "      <th>Alley</th>\n",
       "      <th>LotShape</th>\n",
       "      <th>LandContour</th>\n",
       "      <th>Utilities</th>\n",
       "      <th>LotConfig</th>\n",
       "      <th>...</th>\n",
       "      <th>ScreenPorch</th>\n",
       "      <th>PoolArea</th>\n",
       "      <th>PoolQC</th>\n",
       "      <th>Fence</th>\n",
       "      <th>MiscFeature</th>\n",
       "      <th>MiscVal</th>\n",
       "      <th>MoSold</th>\n",
       "      <th>YearSold</th>\n",
       "      <th>SaleType</th>\n",
       "      <th>SaleCondition</th>\n",
       "    </tr>\n",
       "  </thead>\n",
       "  <tbody>\n",
       "    <tr>\n",
       "      <th>0</th>\n",
       "      <td>One_Story_1946_and_Newer_All_Styles</td>\n",
       "      <td>Residential_Low_Density</td>\n",
       "      <td>141.0</td>\n",
       "      <td>31770.0</td>\n",
       "      <td>Pave</td>\n",
       "      <td>No_Alley_Access</td>\n",
       "      <td>Slightly_Irregular</td>\n",
       "      <td>Lvl</td>\n",
       "      <td>AllPub</td>\n",
       "      <td>Corner</td>\n",
       "      <td>...</td>\n",
       "      <td>0.0</td>\n",
       "      <td>0.0</td>\n",
       "      <td>No_Pool</td>\n",
       "      <td>No_Fence</td>\n",
       "      <td>NaN</td>\n",
       "      <td>0.0</td>\n",
       "      <td>5</td>\n",
       "      <td>2010</td>\n",
       "      <td>WD</td>\n",
       "      <td>Normal</td>\n",
       "    </tr>\n",
       "    <tr>\n",
       "      <th>1</th>\n",
       "      <td>One_Story_1946_and_Newer_All_Styles</td>\n",
       "      <td>Residential_High_Density</td>\n",
       "      <td>80.0</td>\n",
       "      <td>11622.0</td>\n",
       "      <td>Pave</td>\n",
       "      <td>No_Alley_Access</td>\n",
       "      <td>Regular</td>\n",
       "      <td>Lvl</td>\n",
       "      <td>AllPub</td>\n",
       "      <td>Inside</td>\n",
       "      <td>...</td>\n",
       "      <td>120.0</td>\n",
       "      <td>0.0</td>\n",
       "      <td>No_Pool</td>\n",
       "      <td>Minimum_Privacy</td>\n",
       "      <td>NaN</td>\n",
       "      <td>0.0</td>\n",
       "      <td>6</td>\n",
       "      <td>2010</td>\n",
       "      <td>WD</td>\n",
       "      <td>Normal</td>\n",
       "    </tr>\n",
       "    <tr>\n",
       "      <th>2</th>\n",
       "      <td>One_Story_1946_and_Newer_All_Styles</td>\n",
       "      <td>Residential_Low_Density</td>\n",
       "      <td>81.0</td>\n",
       "      <td>14267.0</td>\n",
       "      <td>Pave</td>\n",
       "      <td>No_Alley_Access</td>\n",
       "      <td>Slightly_Irregular</td>\n",
       "      <td>Lvl</td>\n",
       "      <td>AllPub</td>\n",
       "      <td>Corner</td>\n",
       "      <td>...</td>\n",
       "      <td>0.0</td>\n",
       "      <td>0.0</td>\n",
       "      <td>No_Pool</td>\n",
       "      <td>No_Fence</td>\n",
       "      <td>Gar2</td>\n",
       "      <td>12500.0</td>\n",
       "      <td>6</td>\n",
       "      <td>2010</td>\n",
       "      <td>WD</td>\n",
       "      <td>Normal</td>\n",
       "    </tr>\n",
       "    <tr>\n",
       "      <th>3</th>\n",
       "      <td>One_Story_1946_and_Newer_All_Styles</td>\n",
       "      <td>Residential_Low_Density</td>\n",
       "      <td>93.0</td>\n",
       "      <td>11160.0</td>\n",
       "      <td>Pave</td>\n",
       "      <td>No_Alley_Access</td>\n",
       "      <td>Regular</td>\n",
       "      <td>Lvl</td>\n",
       "      <td>AllPub</td>\n",
       "      <td>Corner</td>\n",
       "      <td>...</td>\n",
       "      <td>0.0</td>\n",
       "      <td>0.0</td>\n",
       "      <td>No_Pool</td>\n",
       "      <td>No_Fence</td>\n",
       "      <td>NaN</td>\n",
       "      <td>0.0</td>\n",
       "      <td>4</td>\n",
       "      <td>2010</td>\n",
       "      <td>WD</td>\n",
       "      <td>Normal</td>\n",
       "    </tr>\n",
       "    <tr>\n",
       "      <th>4</th>\n",
       "      <td>Two_Story_1946_and_Newer</td>\n",
       "      <td>Residential_Low_Density</td>\n",
       "      <td>74.0</td>\n",
       "      <td>13830.0</td>\n",
       "      <td>Pave</td>\n",
       "      <td>No_Alley_Access</td>\n",
       "      <td>Slightly_Irregular</td>\n",
       "      <td>Lvl</td>\n",
       "      <td>AllPub</td>\n",
       "      <td>Inside</td>\n",
       "      <td>...</td>\n",
       "      <td>0.0</td>\n",
       "      <td>0.0</td>\n",
       "      <td>No_Pool</td>\n",
       "      <td>Minimum_Privacy</td>\n",
       "      <td>NaN</td>\n",
       "      <td>0.0</td>\n",
       "      <td>3</td>\n",
       "      <td>2010</td>\n",
       "      <td>WD</td>\n",
       "      <td>Normal</td>\n",
       "    </tr>\n",
       "  </tbody>\n",
       "</table>\n",
       "<p>5 rows × 78 columns</p>\n",
       "</div>"
      ]
     },
     "execution_count": 11,
     "metadata": {},
     "output_type": "execute_result"
    }
   ],
   "execution_count": 11
  },
  {
   "metadata": {},
   "cell_type": "markdown",
   "source": [
    "Let's start with a few mathematical combinations. We'll focus on features describing areas -- having the same units (square-feet) makes it easy to combine them in sensible ways. Since we're using XGBoost (a tree-based model), we'll focus on ratios and sums.\n",
    "\n",
    "1) Create Mathematical Transforms\n",
    "Create the following features:\n",
    "\n",
    "- LivLotRatio: the ratio of GrLivArea to LotArea\n",
    "- Spaciousness: the sum of FirstFlrSF and SecondFlrSF divided by TotRmsAbvGrd\n",
    "- TotalOutsideSF: the sum of WoodDeckSF, OpenPorchSF, EnclosedPorch, Threeseasonporch, and ScreenPorch"
   ],
   "id": "b7c5020b6af9661c"
  },
  {
   "metadata": {
    "ExecuteTime": {
     "end_time": "2025-04-08T12:50:10.581424Z",
     "start_time": "2025-04-08T12:50:10.569479Z"
    }
   },
   "cell_type": "code",
   "source": [
    "X_1 = pd.DataFrame()  # dataframe to hold new features\n",
    "\n",
    "X_1[\"LivLotRatio\"] = X[\"GrLivArea\"] / X[\"LotArea\"]\n",
    "X_1[\"Spaciousness\"] = (X['FirstFlrSF'] + X['SecondFlrSF']) / X['TotRmsAbvGrd']\n",
    "X_1[\"TotalOutsideSF\"] = X[\"WoodDeckSF\"] + X[\"OpenPorchSF\"] + X[\"EnclosedPorch\"] + X[\"Threeseasonporch\"] + X[\"ScreenPorch\"]"
   ],
   "id": "c92178b21d5ef6dc",
   "outputs": [],
   "execution_count": 13
  },
  {
   "metadata": {},
   "cell_type": "markdown",
   "source": [
    "If you've discovered an interaction effect between a numeric feature and a categorical feature, you might want to model it explicitly using a one-hot encoding, like so:\n",
    "\n",
    "##### One-hot encode Categorical feature, adding a column prefix \"Cat\"\n",
    "X_new = pd.get_dummies(df.Categorical, prefix=\"Cat\")\n",
    "\n",
    "##### Multiply row-by-row\n",
    "X_new = X_new.mul(df.Continuous, axis=0)\n",
    "\n",
    "##### Join the new features to the feature set\n",
    "X = X.join(X_new)\n",
    "\n",
    "\n",
    "2) Interaction with a Categorical\n",
    "We discovered an interaction between BldgType and GrLivArea in Exercise 2. Now create their interaction features.\n"
   ],
   "id": "bd6ec9d85f1be90e"
  },
  {
   "metadata": {
    "ExecuteTime": {
     "end_time": "2025-04-08T12:52:49.740916Z",
     "start_time": "2025-04-08T12:52:49.728339Z"
    }
   },
   "cell_type": "code",
   "source": [
    "# One-hot encode BldgType. Use `prefix=\"Bldg\"` in `get_dummies`\n",
    "X_2 = pd.get_dummies(X[\"BldgType\"], prefix=\"Bldg\")\n",
    "# Multiply\n",
    "X_2 = X_2.mul(X[\"GrLivArea\"], axis=0)\n"
   ],
   "id": "3fef4288f664c469",
   "outputs": [],
   "execution_count": 14
  },
  {
   "metadata": {},
   "cell_type": "markdown",
   "source": [
    "3) Count Feature\n",
    "Let's try creating a feature that describes how many kinds of outdoor areas a dwelling has. Create a feature PorchTypes that counts how many of the following are greater than 0.0:\n",
    "\n",
    "WoodDeckSF\n",
    "OpenPorchSF\n",
    "EnclosedPorch\n",
    "Threeseasonporch\n",
    "ScreenPorch"
   ],
   "id": "d1117155d9bceaec"
  },
  {
   "metadata": {
    "ExecuteTime": {
     "end_time": "2025-04-08T12:55:37.521573Z",
     "start_time": "2025-04-08T12:55:37.469933Z"
    }
   },
   "cell_type": "code",
   "source": [
    "X_3 = pd.DataFrame()\n",
    "X_3[\"PorchTypes\"] = X[[\"WoodDeckSF\", \"OpenPorchSF\", \"EnclosedPorch\", \"Threeseasonporch\", \"ScreenPorch\"]].gt(0).sum(axis=1)\n",
    "X_3.head()"
   ],
   "id": "2e69662054793057",
   "outputs": [
    {
     "data": {
      "text/plain": [
       "   PorchTypes\n",
       "0           2\n",
       "1           2\n",
       "2           2\n",
       "3           0\n",
       "4           2"
      ],
      "text/html": [
       "<div>\n",
       "<style scoped>\n",
       "    .dataframe tbody tr th:only-of-type {\n",
       "        vertical-align: middle;\n",
       "    }\n",
       "\n",
       "    .dataframe tbody tr th {\n",
       "        vertical-align: top;\n",
       "    }\n",
       "\n",
       "    .dataframe thead th {\n",
       "        text-align: right;\n",
       "    }\n",
       "</style>\n",
       "<table border=\"1\" class=\"dataframe\">\n",
       "  <thead>\n",
       "    <tr style=\"text-align: right;\">\n",
       "      <th></th>\n",
       "      <th>PorchTypes</th>\n",
       "    </tr>\n",
       "  </thead>\n",
       "  <tbody>\n",
       "    <tr>\n",
       "      <th>0</th>\n",
       "      <td>2</td>\n",
       "    </tr>\n",
       "    <tr>\n",
       "      <th>1</th>\n",
       "      <td>2</td>\n",
       "    </tr>\n",
       "    <tr>\n",
       "      <th>2</th>\n",
       "      <td>2</td>\n",
       "    </tr>\n",
       "    <tr>\n",
       "      <th>3</th>\n",
       "      <td>0</td>\n",
       "    </tr>\n",
       "    <tr>\n",
       "      <th>4</th>\n",
       "      <td>2</td>\n",
       "    </tr>\n",
       "  </tbody>\n",
       "</table>\n",
       "</div>"
      ]
     },
     "execution_count": 16,
     "metadata": {},
     "output_type": "execute_result"
    }
   ],
   "execution_count": 16
  },
  {
   "metadata": {},
   "cell_type": "markdown",
   "source": [
    "4) Break Down a Categorical Feature\n",
    "MSSubClass describes the type of a dwelling:"
   ],
   "id": "814c89267ba4a9ea"
  },
  {
   "metadata": {
    "ExecuteTime": {
     "end_time": "2025-04-08T12:56:20.362118Z",
     "start_time": "2025-04-08T12:56:20.354216Z"
    }
   },
   "cell_type": "code",
   "source": "df.MSSubClass.unique()",
   "id": "6b70310b898726af",
   "outputs": [
    {
     "data": {
      "text/plain": [
       "array(['One_Story_1946_and_Newer_All_Styles', 'Two_Story_1946_and_Newer',\n",
       "       'One_Story_PUD_1946_and_Newer',\n",
       "       'One_and_Half_Story_Finished_All_Ages', 'Split_Foyer',\n",
       "       'Two_Story_PUD_1946_and_Newer', 'Split_or_Multilevel',\n",
       "       'One_Story_1945_and_Older', 'Duplex_All_Styles_and_Ages',\n",
       "       'Two_Family_conversion_All_Styles_and_Ages',\n",
       "       'One_and_Half_Story_Unfinished_All_Ages',\n",
       "       'Two_Story_1945_and_Older', 'Two_and_Half_Story_All_Ages',\n",
       "       'One_Story_with_Finished_Attic_All_Ages',\n",
       "       'PUD_Multilevel_Split_Level_Foyer',\n",
       "       'One_and_Half_Story_PUD_All_Ages'], dtype=object)"
      ]
     },
     "execution_count": 17,
     "metadata": {},
     "output_type": "execute_result"
    }
   ],
   "execution_count": 17
  },
  {
   "metadata": {
    "ExecuteTime": {
     "end_time": "2025-04-08T12:57:58.843205Z",
     "start_time": "2025-04-08T12:57:58.811295Z"
    }
   },
   "cell_type": "code",
   "source": [
    "# You can see that there is a more general categorization described (roughly) by the first word of each category. Create a feature containing only these first words by splitting MSSubClass at the first underscore _. (Hint: In the split method use an argument n=1.)\n",
    "\n",
    "X_4 = pd.DataFrame()\n",
    "X_4[\"MSClass\"] = X[\"MSSubClass\"].str.split(\"_\", n=1).str[0]\n",
    "X_4.head()"
   ],
   "id": "d65efe7c17917328",
   "outputs": [
    {
     "data": {
      "text/plain": [
       "  MSClass\n",
       "0     One\n",
       "1     One\n",
       "2     One\n",
       "3     One\n",
       "4     Two"
      ],
      "text/html": [
       "<div>\n",
       "<style scoped>\n",
       "    .dataframe tbody tr th:only-of-type {\n",
       "        vertical-align: middle;\n",
       "    }\n",
       "\n",
       "    .dataframe tbody tr th {\n",
       "        vertical-align: top;\n",
       "    }\n",
       "\n",
       "    .dataframe thead th {\n",
       "        text-align: right;\n",
       "    }\n",
       "</style>\n",
       "<table border=\"1\" class=\"dataframe\">\n",
       "  <thead>\n",
       "    <tr style=\"text-align: right;\">\n",
       "      <th></th>\n",
       "      <th>MSClass</th>\n",
       "    </tr>\n",
       "  </thead>\n",
       "  <tbody>\n",
       "    <tr>\n",
       "      <th>0</th>\n",
       "      <td>One</td>\n",
       "    </tr>\n",
       "    <tr>\n",
       "      <th>1</th>\n",
       "      <td>One</td>\n",
       "    </tr>\n",
       "    <tr>\n",
       "      <th>2</th>\n",
       "      <td>One</td>\n",
       "    </tr>\n",
       "    <tr>\n",
       "      <th>3</th>\n",
       "      <td>One</td>\n",
       "    </tr>\n",
       "    <tr>\n",
       "      <th>4</th>\n",
       "      <td>Two</td>\n",
       "    </tr>\n",
       "  </tbody>\n",
       "</table>\n",
       "</div>"
      ]
     },
     "execution_count": 20,
     "metadata": {},
     "output_type": "execute_result"
    }
   ],
   "execution_count": 20
  },
  {
   "metadata": {},
   "cell_type": "markdown",
   "source": [
    "5) Use a Grouped Transform\n",
    "The value of a home often depends on how it compares to typical homes in its neighborhood. Create a feature MedNhbdArea that describes the median of GrLivArea grouped on Neighborhood."
   ],
   "id": "4c595ca3f000a8eb"
  },
  {
   "metadata": {
    "ExecuteTime": {
     "end_time": "2025-04-08T12:59:19.580279Z",
     "start_time": "2025-04-08T12:59:19.504667Z"
    }
   },
   "cell_type": "code",
   "source": [
    "X_5 = pd.DataFrame()\n",
    "\n",
    "X_5[\"MedNhbdArea\"] = X.groupby(\"Neighborhood\")[\"GrLivArea\"].transform(\"median\")\n",
    "X_5.head()"
   ],
   "id": "a5e620ee794f6550",
   "outputs": [
    {
     "data": {
      "text/plain": [
       "   MedNhbdArea\n",
       "0       1200.0\n",
       "1       1200.0\n",
       "2       1200.0\n",
       "3       1200.0\n",
       "4       1560.0"
      ],
      "text/html": [
       "<div>\n",
       "<style scoped>\n",
       "    .dataframe tbody tr th:only-of-type {\n",
       "        vertical-align: middle;\n",
       "    }\n",
       "\n",
       "    .dataframe tbody tr th {\n",
       "        vertical-align: top;\n",
       "    }\n",
       "\n",
       "    .dataframe thead th {\n",
       "        text-align: right;\n",
       "    }\n",
       "</style>\n",
       "<table border=\"1\" class=\"dataframe\">\n",
       "  <thead>\n",
       "    <tr style=\"text-align: right;\">\n",
       "      <th></th>\n",
       "      <th>MedNhbdArea</th>\n",
       "    </tr>\n",
       "  </thead>\n",
       "  <tbody>\n",
       "    <tr>\n",
       "      <th>0</th>\n",
       "      <td>1200.0</td>\n",
       "    </tr>\n",
       "    <tr>\n",
       "      <th>1</th>\n",
       "      <td>1200.0</td>\n",
       "    </tr>\n",
       "    <tr>\n",
       "      <th>2</th>\n",
       "      <td>1200.0</td>\n",
       "    </tr>\n",
       "    <tr>\n",
       "      <th>3</th>\n",
       "      <td>1200.0</td>\n",
       "    </tr>\n",
       "    <tr>\n",
       "      <th>4</th>\n",
       "      <td>1560.0</td>\n",
       "    </tr>\n",
       "  </tbody>\n",
       "</table>\n",
       "</div>"
      ]
     },
     "execution_count": 23,
     "metadata": {},
     "output_type": "execute_result"
    }
   ],
   "execution_count": 23
  },
  {
   "metadata": {
    "ExecuteTime": {
     "end_time": "2025-04-08T13:01:29.212346Z",
     "start_time": "2025-04-08T13:01:20.808862Z"
    }
   },
   "cell_type": "code",
   "source": [
    "X_new = X.join([X_1, X_2, X_3, X_4, X_5])\n",
    "score_dataset(X_new, y)"
   ],
   "id": "110f43d80e19f7a8",
   "outputs": [
    {
     "name": "stdout",
     "output_type": "stream",
     "text": [
      "0:\tlearn: 74994.0385704\ttotal: 2.82ms\tremaining: 2.82s\n",
      "100:\tlearn: 19732.7030204\ttotal: 125ms\tremaining: 1.11s\n",
      "200:\tlearn: 15683.3959519\ttotal: 243ms\tremaining: 967ms\n",
      "300:\tlearn: 13066.7687051\ttotal: 364ms\tremaining: 846ms\n",
      "400:\tlearn: 11447.5085376\ttotal: 502ms\tremaining: 750ms\n",
      "500:\tlearn: 10075.7080447\ttotal: 791ms\tremaining: 788ms\n",
      "600:\tlearn: 8939.7215065\ttotal: 1.04s\tremaining: 693ms\n",
      "700:\tlearn: 8066.4296868\ttotal: 1.18s\tremaining: 505ms\n",
      "800:\tlearn: 7304.0864564\ttotal: 1.46s\tremaining: 362ms\n",
      "900:\tlearn: 6680.0261657\ttotal: 1.66s\tremaining: 182ms\n",
      "999:\tlearn: 6133.5002918\ttotal: 1.78s\tremaining: 0us\n",
      "0:\tlearn: 78362.8880376\ttotal: 1.53ms\tremaining: 1.53s\n",
      "100:\tlearn: 20399.3936616\ttotal: 175ms\tremaining: 1.56s\n",
      "200:\tlearn: 16335.7215275\ttotal: 302ms\tremaining: 1.2s\n",
      "300:\tlearn: 13839.4206924\ttotal: 451ms\tremaining: 1.05s\n",
      "400:\tlearn: 12099.7829495\ttotal: 773ms\tremaining: 1.15s\n",
      "500:\tlearn: 10746.6217367\ttotal: 980ms\tremaining: 976ms\n",
      "600:\tlearn: 9656.2226838\ttotal: 1.12s\tremaining: 746ms\n",
      "700:\tlearn: 8677.8619491\ttotal: 1.26s\tremaining: 538ms\n",
      "800:\tlearn: 7849.3545321\ttotal: 1.59s\tremaining: 395ms\n",
      "900:\tlearn: 7153.8798477\ttotal: 1.71s\tremaining: 188ms\n",
      "999:\tlearn: 6549.8511422\ttotal: 1.83s\tremaining: 0us\n",
      "0:\tlearn: 77947.4384018\ttotal: 1.43ms\tremaining: 1.43s\n",
      "100:\tlearn: 20444.8377496\ttotal: 128ms\tremaining: 1.14s\n",
      "200:\tlearn: 16242.6047776\ttotal: 241ms\tremaining: 958ms\n",
      "300:\tlearn: 13673.8543918\ttotal: 355ms\tremaining: 824ms\n",
      "400:\tlearn: 11763.2109954\ttotal: 479ms\tremaining: 715ms\n",
      "500:\tlearn: 10311.6518502\ttotal: 594ms\tremaining: 592ms\n",
      "600:\tlearn: 9297.3821947\ttotal: 707ms\tremaining: 469ms\n",
      "700:\tlearn: 8400.4545092\ttotal: 825ms\tremaining: 352ms\n",
      "800:\tlearn: 7610.2044818\ttotal: 951ms\tremaining: 236ms\n",
      "900:\tlearn: 6909.8987235\ttotal: 1.07s\tremaining: 118ms\n",
      "999:\tlearn: 6337.2713829\ttotal: 1.2s\tremaining: 0us\n",
      "0:\tlearn: 76648.0232872\ttotal: 2.04ms\tremaining: 2.04s\n",
      "100:\tlearn: 19781.7303761\ttotal: 125ms\tremaining: 1.12s\n",
      "200:\tlearn: 15813.4958155\ttotal: 245ms\tremaining: 975ms\n",
      "300:\tlearn: 13173.7062039\ttotal: 362ms\tremaining: 840ms\n",
      "400:\tlearn: 11493.7902542\ttotal: 477ms\tremaining: 713ms\n",
      "500:\tlearn: 10196.8605254\ttotal: 592ms\tremaining: 590ms\n",
      "600:\tlearn: 9172.9413061\ttotal: 822ms\tremaining: 546ms\n",
      "700:\tlearn: 8319.0670227\ttotal: 1.09s\tremaining: 464ms\n",
      "800:\tlearn: 7583.0183571\ttotal: 1.2s\tremaining: 299ms\n",
      "900:\tlearn: 6992.2429339\ttotal: 1.33s\tremaining: 146ms\n",
      "999:\tlearn: 6454.7189866\ttotal: 1.45s\tremaining: 0us\n",
      "0:\tlearn: 77914.2454340\ttotal: 2.11ms\tremaining: 2.11s\n",
      "100:\tlearn: 20494.3945576\ttotal: 120ms\tremaining: 1.06s\n",
      "200:\tlearn: 16893.3750325\ttotal: 237ms\tremaining: 943ms\n",
      "300:\tlearn: 14367.0804895\ttotal: 388ms\tremaining: 900ms\n",
      "400:\tlearn: 12301.0089508\ttotal: 534ms\tremaining: 797ms\n",
      "500:\tlearn: 10711.6830299\ttotal: 684ms\tremaining: 681ms\n",
      "600:\tlearn: 9542.0656620\ttotal: 991ms\tremaining: 658ms\n",
      "700:\tlearn: 8630.5855218\ttotal: 1.13s\tremaining: 482ms\n",
      "800:\tlearn: 7803.1208183\ttotal: 1.36s\tremaining: 339ms\n",
      "900:\tlearn: 7136.1829500\ttotal: 1.65s\tremaining: 181ms\n",
      "999:\tlearn: 6605.2483506\ttotal: 1.79s\tremaining: 0us\n"
     ]
    },
    {
     "data": {
      "text/plain": [
       "0.015127231910563893"
      ]
     },
     "execution_count": 26,
     "metadata": {},
     "output_type": "execute_result"
    }
   ],
   "execution_count": 26
  },
  {
   "metadata": {},
   "cell_type": "code",
   "outputs": [],
   "execution_count": null,
   "source": "",
   "id": "831b0f52dff0e9ef"
  }
 ],
 "metadata": {
  "kernelspec": {
   "display_name": "Python 3",
   "language": "python",
   "name": "python3"
  },
  "language_info": {
   "codemirror_mode": {
    "name": "ipython",
    "version": 2
   },
   "file_extension": ".py",
   "mimetype": "text/x-python",
   "name": "python",
   "nbconvert_exporter": "python",
   "pygments_lexer": "ipython2",
   "version": "2.7.6"
  }
 },
 "nbformat": 4,
 "nbformat_minor": 5
}

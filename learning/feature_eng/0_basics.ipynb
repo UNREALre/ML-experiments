{
 "cells": [
  {
   "cell_type": "code",
   "id": "initial_id",
   "metadata": {
    "collapsed": true,
    "ExecuteTime": {
     "end_time": "2025-04-07T13:35:57.564449Z",
     "start_time": "2025-04-07T13:35:57.081414Z"
    }
   },
   "source": [
    "import kagglehub\n",
    "import pandas as pd\n",
    "import os\n",
    "\n",
    "from catboost import CatBoostRegressor\n",
    "from sklearn.model_selection import cross_val_score\n",
    "\n",
    "# Download latest version of dataset\n",
    "path = kagglehub.dataset_download(\"sinamhd9/concrete-comprehensive-strength\")\n",
    "path"
   ],
   "outputs": [
    {
     "data": {
      "text/plain": [
       "'/Users/unrealre/.cache/kagglehub/datasets/sinamhd9/concrete-comprehensive-strength/versions/1'"
      ]
     },
     "execution_count": 13,
     "metadata": {},
     "output_type": "execute_result"
    }
   ],
   "execution_count": 13
  },
  {
   "metadata": {
    "ExecuteTime": {
     "end_time": "2025-04-07T13:41:29.898366Z",
     "start_time": "2025-04-07T13:41:29.866679Z"
    }
   },
   "cell_type": "code",
   "source": [
    "df = pd.read_excel(os.path.join(path, \"Concrete_Data.xls\"))\n",
    "df.columns = ['Cement', 'BlastFurnaceSlag', 'FlyAsh', 'Water', 'Superplasticizer', 'CoarseAggregate', 'FineAggregate', 'Age', 'CompressiveStrength']\n",
    "df.head()"
   ],
   "id": "d368f37f4ef6674",
   "outputs": [
    {
     "data": {
      "text/plain": [
       "   Cement  BlastFurnaceSlag  FlyAsh  Water  Superplasticizer  CoarseAggregate  \\\n",
       "0   540.0               0.0     0.0  162.0               2.5           1040.0   \n",
       "1   540.0               0.0     0.0  162.0               2.5           1055.0   \n",
       "2   332.5             142.5     0.0  228.0               0.0            932.0   \n",
       "3   332.5             142.5     0.0  228.0               0.0            932.0   \n",
       "4   198.6             132.4     0.0  192.0               0.0            978.4   \n",
       "\n",
       "   FineAggregate  Age  CompressiveStrength  \n",
       "0          676.0   28            79.986111  \n",
       "1          676.0   28            61.887366  \n",
       "2          594.0  270            40.269535  \n",
       "3          594.0  365            41.052780  \n",
       "4          825.5  360            44.296075  "
      ],
      "text/html": [
       "<div>\n",
       "<style scoped>\n",
       "    .dataframe tbody tr th:only-of-type {\n",
       "        vertical-align: middle;\n",
       "    }\n",
       "\n",
       "    .dataframe tbody tr th {\n",
       "        vertical-align: top;\n",
       "    }\n",
       "\n",
       "    .dataframe thead th {\n",
       "        text-align: right;\n",
       "    }\n",
       "</style>\n",
       "<table border=\"1\" class=\"dataframe\">\n",
       "  <thead>\n",
       "    <tr style=\"text-align: right;\">\n",
       "      <th></th>\n",
       "      <th>Cement</th>\n",
       "      <th>BlastFurnaceSlag</th>\n",
       "      <th>FlyAsh</th>\n",
       "      <th>Water</th>\n",
       "      <th>Superplasticizer</th>\n",
       "      <th>CoarseAggregate</th>\n",
       "      <th>FineAggregate</th>\n",
       "      <th>Age</th>\n",
       "      <th>CompressiveStrength</th>\n",
       "    </tr>\n",
       "  </thead>\n",
       "  <tbody>\n",
       "    <tr>\n",
       "      <th>0</th>\n",
       "      <td>540.0</td>\n",
       "      <td>0.0</td>\n",
       "      <td>0.0</td>\n",
       "      <td>162.0</td>\n",
       "      <td>2.5</td>\n",
       "      <td>1040.0</td>\n",
       "      <td>676.0</td>\n",
       "      <td>28</td>\n",
       "      <td>79.986111</td>\n",
       "    </tr>\n",
       "    <tr>\n",
       "      <th>1</th>\n",
       "      <td>540.0</td>\n",
       "      <td>0.0</td>\n",
       "      <td>0.0</td>\n",
       "      <td>162.0</td>\n",
       "      <td>2.5</td>\n",
       "      <td>1055.0</td>\n",
       "      <td>676.0</td>\n",
       "      <td>28</td>\n",
       "      <td>61.887366</td>\n",
       "    </tr>\n",
       "    <tr>\n",
       "      <th>2</th>\n",
       "      <td>332.5</td>\n",
       "      <td>142.5</td>\n",
       "      <td>0.0</td>\n",
       "      <td>228.0</td>\n",
       "      <td>0.0</td>\n",
       "      <td>932.0</td>\n",
       "      <td>594.0</td>\n",
       "      <td>270</td>\n",
       "      <td>40.269535</td>\n",
       "    </tr>\n",
       "    <tr>\n",
       "      <th>3</th>\n",
       "      <td>332.5</td>\n",
       "      <td>142.5</td>\n",
       "      <td>0.0</td>\n",
       "      <td>228.0</td>\n",
       "      <td>0.0</td>\n",
       "      <td>932.0</td>\n",
       "      <td>594.0</td>\n",
       "      <td>365</td>\n",
       "      <td>41.052780</td>\n",
       "    </tr>\n",
       "    <tr>\n",
       "      <th>4</th>\n",
       "      <td>198.6</td>\n",
       "      <td>132.4</td>\n",
       "      <td>0.0</td>\n",
       "      <td>192.0</td>\n",
       "      <td>0.0</td>\n",
       "      <td>978.4</td>\n",
       "      <td>825.5</td>\n",
       "      <td>360</td>\n",
       "      <td>44.296075</td>\n",
       "    </tr>\n",
       "  </tbody>\n",
       "</table>\n",
       "</div>"
      ]
     },
     "execution_count": 17,
     "metadata": {},
     "output_type": "execute_result"
    }
   ],
   "execution_count": 17
  },
  {
   "metadata": {
    "ExecuteTime": {
     "end_time": "2025-04-07T13:43:20.906285Z",
     "start_time": "2025-04-07T13:43:18.405804Z"
    }
   },
   "cell_type": "code",
   "source": [
    "# Baseline\n",
    "X = df.copy()\n",
    "y = X.pop(\"CompressiveStrength\")\n",
    "\n",
    "# Train and score baseline model\n",
    "default_params = {\n",
    "    'iterations': 1000, \n",
    "    'learning_rate': 0.05, \n",
    "    'depth': 6, \n",
    "    'loss_function': 'RMSE', \n",
    "    'verbose': 100, \n",
    "    'random_seed': 42,\n",
    "    'early_stopping_rounds': 100\n",
    "}\n",
    "baseline = CatBoostRegressor(**default_params)\n",
    "baseline_score = cross_val_score(\n",
    "    baseline, X, y, cv=5, scoring=\"neg_mean_absolute_error\"\n",
    ")\n",
    "baseline_score = -1 * baseline_score.mean()\n",
    "\n",
    "print(f\"MAE Baseline Score: {baseline_score:.4}\")"
   ],
   "id": "cd3cce91fde05213",
   "outputs": [
    {
     "name": "stdout",
     "output_type": "stream",
     "text": [
      "0:\tlearn: 14.5636419\ttotal: 56.9ms\tremaining: 56.9s\n",
      "100:\tlearn: 4.3759228\ttotal: 101ms\tremaining: 902ms\n",
      "200:\tlearn: 3.2873769\ttotal: 144ms\tremaining: 572ms\n",
      "300:\tlearn: 2.6374007\ttotal: 191ms\tremaining: 445ms\n",
      "400:\tlearn: 2.2644064\ttotal: 240ms\tremaining: 359ms\n",
      "500:\tlearn: 1.9810257\ttotal: 291ms\tremaining: 290ms\n",
      "600:\tlearn: 1.7688467\ttotal: 340ms\tremaining: 226ms\n",
      "700:\tlearn: 1.6156353\ttotal: 383ms\tremaining: 164ms\n",
      "800:\tlearn: 1.4789665\ttotal: 427ms\tremaining: 106ms\n",
      "900:\tlearn: 1.3636782\ttotal: 487ms\tremaining: 53.5ms\n",
      "999:\tlearn: 1.2523566\ttotal: 535ms\tremaining: 0us\n",
      "0:\tlearn: 16.4388673\ttotal: 572us\tremaining: 572ms\n",
      "100:\tlearn: 4.3111397\ttotal: 41.3ms\tremaining: 367ms\n",
      "200:\tlearn: 3.2471000\ttotal: 83.5ms\tremaining: 332ms\n",
      "300:\tlearn: 2.7129383\ttotal: 128ms\tremaining: 296ms\n",
      "400:\tlearn: 2.3593921\ttotal: 174ms\tremaining: 260ms\n",
      "500:\tlearn: 2.1199737\ttotal: 218ms\tremaining: 217ms\n",
      "600:\tlearn: 1.9699554\ttotal: 259ms\tremaining: 172ms\n",
      "700:\tlearn: 1.8455061\ttotal: 304ms\tremaining: 130ms\n",
      "800:\tlearn: 1.7433852\ttotal: 346ms\tremaining: 86ms\n",
      "900:\tlearn: 1.6396134\ttotal: 392ms\tremaining: 43.1ms\n",
      "999:\tlearn: 1.5572752\ttotal: 438ms\tremaining: 0us\n",
      "0:\tlearn: 16.4389320\ttotal: 551us\tremaining: 551ms\n",
      "100:\tlearn: 4.4944994\ttotal: 47.6ms\tremaining: 424ms\n",
      "200:\tlearn: 3.3740272\ttotal: 91.8ms\tremaining: 365ms\n",
      "300:\tlearn: 2.8080191\ttotal: 140ms\tremaining: 324ms\n",
      "400:\tlearn: 2.4210270\ttotal: 185ms\tremaining: 276ms\n",
      "500:\tlearn: 2.1559133\ttotal: 230ms\tremaining: 229ms\n",
      "600:\tlearn: 1.9836479\ttotal: 273ms\tremaining: 181ms\n",
      "700:\tlearn: 1.8324481\ttotal: 316ms\tremaining: 135ms\n",
      "800:\tlearn: 1.7261077\ttotal: 360ms\tremaining: 89.5ms\n",
      "900:\tlearn: 1.6293370\ttotal: 404ms\tremaining: 44.4ms\n",
      "999:\tlearn: 1.5474028\ttotal: 447ms\tremaining: 0us\n",
      "0:\tlearn: 16.0391345\ttotal: 470us\tremaining: 470ms\n",
      "100:\tlearn: 4.7984731\ttotal: 41.4ms\tremaining: 369ms\n",
      "200:\tlearn: 3.5872146\ttotal: 86.1ms\tremaining: 342ms\n",
      "300:\tlearn: 2.9554951\ttotal: 135ms\tremaining: 313ms\n",
      "400:\tlearn: 2.5592793\ttotal: 182ms\tremaining: 272ms\n",
      "500:\tlearn: 2.2798815\ttotal: 226ms\tremaining: 225ms\n",
      "600:\tlearn: 2.0715229\ttotal: 271ms\tremaining: 180ms\n",
      "700:\tlearn: 1.9255442\ttotal: 312ms\tremaining: 133ms\n",
      "800:\tlearn: 1.8180000\ttotal: 356ms\tremaining: 88.4ms\n",
      "900:\tlearn: 1.7224537\ttotal: 401ms\tremaining: 44.1ms\n",
      "999:\tlearn: 1.6382709\ttotal: 444ms\tremaining: 0us\n",
      "0:\tlearn: 16.9618966\ttotal: 380us\tremaining: 380ms\n",
      "100:\tlearn: 4.2743797\ttotal: 40.1ms\tremaining: 357ms\n",
      "200:\tlearn: 3.3086750\ttotal: 76.4ms\tremaining: 304ms\n",
      "300:\tlearn: 2.7546984\ttotal: 137ms\tremaining: 319ms\n",
      "400:\tlearn: 2.4062855\ttotal: 180ms\tremaining: 269ms\n",
      "500:\tlearn: 2.1578394\ttotal: 222ms\tremaining: 221ms\n",
      "600:\tlearn: 1.9975071\ttotal: 263ms\tremaining: 175ms\n",
      "700:\tlearn: 1.8723663\ttotal: 303ms\tremaining: 129ms\n",
      "800:\tlearn: 1.7736537\ttotal: 349ms\tremaining: 86.6ms\n",
      "900:\tlearn: 1.6978071\ttotal: 393ms\tremaining: 43.2ms\n",
      "999:\tlearn: 1.6347220\ttotal: 434ms\tremaining: 0us\n",
      "MAE Baseline Score: 7.354\n"
     ]
    }
   ],
   "execution_count": 18
  },
  {
   "metadata": {
    "ExecuteTime": {
     "end_time": "2025-04-07T13:43:37.046436Z",
     "start_time": "2025-04-07T13:43:37.039651Z"
    }
   },
   "cell_type": "code",
   "source": "# MAE Baseline Score: 7.354",
   "id": "16517d0cf8bc3b50",
   "outputs": [],
   "execution_count": 19
  },
  {
   "metadata": {
    "ExecuteTime": {
     "end_time": "2025-04-07T13:58:03.854246Z",
     "start_time": "2025-04-07T13:58:00.830277Z"
    }
   },
   "cell_type": "code",
   "source": [
    "X = df.copy()\n",
    "y = X.pop(\"CompressiveStrength\")\n",
    "\n",
    "# Create synthetic features\n",
    "X[\"FCRatio\"] = X[\"FineAggregate\"] / X[\"CoarseAggregate\"]\n",
    "X[\"AggCmtRatio\"] = (X[\"CoarseAggregate\"] + X[\"FineAggregate\"]) / X[\"Cement\"]\n",
    "X[\"WtrCmtRatio\"] = X[\"Water\"] / X[\"Cement\"]\n",
    "\n",
    "# Train and score model on dataset with additional ratio features\n",
    "model = CatBoostRegressor(**default_params)\n",
    "score = cross_val_score(\n",
    "    model, X, y, cv=5, scoring=\"neg_mean_absolute_error\"\n",
    ")\n",
    "score = -1 * score.mean()\n",
    "\n",
    "print(f\"MAE Score with Ratio Features: {score:.4}\")"
   ],
   "id": "5e6d33e7a2d2b673",
   "outputs": [
    {
     "name": "stdout",
     "output_type": "stream",
     "text": [
      "0:\tlearn: 14.5624675\ttotal: 1.28ms\tremaining: 1.27s\n",
      "100:\tlearn: 4.2870447\ttotal: 53.6ms\tremaining: 477ms\n",
      "200:\tlearn: 3.2261886\ttotal: 106ms\tremaining: 423ms\n",
      "300:\tlearn: 2.6229422\ttotal: 159ms\tremaining: 370ms\n",
      "400:\tlearn: 2.2515039\ttotal: 215ms\tremaining: 321ms\n",
      "500:\tlearn: 1.9539804\ttotal: 276ms\tremaining: 274ms\n",
      "600:\tlearn: 1.7605073\ttotal: 331ms\tremaining: 219ms\n",
      "700:\tlearn: 1.6028141\ttotal: 383ms\tremaining: 163ms\n",
      "800:\tlearn: 1.4564329\ttotal: 440ms\tremaining: 109ms\n",
      "900:\tlearn: 1.3246570\ttotal: 494ms\tremaining: 54.3ms\n",
      "999:\tlearn: 1.2315651\ttotal: 552ms\tremaining: 0us\n",
      "0:\tlearn: 16.4195315\ttotal: 664us\tremaining: 664ms\n",
      "100:\tlearn: 4.2117441\ttotal: 52.4ms\tremaining: 466ms\n",
      "200:\tlearn: 3.1421891\ttotal: 107ms\tremaining: 427ms\n",
      "300:\tlearn: 2.5831413\ttotal: 160ms\tremaining: 371ms\n",
      "400:\tlearn: 2.2373843\ttotal: 210ms\tremaining: 314ms\n",
      "500:\tlearn: 2.0062516\ttotal: 260ms\tremaining: 259ms\n",
      "600:\tlearn: 1.8380362\ttotal: 312ms\tremaining: 207ms\n",
      "700:\tlearn: 1.7240608\ttotal: 366ms\tremaining: 156ms\n",
      "800:\tlearn: 1.6215931\ttotal: 416ms\tremaining: 103ms\n",
      "900:\tlearn: 1.5441145\ttotal: 469ms\tremaining: 51.5ms\n",
      "999:\tlearn: 1.4867503\ttotal: 521ms\tremaining: 0us\n",
      "0:\tlearn: 16.4651544\ttotal: 603us\tremaining: 603ms\n",
      "100:\tlearn: 4.5012384\ttotal: 57.5ms\tremaining: 512ms\n",
      "200:\tlearn: 3.3666076\ttotal: 111ms\tremaining: 440ms\n",
      "300:\tlearn: 2.7030155\ttotal: 164ms\tremaining: 381ms\n",
      "400:\tlearn: 2.3295690\ttotal: 221ms\tremaining: 331ms\n",
      "500:\tlearn: 2.0870089\ttotal: 275ms\tremaining: 274ms\n",
      "600:\tlearn: 1.9190398\ttotal: 326ms\tremaining: 216ms\n",
      "700:\tlearn: 1.8056736\ttotal: 379ms\tremaining: 162ms\n",
      "800:\tlearn: 1.6889125\ttotal: 437ms\tremaining: 108ms\n",
      "900:\tlearn: 1.6008293\ttotal: 491ms\tremaining: 53.9ms\n",
      "999:\tlearn: 1.5302274\ttotal: 544ms\tremaining: 0us\n",
      "0:\tlearn: 15.9902442\ttotal: 586us\tremaining: 586ms\n",
      "100:\tlearn: 4.7286413\ttotal: 53.6ms\tremaining: 477ms\n",
      "200:\tlearn: 3.5722371\ttotal: 106ms\tremaining: 421ms\n",
      "300:\tlearn: 2.9111699\ttotal: 161ms\tremaining: 373ms\n",
      "400:\tlearn: 2.5512867\ttotal: 215ms\tremaining: 321ms\n",
      "500:\tlearn: 2.3009479\ttotal: 267ms\tremaining: 266ms\n",
      "600:\tlearn: 2.0951961\ttotal: 321ms\tremaining: 213ms\n",
      "700:\tlearn: 1.9519361\ttotal: 386ms\tremaining: 164ms\n",
      "800:\tlearn: 1.8078725\ttotal: 459ms\tremaining: 114ms\n",
      "900:\tlearn: 1.7257705\ttotal: 528ms\tremaining: 58ms\n",
      "999:\tlearn: 1.6401692\ttotal: 609ms\tremaining: 0us\n",
      "0:\tlearn: 16.9257034\ttotal: 573us\tremaining: 573ms\n",
      "100:\tlearn: 4.2641990\ttotal: 73.5ms\tremaining: 655ms\n",
      "200:\tlearn: 3.3393066\ttotal: 143ms\tremaining: 568ms\n",
      "300:\tlearn: 2.7303096\ttotal: 205ms\tremaining: 476ms\n",
      "400:\tlearn: 2.3599116\ttotal: 266ms\tremaining: 397ms\n",
      "500:\tlearn: 2.1170443\ttotal: 318ms\tremaining: 317ms\n",
      "600:\tlearn: 1.9610185\ttotal: 375ms\tremaining: 249ms\n",
      "700:\tlearn: 1.8475009\ttotal: 432ms\tremaining: 184ms\n",
      "800:\tlearn: 1.7430234\ttotal: 488ms\tremaining: 121ms\n",
      "900:\tlearn: 1.6549191\ttotal: 542ms\tremaining: 59.6ms\n",
      "999:\tlearn: 1.5876351\ttotal: 603ms\tremaining: 0us\n",
      "MAE Score with Ratio Features: 7.183\n"
     ]
    }
   ],
   "execution_count": 22
  },
  {
   "metadata": {
    "ExecuteTime": {
     "end_time": "2025-04-07T13:57:44.781304Z",
     "start_time": "2025-04-07T13:57:44.777643Z"
    }
   },
   "cell_type": "code",
   "source": "# MAE Score with Ratio Features: 7.183",
   "id": "a6a483525b699a55",
   "outputs": [],
   "execution_count": 21
  },
  {
   "metadata": {},
   "cell_type": "code",
   "outputs": [],
   "execution_count": null,
   "source": "",
   "id": "fdefa0c83415949b"
  }
 ],
 "metadata": {
  "kernelspec": {
   "display_name": "Python 3",
   "language": "python",
   "name": "python3"
  },
  "language_info": {
   "codemirror_mode": {
    "name": "ipython",
    "version": 2
   },
   "file_extension": ".py",
   "mimetype": "text/x-python",
   "name": "python",
   "nbconvert_exporter": "python",
   "pygments_lexer": "ipython2",
   "version": "2.7.6"
  }
 },
 "nbformat": 4,
 "nbformat_minor": 5
}

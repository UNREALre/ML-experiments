{
 "cells": [
  {
   "cell_type": "code",
   "id": "initial_id",
   "metadata": {
    "collapsed": true,
    "ExecuteTime": {
     "end_time": "2025-04-07T13:35:57.564449Z",
     "start_time": "2025-04-07T13:35:57.081414Z"
    }
   },
   "source": [
    "import kagglehub\n",
    "import pandas as pd\n",
    "import os\n",
    "\n",
    "from catboost import CatBoostRegressor\n",
    "from sklearn.model_selection import cross_val_score\n",
    "\n",
    "# Download latest version of dataset\n",
    "path = kagglehub.dataset_download(\"sinamhd9/concrete-comprehensive-strength\")\n",
    "path"
   ],
   "outputs": [
    {
     "data": {
      "text/plain": [
       "'/Users/unrealre/.cache/kagglehub/datasets/sinamhd9/concrete-comprehensive-strength/versions/1'"
      ]
     },
     "execution_count": 13,
     "metadata": {},
     "output_type": "execute_result"
    }
   ],
   "execution_count": 13
  },
  {
   "metadata": {
    "ExecuteTime": {
     "end_time": "2025-04-07T13:41:29.898366Z",
     "start_time": "2025-04-07T13:41:29.866679Z"
    }
   },
   "cell_type": "code",
   "source": [
    "df = pd.read_excel(os.path.join(path, \"Concrete_Data.xls\"))\n",
    "df.columns = ['Cement', 'BlastFurnaceSlag', 'FlyAsh', 'Water', 'Superplasticizer', 'CoarseAggregate', 'FineAggregate', 'Age', 'CompressiveStrength']\n",
    "df.head()"
   ],
   "id": "d368f37f4ef6674",
   "outputs": [
    {
     "data": {
      "text/plain": [
       "   Cement  BlastFurnaceSlag  FlyAsh  Water  Superplasticizer  CoarseAggregate  \\\n",
       "0   540.0               0.0     0.0  162.0               2.5           1040.0   \n",
       "1   540.0               0.0     0.0  162.0               2.5           1055.0   \n",
       "2   332.5             142.5     0.0  228.0               0.0            932.0   \n",
       "3   332.5             142.5     0.0  228.0               0.0            932.0   \n",
       "4   198.6             132.4     0.0  192.0               0.0            978.4   \n",
       "\n",
       "   FineAggregate  Age  CompressiveStrength  \n",
       "0          676.0   28            79.986111  \n",
       "1          676.0   28            61.887366  \n",
       "2          594.0  270            40.269535  \n",
       "3          594.0  365            41.052780  \n",
       "4          825.5  360            44.296075  "
      ],
      "text/html": [
       "<div>\n",
       "<style scoped>\n",
       "    .dataframe tbody tr th:only-of-type {\n",
       "        vertical-align: middle;\n",
       "    }\n",
       "\n",
       "    .dataframe tbody tr th {\n",
       "        vertical-align: top;\n",
       "    }\n",
       "\n",
       "    .dataframe thead th {\n",
       "        text-align: right;\n",
       "    }\n",
       "</style>\n",
       "<table border=\"1\" class=\"dataframe\">\n",
       "  <thead>\n",
       "    <tr style=\"text-align: right;\">\n",
       "      <th></th>\n",
       "      <th>Cement</th>\n",
       "      <th>BlastFurnaceSlag</th>\n",
       "      <th>FlyAsh</th>\n",
       "      <th>Water</th>\n",
       "      <th>Superplasticizer</th>\n",
       "      <th>CoarseAggregate</th>\n",
       "      <th>FineAggregate</th>\n",
       "      <th>Age</th>\n",
       "      <th>CompressiveStrength</th>\n",
       "    </tr>\n",
       "  </thead>\n",
       "  <tbody>\n",
       "    <tr>\n",
       "      <th>0</th>\n",
       "      <td>540.0</td>\n",
       "      <td>0.0</td>\n",
       "      <td>0.0</td>\n",
       "      <td>162.0</td>\n",
       "      <td>2.5</td>\n",
       "      <td>1040.0</td>\n",
       "      <td>676.0</td>\n",
       "      <td>28</td>\n",
       "      <td>79.986111</td>\n",
       "    </tr>\n",
       "    <tr>\n",
       "      <th>1</th>\n",
       "      <td>540.0</td>\n",
       "      <td>0.0</td>\n",
       "      <td>0.0</td>\n",
       "      <td>162.0</td>\n",
       "      <td>2.5</td>\n",
       "      <td>1055.0</td>\n",
       "      <td>676.0</td>\n",
       "      <td>28</td>\n",
       "      <td>61.887366</td>\n",
       "    </tr>\n",
       "    <tr>\n",
       "      <th>2</th>\n",
       "      <td>332.5</td>\n",
       "      <td>142.5</td>\n",
       "      <td>0.0</td>\n",
       "      <td>228.0</td>\n",
       "      <td>0.0</td>\n",
       "      <td>932.0</td>\n",
       "      <td>594.0</td>\n",
       "      <td>270</td>\n",
       "      <td>40.269535</td>\n",
       "    </tr>\n",
       "    <tr>\n",
       "      <th>3</th>\n",
       "      <td>332.5</td>\n",
       "      <td>142.5</td>\n",
       "      <td>0.0</td>\n",
       "      <td>228.0</td>\n",
       "      <td>0.0</td>\n",
       "      <td>932.0</td>\n",
       "      <td>594.0</td>\n",
       "      <td>365</td>\n",
       "      <td>41.052780</td>\n",
       "    </tr>\n",
       "    <tr>\n",
       "      <th>4</th>\n",
       "      <td>198.6</td>\n",
       "      <td>132.4</td>\n",
       "      <td>0.0</td>\n",
       "      <td>192.0</td>\n",
       "      <td>0.0</td>\n",
       "      <td>978.4</td>\n",
       "      <td>825.5</td>\n",
       "      <td>360</td>\n",
       "      <td>44.296075</td>\n",
       "    </tr>\n",
       "  </tbody>\n",
       "</table>\n",
       "</div>"
      ]
     },
     "execution_count": 17,
     "metadata": {},
     "output_type": "execute_result"
    }
   ],
   "execution_count": 17
  },
  {
   "metadata": {
    "ExecuteTime": {
     "end_time": "2025-04-08T13:04:33.242676Z",
     "start_time": "2025-04-08T13:04:30.315912Z"
    }
   },
   "cell_type": "code",
   "source": [
    "# Baseline\n",
    "X = df.copy()\n",
    "y = X.pop(\"CompressiveStrength\")\n",
    "\n",
    "# Train and score baseline model\n",
    "default_params = {\n",
    "    'iterations': 1000, \n",
    "    'learning_rate': 0.05, \n",
    "    'depth': 6, \n",
    "    'loss_function': 'RMSE', \n",
    "    'verbose': 100, \n",
    "    'random_seed': 42,\n",
    "    'early_stopping_rounds': 100\n",
    "}\n",
    "baseline = CatBoostRegressor(**default_params)\n",
    "baseline_score = cross_val_score(\n",
    "    baseline, X, y, cv=5, scoring=\"neg_mean_absolute_error\"\n",
    ")\n",
    "baseline_score = -1 * baseline_score.mean()\n",
    "\n",
    "print(f\"MAE Baseline Score: {baseline_score:.4}\")"
   ],
   "id": "cd3cce91fde05213",
   "outputs": [
    {
     "name": "stdout",
     "output_type": "stream",
     "text": [
      "0:\tlearn: 14.5636419\ttotal: 1.75ms\tremaining: 1.75s\n",
      "100:\tlearn: 4.3759228\ttotal: 51ms\tremaining: 454ms\n",
      "200:\tlearn: 3.2873769\ttotal: 95.7ms\tremaining: 380ms\n",
      "300:\tlearn: 2.6374007\ttotal: 138ms\tremaining: 322ms\n",
      "400:\tlearn: 2.2644064\ttotal: 185ms\tremaining: 276ms\n",
      "500:\tlearn: 1.9810257\ttotal: 231ms\tremaining: 230ms\n",
      "600:\tlearn: 1.7688467\ttotal: 278ms\tremaining: 184ms\n",
      "700:\tlearn: 1.6156353\ttotal: 326ms\tremaining: 139ms\n",
      "800:\tlearn: 1.4789665\ttotal: 376ms\tremaining: 93.5ms\n",
      "900:\tlearn: 1.3636782\ttotal: 462ms\tremaining: 50.7ms\n",
      "999:\tlearn: 1.2523566\ttotal: 578ms\tremaining: 0us\n",
      "0:\tlearn: 16.4388673\ttotal: 1.58ms\tremaining: 1.58s\n",
      "100:\tlearn: 4.3111397\ttotal: 104ms\tremaining: 923ms\n",
      "200:\tlearn: 3.2471000\ttotal: 172ms\tremaining: 683ms\n",
      "300:\tlearn: 2.7129383\ttotal: 216ms\tremaining: 501ms\n",
      "400:\tlearn: 2.3593921\ttotal: 263ms\tremaining: 392ms\n",
      "500:\tlearn: 2.1199737\ttotal: 307ms\tremaining: 305ms\n",
      "600:\tlearn: 1.9699554\ttotal: 367ms\tremaining: 244ms\n",
      "700:\tlearn: 1.8455061\ttotal: 413ms\tremaining: 176ms\n",
      "800:\tlearn: 1.7433852\ttotal: 459ms\tremaining: 114ms\n",
      "900:\tlearn: 1.6396134\ttotal: 526ms\tremaining: 57.8ms\n",
      "999:\tlearn: 1.5572752\ttotal: 585ms\tremaining: 0us\n",
      "0:\tlearn: 16.4389320\ttotal: 1.29ms\tremaining: 1.29s\n",
      "100:\tlearn: 4.4944994\ttotal: 54.4ms\tremaining: 484ms\n",
      "200:\tlearn: 3.3740272\ttotal: 103ms\tremaining: 410ms\n",
      "300:\tlearn: 2.8080191\ttotal: 156ms\tremaining: 362ms\n",
      "400:\tlearn: 2.4210270\ttotal: 206ms\tremaining: 307ms\n",
      "500:\tlearn: 2.1559133\ttotal: 257ms\tremaining: 256ms\n",
      "600:\tlearn: 1.9836479\ttotal: 309ms\tremaining: 205ms\n",
      "700:\tlearn: 1.8324481\ttotal: 360ms\tremaining: 154ms\n",
      "800:\tlearn: 1.7261077\ttotal: 468ms\tremaining: 116ms\n",
      "900:\tlearn: 1.6293370\ttotal: 565ms\tremaining: 62.1ms\n",
      "999:\tlearn: 1.5474028\ttotal: 683ms\tremaining: 0us\n",
      "0:\tlearn: 16.0391345\ttotal: 515us\tremaining: 515ms\n",
      "100:\tlearn: 4.7984731\ttotal: 41.9ms\tremaining: 373ms\n",
      "200:\tlearn: 3.5872146\ttotal: 82.7ms\tremaining: 329ms\n",
      "300:\tlearn: 2.9554951\ttotal: 123ms\tremaining: 286ms\n",
      "400:\tlearn: 2.5592793\ttotal: 165ms\tremaining: 246ms\n",
      "500:\tlearn: 2.2798815\ttotal: 207ms\tremaining: 206ms\n",
      "600:\tlearn: 2.0715229\ttotal: 247ms\tremaining: 164ms\n",
      "700:\tlearn: 1.9255442\ttotal: 288ms\tremaining: 123ms\n",
      "800:\tlearn: 1.8180000\ttotal: 330ms\tremaining: 82.1ms\n",
      "900:\tlearn: 1.7224537\ttotal: 372ms\tremaining: 40.9ms\n",
      "999:\tlearn: 1.6382709\ttotal: 410ms\tremaining: 0us\n",
      "0:\tlearn: 16.9618966\ttotal: 350us\tremaining: 350ms\n",
      "100:\tlearn: 4.2743797\ttotal: 32.8ms\tremaining: 292ms\n",
      "200:\tlearn: 3.3086750\ttotal: 65.9ms\tremaining: 262ms\n",
      "300:\tlearn: 2.7546984\ttotal: 100ms\tremaining: 233ms\n",
      "400:\tlearn: 2.4062855\ttotal: 136ms\tremaining: 203ms\n",
      "500:\tlearn: 2.1578394\ttotal: 172ms\tremaining: 171ms\n",
      "600:\tlearn: 1.9975071\ttotal: 205ms\tremaining: 136ms\n",
      "700:\tlearn: 1.8723663\ttotal: 240ms\tremaining: 102ms\n",
      "800:\tlearn: 1.7736537\ttotal: 275ms\tremaining: 68.2ms\n",
      "900:\tlearn: 1.6978071\ttotal: 311ms\tremaining: 34.1ms\n",
      "999:\tlearn: 1.6347220\ttotal: 344ms\tremaining: 0us\n",
      "MAE Baseline Score: 7.354\n"
     ]
    }
   ],
   "execution_count": 29
  },
  {
   "metadata": {
    "ExecuteTime": {
     "end_time": "2025-04-08T13:04:34.219019Z",
     "start_time": "2025-04-08T13:04:34.216894Z"
    }
   },
   "cell_type": "code",
   "source": "# MAE Baseline Score: 7.354",
   "id": "16517d0cf8bc3b50",
   "outputs": [],
   "execution_count": 30
  },
  {
   "metadata": {
    "ExecuteTime": {
     "end_time": "2025-04-08T13:04:38.352720Z",
     "start_time": "2025-04-08T13:04:34.522390Z"
    }
   },
   "cell_type": "code",
   "source": [
    "X = df.copy()\n",
    "y = X.pop(\"CompressiveStrength\")\n",
    "\n",
    "# Create synthetic features\n",
    "X[\"FCRatio\"] = X[\"FineAggregate\"] / X[\"CoarseAggregate\"]\n",
    "X[\"AggCmtRatio\"] = (X[\"CoarseAggregate\"] + X[\"FineAggregate\"]) / X[\"Cement\"]\n",
    "X[\"WtrCmtRatio\"] = X[\"Water\"] / X[\"Cement\"]\n",
    "\n",
    "# Train and score model on dataset with additional ratio features\n",
    "model = CatBoostRegressor(**default_params)\n",
    "score = cross_val_score(\n",
    "    model, X, y, cv=5, scoring=\"neg_mean_absolute_error\"\n",
    ")\n",
    "score = -1 * score.mean()\n",
    "\n",
    "print(f\"MAE Score with Ratio Features: {score:.4}\")"
   ],
   "id": "5e6d33e7a2d2b673",
   "outputs": [
    {
     "name": "stdout",
     "output_type": "stream",
     "text": [
      "0:\tlearn: 14.5624675\ttotal: 7.44ms\tremaining: 7.44s\n",
      "100:\tlearn: 4.2870447\ttotal: 91.3ms\tremaining: 813ms\n",
      "200:\tlearn: 3.2261886\ttotal: 148ms\tremaining: 587ms\n",
      "300:\tlearn: 2.6229422\ttotal: 209ms\tremaining: 486ms\n",
      "400:\tlearn: 2.2515039\ttotal: 417ms\tremaining: 622ms\n",
      "500:\tlearn: 1.9539804\ttotal: 551ms\tremaining: 549ms\n",
      "600:\tlearn: 1.7605073\ttotal: 701ms\tremaining: 466ms\n",
      "700:\tlearn: 1.6028141\ttotal: 863ms\tremaining: 368ms\n",
      "800:\tlearn: 1.4564329\ttotal: 913ms\tremaining: 227ms\n",
      "900:\tlearn: 1.3246570\ttotal: 964ms\tremaining: 106ms\n",
      "999:\tlearn: 1.2315651\ttotal: 1.02s\tremaining: 0us\n",
      "0:\tlearn: 16.4195315\ttotal: 1.05ms\tremaining: 1.05s\n",
      "100:\tlearn: 4.2117441\ttotal: 52.8ms\tremaining: 470ms\n",
      "200:\tlearn: 3.1421891\ttotal: 111ms\tremaining: 442ms\n",
      "300:\tlearn: 2.5831413\ttotal: 182ms\tremaining: 422ms\n",
      "400:\tlearn: 2.2373843\ttotal: 238ms\tremaining: 356ms\n",
      "500:\tlearn: 2.0062516\ttotal: 295ms\tremaining: 294ms\n",
      "600:\tlearn: 1.8380362\ttotal: 471ms\tremaining: 313ms\n",
      "700:\tlearn: 1.7240608\ttotal: 638ms\tremaining: 272ms\n",
      "800:\tlearn: 1.6215931\ttotal: 688ms\tremaining: 171ms\n",
      "900:\tlearn: 1.5441145\ttotal: 737ms\tremaining: 81ms\n",
      "999:\tlearn: 1.4867503\ttotal: 786ms\tremaining: 0us\n",
      "0:\tlearn: 16.4651544\ttotal: 659us\tremaining: 659ms\n",
      "100:\tlearn: 4.5012384\ttotal: 67.4ms\tremaining: 600ms\n",
      "200:\tlearn: 3.3666076\ttotal: 120ms\tremaining: 478ms\n",
      "300:\tlearn: 2.7030155\ttotal: 175ms\tremaining: 407ms\n",
      "400:\tlearn: 2.3295690\ttotal: 227ms\tremaining: 339ms\n",
      "500:\tlearn: 2.0870089\ttotal: 279ms\tremaining: 277ms\n",
      "600:\tlearn: 1.9190398\ttotal: 329ms\tremaining: 219ms\n",
      "700:\tlearn: 1.8056736\ttotal: 379ms\tremaining: 162ms\n",
      "800:\tlearn: 1.6889125\ttotal: 431ms\tremaining: 107ms\n",
      "900:\tlearn: 1.6008293\ttotal: 482ms\tremaining: 52.9ms\n",
      "999:\tlearn: 1.5302274\ttotal: 532ms\tremaining: 0us\n",
      "0:\tlearn: 15.9902442\ttotal: 525us\tremaining: 525ms\n",
      "100:\tlearn: 4.7286413\ttotal: 156ms\tremaining: 1.39s\n",
      "200:\tlearn: 3.5722371\ttotal: 333ms\tremaining: 1.32s\n",
      "300:\tlearn: 2.9111699\ttotal: 435ms\tremaining: 1.01s\n",
      "400:\tlearn: 2.5512867\ttotal: 494ms\tremaining: 739ms\n",
      "500:\tlearn: 2.3009479\ttotal: 549ms\tremaining: 546ms\n",
      "600:\tlearn: 2.0951961\ttotal: 604ms\tremaining: 401ms\n",
      "700:\tlearn: 1.9519361\ttotal: 694ms\tremaining: 296ms\n",
      "800:\tlearn: 1.8078725\ttotal: 755ms\tremaining: 188ms\n",
      "900:\tlearn: 1.7257705\ttotal: 813ms\tremaining: 89.3ms\n",
      "999:\tlearn: 1.6401692\ttotal: 870ms\tremaining: 0us\n",
      "0:\tlearn: 16.9257034\ttotal: 469us\tremaining: 469ms\n",
      "100:\tlearn: 4.2641990\ttotal: 46.6ms\tremaining: 415ms\n",
      "200:\tlearn: 3.3393066\ttotal: 96.9ms\tremaining: 385ms\n",
      "300:\tlearn: 2.7303096\ttotal: 145ms\tremaining: 337ms\n",
      "400:\tlearn: 2.3599116\ttotal: 196ms\tremaining: 293ms\n",
      "500:\tlearn: 2.1170443\ttotal: 237ms\tremaining: 236ms\n",
      "600:\tlearn: 1.9610185\ttotal: 281ms\tremaining: 186ms\n",
      "700:\tlearn: 1.8475009\ttotal: 326ms\tremaining: 139ms\n",
      "800:\tlearn: 1.7430234\ttotal: 369ms\tremaining: 91.6ms\n",
      "900:\tlearn: 1.6549191\ttotal: 413ms\tremaining: 45.4ms\n",
      "999:\tlearn: 1.5876351\ttotal: 455ms\tremaining: 0us\n",
      "MAE Score with Ratio Features: 7.183\n"
     ]
    }
   ],
   "execution_count": 31
  },
  {
   "metadata": {
    "ExecuteTime": {
     "end_time": "2025-04-08T13:04:38.360147Z",
     "start_time": "2025-04-08T13:04:38.357895Z"
    }
   },
   "cell_type": "code",
   "source": "# MAE Score with Ratio Features: 7.183",
   "id": "a6a483525b699a55",
   "outputs": [],
   "execution_count": 32
  },
  {
   "metadata": {},
   "cell_type": "code",
   "outputs": [],
   "execution_count": null,
   "source": "",
   "id": "fdefa0c83415949b"
  }
 ],
 "metadata": {
  "kernelspec": {
   "display_name": "Python 3",
   "language": "python",
   "name": "python3"
  },
  "language_info": {
   "codemirror_mode": {
    "name": "ipython",
    "version": 2
   },
   "file_extension": ".py",
   "mimetype": "text/x-python",
   "name": "python",
   "nbconvert_exporter": "python",
   "pygments_lexer": "ipython2",
   "version": "2.7.6"
  }
 },
 "nbformat": 4,
 "nbformat_minor": 5
}

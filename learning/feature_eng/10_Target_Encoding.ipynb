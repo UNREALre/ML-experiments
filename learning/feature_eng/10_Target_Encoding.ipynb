{
 "cells": [
  {
   "metadata": {},
   "cell_type": "markdown",
   "source": [
    "# Exercise\n",
    "In this exercise, you'll apply target encoding to features in the Ames dataset."
   ],
   "id": "ead947bf92fabd9f"
  },
  {
   "cell_type": "code",
   "id": "initial_id",
   "metadata": {
    "collapsed": true,
    "ExecuteTime": {
     "end_time": "2025-04-11T09:48:20.919012Z",
     "start_time": "2025-04-11T09:48:15.528473Z"
    }
   },
   "source": [
    "import matplotlib.pyplot as plt\n",
    "import numpy as np\n",
    "import pandas as pd\n",
    "import seaborn as sns\n",
    "import warnings\n",
    "from category_encoders import MEstimateEncoder\n",
    "from sklearn.model_selection import cross_val_score\n",
    "from xgboost import XGBRegressor\n",
    "\n",
    "# Set Matplotlib defaults\n",
    "plt.rc(\"figure\", autolayout=True)\n",
    "plt.rc(\n",
    "    \"axes\",\n",
    "    labelweight=\"bold\",\n",
    "    labelsize=\"large\",\n",
    "    titleweight=\"bold\",\n",
    "    titlesize=14,\n",
    "    titlepad=10,\n",
    ")\n",
    "warnings.filterwarnings('ignore')\n",
    "\n",
    "\n",
    "def score_dataset(X, y, model=XGBRegressor()):\n",
    "    # Label encoding for categoricals\n",
    "    for colname in X.select_dtypes([\"category\", \"object\"]):\n",
    "        X[colname], _ = X[colname].factorize()\n",
    "    # Metric for Housing competition is RMSLE (Root Mean Squared Log Error)\n",
    "    score = cross_val_score(\n",
    "        model, X, y, cv=5, scoring=\"neg_mean_squared_log_error\",\n",
    "    )\n",
    "    score = -1 * score.mean()\n",
    "    score = np.sqrt(score)\n",
    "    return score"
   ],
   "outputs": [],
   "execution_count": 1
  },
  {
   "metadata": {
    "ExecuteTime": {
     "end_time": "2025-04-11T09:48:55.480593Z",
     "start_time": "2025-04-11T09:48:55.437684Z"
    }
   },
   "cell_type": "code",
   "source": [
    "df = pd.read_csv(\"data/ames.csv\")\n",
    "df.head()"
   ],
   "id": "8963ab8846ff2830",
   "outputs": [
    {
     "data": {
      "text/plain": [
       "                            MSSubClass                  MSZoning  LotFrontage  \\\n",
       "0  One_Story_1946_and_Newer_All_Styles   Residential_Low_Density        141.0   \n",
       "1  One_Story_1946_and_Newer_All_Styles  Residential_High_Density         80.0   \n",
       "2  One_Story_1946_and_Newer_All_Styles   Residential_Low_Density         81.0   \n",
       "3  One_Story_1946_and_Newer_All_Styles   Residential_Low_Density         93.0   \n",
       "4             Two_Story_1946_and_Newer   Residential_Low_Density         74.0   \n",
       "\n",
       "   LotArea Street            Alley            LotShape LandContour Utilities  \\\n",
       "0  31770.0   Pave  No_Alley_Access  Slightly_Irregular         Lvl    AllPub   \n",
       "1  11622.0   Pave  No_Alley_Access             Regular         Lvl    AllPub   \n",
       "2  14267.0   Pave  No_Alley_Access  Slightly_Irregular         Lvl    AllPub   \n",
       "3  11160.0   Pave  No_Alley_Access             Regular         Lvl    AllPub   \n",
       "4  13830.0   Pave  No_Alley_Access  Slightly_Irregular         Lvl    AllPub   \n",
       "\n",
       "  LotConfig  ... PoolArea   PoolQC            Fence MiscFeature  MiscVal  \\\n",
       "0    Corner  ...      0.0  No_Pool         No_Fence         NaN      0.0   \n",
       "1    Inside  ...      0.0  No_Pool  Minimum_Privacy         NaN      0.0   \n",
       "2    Corner  ...      0.0  No_Pool         No_Fence        Gar2  12500.0   \n",
       "3    Corner  ...      0.0  No_Pool         No_Fence         NaN      0.0   \n",
       "4    Inside  ...      0.0  No_Pool  Minimum_Privacy         NaN      0.0   \n",
       "\n",
       "  MoSold YearSold SaleType  SaleCondition  SalePrice  \n",
       "0      5     2010      WD          Normal     215000  \n",
       "1      6     2010      WD          Normal     105000  \n",
       "2      6     2010      WD          Normal     172000  \n",
       "3      4     2010      WD          Normal     244000  \n",
       "4      3     2010      WD          Normal     189900  \n",
       "\n",
       "[5 rows x 79 columns]"
      ],
      "text/html": [
       "<div>\n",
       "<style scoped>\n",
       "    .dataframe tbody tr th:only-of-type {\n",
       "        vertical-align: middle;\n",
       "    }\n",
       "\n",
       "    .dataframe tbody tr th {\n",
       "        vertical-align: top;\n",
       "    }\n",
       "\n",
       "    .dataframe thead th {\n",
       "        text-align: right;\n",
       "    }\n",
       "</style>\n",
       "<table border=\"1\" class=\"dataframe\">\n",
       "  <thead>\n",
       "    <tr style=\"text-align: right;\">\n",
       "      <th></th>\n",
       "      <th>MSSubClass</th>\n",
       "      <th>MSZoning</th>\n",
       "      <th>LotFrontage</th>\n",
       "      <th>LotArea</th>\n",
       "      <th>Street</th>\n",
       "      <th>Alley</th>\n",
       "      <th>LotShape</th>\n",
       "      <th>LandContour</th>\n",
       "      <th>Utilities</th>\n",
       "      <th>LotConfig</th>\n",
       "      <th>...</th>\n",
       "      <th>PoolArea</th>\n",
       "      <th>PoolQC</th>\n",
       "      <th>Fence</th>\n",
       "      <th>MiscFeature</th>\n",
       "      <th>MiscVal</th>\n",
       "      <th>MoSold</th>\n",
       "      <th>YearSold</th>\n",
       "      <th>SaleType</th>\n",
       "      <th>SaleCondition</th>\n",
       "      <th>SalePrice</th>\n",
       "    </tr>\n",
       "  </thead>\n",
       "  <tbody>\n",
       "    <tr>\n",
       "      <th>0</th>\n",
       "      <td>One_Story_1946_and_Newer_All_Styles</td>\n",
       "      <td>Residential_Low_Density</td>\n",
       "      <td>141.0</td>\n",
       "      <td>31770.0</td>\n",
       "      <td>Pave</td>\n",
       "      <td>No_Alley_Access</td>\n",
       "      <td>Slightly_Irregular</td>\n",
       "      <td>Lvl</td>\n",
       "      <td>AllPub</td>\n",
       "      <td>Corner</td>\n",
       "      <td>...</td>\n",
       "      <td>0.0</td>\n",
       "      <td>No_Pool</td>\n",
       "      <td>No_Fence</td>\n",
       "      <td>NaN</td>\n",
       "      <td>0.0</td>\n",
       "      <td>5</td>\n",
       "      <td>2010</td>\n",
       "      <td>WD</td>\n",
       "      <td>Normal</td>\n",
       "      <td>215000</td>\n",
       "    </tr>\n",
       "    <tr>\n",
       "      <th>1</th>\n",
       "      <td>One_Story_1946_and_Newer_All_Styles</td>\n",
       "      <td>Residential_High_Density</td>\n",
       "      <td>80.0</td>\n",
       "      <td>11622.0</td>\n",
       "      <td>Pave</td>\n",
       "      <td>No_Alley_Access</td>\n",
       "      <td>Regular</td>\n",
       "      <td>Lvl</td>\n",
       "      <td>AllPub</td>\n",
       "      <td>Inside</td>\n",
       "      <td>...</td>\n",
       "      <td>0.0</td>\n",
       "      <td>No_Pool</td>\n",
       "      <td>Minimum_Privacy</td>\n",
       "      <td>NaN</td>\n",
       "      <td>0.0</td>\n",
       "      <td>6</td>\n",
       "      <td>2010</td>\n",
       "      <td>WD</td>\n",
       "      <td>Normal</td>\n",
       "      <td>105000</td>\n",
       "    </tr>\n",
       "    <tr>\n",
       "      <th>2</th>\n",
       "      <td>One_Story_1946_and_Newer_All_Styles</td>\n",
       "      <td>Residential_Low_Density</td>\n",
       "      <td>81.0</td>\n",
       "      <td>14267.0</td>\n",
       "      <td>Pave</td>\n",
       "      <td>No_Alley_Access</td>\n",
       "      <td>Slightly_Irregular</td>\n",
       "      <td>Lvl</td>\n",
       "      <td>AllPub</td>\n",
       "      <td>Corner</td>\n",
       "      <td>...</td>\n",
       "      <td>0.0</td>\n",
       "      <td>No_Pool</td>\n",
       "      <td>No_Fence</td>\n",
       "      <td>Gar2</td>\n",
       "      <td>12500.0</td>\n",
       "      <td>6</td>\n",
       "      <td>2010</td>\n",
       "      <td>WD</td>\n",
       "      <td>Normal</td>\n",
       "      <td>172000</td>\n",
       "    </tr>\n",
       "    <tr>\n",
       "      <th>3</th>\n",
       "      <td>One_Story_1946_and_Newer_All_Styles</td>\n",
       "      <td>Residential_Low_Density</td>\n",
       "      <td>93.0</td>\n",
       "      <td>11160.0</td>\n",
       "      <td>Pave</td>\n",
       "      <td>No_Alley_Access</td>\n",
       "      <td>Regular</td>\n",
       "      <td>Lvl</td>\n",
       "      <td>AllPub</td>\n",
       "      <td>Corner</td>\n",
       "      <td>...</td>\n",
       "      <td>0.0</td>\n",
       "      <td>No_Pool</td>\n",
       "      <td>No_Fence</td>\n",
       "      <td>NaN</td>\n",
       "      <td>0.0</td>\n",
       "      <td>4</td>\n",
       "      <td>2010</td>\n",
       "      <td>WD</td>\n",
       "      <td>Normal</td>\n",
       "      <td>244000</td>\n",
       "    </tr>\n",
       "    <tr>\n",
       "      <th>4</th>\n",
       "      <td>Two_Story_1946_and_Newer</td>\n",
       "      <td>Residential_Low_Density</td>\n",
       "      <td>74.0</td>\n",
       "      <td>13830.0</td>\n",
       "      <td>Pave</td>\n",
       "      <td>No_Alley_Access</td>\n",
       "      <td>Slightly_Irregular</td>\n",
       "      <td>Lvl</td>\n",
       "      <td>AllPub</td>\n",
       "      <td>Inside</td>\n",
       "      <td>...</td>\n",
       "      <td>0.0</td>\n",
       "      <td>No_Pool</td>\n",
       "      <td>Minimum_Privacy</td>\n",
       "      <td>NaN</td>\n",
       "      <td>0.0</td>\n",
       "      <td>3</td>\n",
       "      <td>2010</td>\n",
       "      <td>WD</td>\n",
       "      <td>Normal</td>\n",
       "      <td>189900</td>\n",
       "    </tr>\n",
       "  </tbody>\n",
       "</table>\n",
       "<p>5 rows × 79 columns</p>\n",
       "</div>"
      ]
     },
     "execution_count": 2,
     "metadata": {},
     "output_type": "execute_result"
    }
   ],
   "execution_count": 2
  },
  {
   "metadata": {},
   "cell_type": "markdown",
   "source": "First you'll need to choose which features you want to apply a target encoding to. Categorical features with a large number of categories are often good candidates. Run this cell to see how many categories each categorical feature in the Ames dataset has.",
   "id": "5a7fba9259d8eaff"
  },
  {
   "metadata": {
    "ExecuteTime": {
     "end_time": "2025-04-11T09:49:19.340423Z",
     "start_time": "2025-04-11T09:49:19.310916Z"
    }
   },
   "cell_type": "code",
   "source": "df.select_dtypes([\"object\"]).nunique()",
   "id": "4428816cbfcfdcea",
   "outputs": [
    {
     "data": {
      "text/plain": [
       "MSSubClass       16\n",
       "MSZoning          7\n",
       "Street            2\n",
       "Alley             3\n",
       "LotShape          4\n",
       "LandContour       4\n",
       "Utilities         3\n",
       "LotConfig         5\n",
       "LandSlope         3\n",
       "Neighborhood     28\n",
       "Condition1        9\n",
       "Condition2        8\n",
       "BldgType          5\n",
       "HouseStyle        8\n",
       "OverallQual      10\n",
       "OverallCond       9\n",
       "RoofStyle         6\n",
       "RoofMatl          8\n",
       "Exterior1st      16\n",
       "Exterior2nd      17\n",
       "MasVnrType        4\n",
       "ExterQual         4\n",
       "ExterCond         5\n",
       "Foundation        6\n",
       "BsmtQual          6\n",
       "BsmtCond          6\n",
       "BsmtExposure      5\n",
       "BsmtFinType1      7\n",
       "BsmtFinType2      7\n",
       "Heating           6\n",
       "HeatingQC         5\n",
       "CentralAir        2\n",
       "Electrical        6\n",
       "KitchenQual       5\n",
       "Functional        8\n",
       "FireplaceQu       6\n",
       "GarageType        7\n",
       "GarageFinish      4\n",
       "GarageQual        6\n",
       "GarageCond        6\n",
       "PavedDrive        3\n",
       "PoolQC            5\n",
       "Fence             5\n",
       "MiscFeature       5\n",
       "SaleType         10\n",
       "SaleCondition     6\n",
       "dtype: int64"
      ]
     },
     "execution_count": 3,
     "metadata": {},
     "output_type": "execute_result"
    }
   ],
   "execution_count": 3
  },
  {
   "metadata": {},
   "cell_type": "markdown",
   "source": "We talked about how the M-estimate encoding uses smoothing to improve estimates for rare categories. To see how many times a category occurs in the dataset, you can use the value_counts method. This cell shows the counts for SaleType, but you might want to consider others as well.",
   "id": "7350a37a0c2b76a0"
  },
  {
   "metadata": {
    "ExecuteTime": {
     "end_time": "2025-04-11T09:50:10.406038Z",
     "start_time": "2025-04-11T09:50:10.399383Z"
    }
   },
   "cell_type": "code",
   "source": "df[\"SaleType\"].value_counts()",
   "id": "8e52a1975e09d0e8",
   "outputs": [
    {
     "data": {
      "text/plain": [
       "SaleType\n",
       "WD       2536\n",
       "New       239\n",
       "COD        87\n",
       "ConLD      26\n",
       "CWD        12\n",
       "ConLI       9\n",
       "ConLw       8\n",
       "Oth         7\n",
       "Con         5\n",
       "VWD         1\n",
       "Name: count, dtype: int64"
      ]
     },
     "execution_count": 4,
     "metadata": {},
     "output_type": "execute_result"
    }
   ],
   "execution_count": 4
  },
  {
   "metadata": {
    "ExecuteTime": {
     "end_time": "2025-04-11T09:50:31.645965Z",
     "start_time": "2025-04-11T09:50:31.630280Z"
    }
   },
   "cell_type": "code",
   "source": "df[\"Neighborhood\"].value_counts()",
   "id": "2d62aadfebdd1ddd",
   "outputs": [
    {
     "data": {
      "text/plain": [
       "Neighborhood\n",
       "North_Ames                                 443\n",
       "College_Creek                              267\n",
       "Old_Town                                   239\n",
       "Edwards                                    194\n",
       "Somerset                                   182\n",
       "Northridge_Heights                         166\n",
       "Gilbert                                    165\n",
       "Sawyer                                     151\n",
       "Northwest_Ames                             131\n",
       "Sawyer_West                                125\n",
       "Mitchell                                   114\n",
       "Brookside                                  108\n",
       "Crawford                                   103\n",
       "Iowa_DOT_and_Rail_Road                      93\n",
       "Timberland                                  72\n",
       "Northridge                                  71\n",
       "Stone_Brook                                 51\n",
       "South_and_West_of_Iowa_State_University     48\n",
       "Clear_Creek                                 44\n",
       "Meadow_Village                              37\n",
       "Briardale                                   30\n",
       "Bloomington_Heights                         28\n",
       "Veenker                                     24\n",
       "Northpark_Villa                             23\n",
       "Blueste                                     10\n",
       "Greens                                       8\n",
       "Green_Hills                                  2\n",
       "Landmark                                     1\n",
       "Name: count, dtype: int64"
      ]
     },
     "execution_count": 5,
     "metadata": {},
     "output_type": "execute_result"
    }
   ],
   "execution_count": 5
  },
  {
   "metadata": {},
   "cell_type": "markdown",
   "source": [
    "Choose Features for Encoding\n",
    "\n",
    "The Neighborhood feature looks promising. It has the most categories of any feature, and several categories are rare. Others that could be worth considering are SaleType, MSSubClass, Exterior1st, Exterior2nd. In fact, almost any of the nominal features would be worth trying because of the prevalence of rare categories.\n",
    "\n",
    "Now you'll apply a target encoding to your choice of feature. As we discussed in the tutorial, to avoid overfitting, we need to fit the encoder on data heldout from the training set. Run this cell to create the encoding and training splits:\n"
   ],
   "id": "2f4c94749ee85489"
  },
  {
   "metadata": {
    "ExecuteTime": {
     "end_time": "2025-04-11T09:54:12.742384Z",
     "start_time": "2025-04-11T09:54:12.694148Z"
    }
   },
   "cell_type": "code",
   "source": [
    "# Encoding split\n",
    "X_encode = df.sample(frac=0.20, random_state=0)\n",
    "y_encode = X_encode.pop(\"SalePrice\")\n",
    "\n",
    "# Training split\n",
    "X_pretrain = df.drop(X_encode.index)\n",
    "y_train = X_pretrain.pop(\"SalePrice\")"
   ],
   "id": "3a681033145a7d12",
   "outputs": [],
   "execution_count": 6
  },
  {
   "metadata": {
    "ExecuteTime": {
     "end_time": "2025-04-11T10:08:01.387474Z",
     "start_time": "2025-04-11T10:08:01.381360Z"
    }
   },
   "cell_type": "code",
   "source": "df.shape, X_encode.shape, X_pretrain.shape",
   "id": "78c2f221b042e58e",
   "outputs": [
    {
     "data": {
      "text/plain": [
       "((2930, 79), (586, 78), (2344, 78))"
      ]
     },
     "execution_count": 10,
     "metadata": {},
     "output_type": "execute_result"
    }
   ],
   "execution_count": 10
  },
  {
   "metadata": {},
   "cell_type": "markdown",
   "source": [
    "Apply M-Estimate Encoding\n",
    "\n",
    "Apply a target encoding to your choice of categorical features. Also choose a value for the smoothing parameter m (any value is okay for a correct answer)."
   ],
   "id": "2b8a0626ff4a4e1f"
  },
  {
   "metadata": {
    "ExecuteTime": {
     "end_time": "2025-04-11T10:07:36.807565Z",
     "start_time": "2025-04-11T10:07:36.765557Z"
    }
   },
   "cell_type": "code",
   "source": [
    "# Choose a set of features to encode and a value for m\n",
    "encoder = MEstimateEncoder(cols=[\"Neighborhood\", \"SaleType\", \"MSSubClass\", \"Exterior1st\", \"Exterior2nd\", ], m=2)\n",
    "\n",
    "\n",
    "# Fit the encoder on the encoding split\n",
    "encoder.fit(X_encode, y_encode)\n",
    "\n",
    "# Encode the training split\n",
    "X_train = encoder.transform(X_pretrain, y_train)"
   ],
   "id": "337429eedae20eb0",
   "outputs": [],
   "execution_count": 9
  },
  {
   "metadata": {
    "ExecuteTime": {
     "end_time": "2025-04-11T10:08:10.954713Z",
     "start_time": "2025-04-11T10:08:10.946187Z"
    }
   },
   "cell_type": "code",
   "source": "X_train.head()",
   "id": "113c3cd6261ab77c",
   "outputs": [
    {
     "data": {
      "text/plain": [
       "      MSSubClass                  MSZoning  LotFrontage  LotArea Street  \\\n",
       "0  186860.775841   Residential_Low_Density        141.0  31770.0   Pave   \n",
       "1  186860.775841  Residential_High_Density         80.0  11622.0   Pave   \n",
       "2  186860.775841   Residential_Low_Density         81.0  14267.0   Pave   \n",
       "3  186860.775841   Residential_Low_Density         93.0  11160.0   Pave   \n",
       "4  249211.960519   Residential_Low_Density         74.0  13830.0   Pave   \n",
       "\n",
       "             Alley            LotShape LandContour Utilities LotConfig  ...  \\\n",
       "0  No_Alley_Access  Slightly_Irregular         Lvl    AllPub    Corner  ...   \n",
       "1  No_Alley_Access             Regular         Lvl    AllPub    Inside  ...   \n",
       "2  No_Alley_Access  Slightly_Irregular         Lvl    AllPub    Corner  ...   \n",
       "3  No_Alley_Access             Regular         Lvl    AllPub    Corner  ...   \n",
       "4  No_Alley_Access  Slightly_Irregular         Lvl    AllPub    Inside  ...   \n",
       "\n",
       "  ScreenPorch  PoolArea   PoolQC            Fence MiscFeature  MiscVal MoSold  \\\n",
       "0         0.0       0.0  No_Pool         No_Fence         NaN      0.0      5   \n",
       "1       120.0       0.0  No_Pool  Minimum_Privacy         NaN      0.0      6   \n",
       "2         0.0       0.0  No_Pool         No_Fence        Gar2  12500.0      6   \n",
       "3         0.0       0.0  No_Pool         No_Fence         NaN      0.0      4   \n",
       "4         0.0       0.0  No_Pool  Minimum_Privacy         NaN      0.0      3   \n",
       "\n",
       "  YearSold       SaleType  SaleCondition  \n",
       "0     2010  173610.097297         Normal  \n",
       "1     2010  173610.097297         Normal  \n",
       "2     2010  173610.097297         Normal  \n",
       "3     2010  173610.097297         Normal  \n",
       "4     2010  173610.097297         Normal  \n",
       "\n",
       "[5 rows x 78 columns]"
      ],
      "text/html": [
       "<div>\n",
       "<style scoped>\n",
       "    .dataframe tbody tr th:only-of-type {\n",
       "        vertical-align: middle;\n",
       "    }\n",
       "\n",
       "    .dataframe tbody tr th {\n",
       "        vertical-align: top;\n",
       "    }\n",
       "\n",
       "    .dataframe thead th {\n",
       "        text-align: right;\n",
       "    }\n",
       "</style>\n",
       "<table border=\"1\" class=\"dataframe\">\n",
       "  <thead>\n",
       "    <tr style=\"text-align: right;\">\n",
       "      <th></th>\n",
       "      <th>MSSubClass</th>\n",
       "      <th>MSZoning</th>\n",
       "      <th>LotFrontage</th>\n",
       "      <th>LotArea</th>\n",
       "      <th>Street</th>\n",
       "      <th>Alley</th>\n",
       "      <th>LotShape</th>\n",
       "      <th>LandContour</th>\n",
       "      <th>Utilities</th>\n",
       "      <th>LotConfig</th>\n",
       "      <th>...</th>\n",
       "      <th>ScreenPorch</th>\n",
       "      <th>PoolArea</th>\n",
       "      <th>PoolQC</th>\n",
       "      <th>Fence</th>\n",
       "      <th>MiscFeature</th>\n",
       "      <th>MiscVal</th>\n",
       "      <th>MoSold</th>\n",
       "      <th>YearSold</th>\n",
       "      <th>SaleType</th>\n",
       "      <th>SaleCondition</th>\n",
       "    </tr>\n",
       "  </thead>\n",
       "  <tbody>\n",
       "    <tr>\n",
       "      <th>0</th>\n",
       "      <td>186860.775841</td>\n",
       "      <td>Residential_Low_Density</td>\n",
       "      <td>141.0</td>\n",
       "      <td>31770.0</td>\n",
       "      <td>Pave</td>\n",
       "      <td>No_Alley_Access</td>\n",
       "      <td>Slightly_Irregular</td>\n",
       "      <td>Lvl</td>\n",
       "      <td>AllPub</td>\n",
       "      <td>Corner</td>\n",
       "      <td>...</td>\n",
       "      <td>0.0</td>\n",
       "      <td>0.0</td>\n",
       "      <td>No_Pool</td>\n",
       "      <td>No_Fence</td>\n",
       "      <td>NaN</td>\n",
       "      <td>0.0</td>\n",
       "      <td>5</td>\n",
       "      <td>2010</td>\n",
       "      <td>173610.097297</td>\n",
       "      <td>Normal</td>\n",
       "    </tr>\n",
       "    <tr>\n",
       "      <th>1</th>\n",
       "      <td>186860.775841</td>\n",
       "      <td>Residential_High_Density</td>\n",
       "      <td>80.0</td>\n",
       "      <td>11622.0</td>\n",
       "      <td>Pave</td>\n",
       "      <td>No_Alley_Access</td>\n",
       "      <td>Regular</td>\n",
       "      <td>Lvl</td>\n",
       "      <td>AllPub</td>\n",
       "      <td>Inside</td>\n",
       "      <td>...</td>\n",
       "      <td>120.0</td>\n",
       "      <td>0.0</td>\n",
       "      <td>No_Pool</td>\n",
       "      <td>Minimum_Privacy</td>\n",
       "      <td>NaN</td>\n",
       "      <td>0.0</td>\n",
       "      <td>6</td>\n",
       "      <td>2010</td>\n",
       "      <td>173610.097297</td>\n",
       "      <td>Normal</td>\n",
       "    </tr>\n",
       "    <tr>\n",
       "      <th>2</th>\n",
       "      <td>186860.775841</td>\n",
       "      <td>Residential_Low_Density</td>\n",
       "      <td>81.0</td>\n",
       "      <td>14267.0</td>\n",
       "      <td>Pave</td>\n",
       "      <td>No_Alley_Access</td>\n",
       "      <td>Slightly_Irregular</td>\n",
       "      <td>Lvl</td>\n",
       "      <td>AllPub</td>\n",
       "      <td>Corner</td>\n",
       "      <td>...</td>\n",
       "      <td>0.0</td>\n",
       "      <td>0.0</td>\n",
       "      <td>No_Pool</td>\n",
       "      <td>No_Fence</td>\n",
       "      <td>Gar2</td>\n",
       "      <td>12500.0</td>\n",
       "      <td>6</td>\n",
       "      <td>2010</td>\n",
       "      <td>173610.097297</td>\n",
       "      <td>Normal</td>\n",
       "    </tr>\n",
       "    <tr>\n",
       "      <th>3</th>\n",
       "      <td>186860.775841</td>\n",
       "      <td>Residential_Low_Density</td>\n",
       "      <td>93.0</td>\n",
       "      <td>11160.0</td>\n",
       "      <td>Pave</td>\n",
       "      <td>No_Alley_Access</td>\n",
       "      <td>Regular</td>\n",
       "      <td>Lvl</td>\n",
       "      <td>AllPub</td>\n",
       "      <td>Corner</td>\n",
       "      <td>...</td>\n",
       "      <td>0.0</td>\n",
       "      <td>0.0</td>\n",
       "      <td>No_Pool</td>\n",
       "      <td>No_Fence</td>\n",
       "      <td>NaN</td>\n",
       "      <td>0.0</td>\n",
       "      <td>4</td>\n",
       "      <td>2010</td>\n",
       "      <td>173610.097297</td>\n",
       "      <td>Normal</td>\n",
       "    </tr>\n",
       "    <tr>\n",
       "      <th>4</th>\n",
       "      <td>249211.960519</td>\n",
       "      <td>Residential_Low_Density</td>\n",
       "      <td>74.0</td>\n",
       "      <td>13830.0</td>\n",
       "      <td>Pave</td>\n",
       "      <td>No_Alley_Access</td>\n",
       "      <td>Slightly_Irregular</td>\n",
       "      <td>Lvl</td>\n",
       "      <td>AllPub</td>\n",
       "      <td>Inside</td>\n",
       "      <td>...</td>\n",
       "      <td>0.0</td>\n",
       "      <td>0.0</td>\n",
       "      <td>No_Pool</td>\n",
       "      <td>Minimum_Privacy</td>\n",
       "      <td>NaN</td>\n",
       "      <td>0.0</td>\n",
       "      <td>3</td>\n",
       "      <td>2010</td>\n",
       "      <td>173610.097297</td>\n",
       "      <td>Normal</td>\n",
       "    </tr>\n",
       "  </tbody>\n",
       "</table>\n",
       "<p>5 rows × 78 columns</p>\n",
       "</div>"
      ]
     },
     "execution_count": 12,
     "metadata": {},
     "output_type": "execute_result"
    }
   ],
   "execution_count": 12
  },
  {
   "metadata": {},
   "cell_type": "markdown",
   "source": "If you'd like to see how the encoded feature compares to the target, you can run this cell:",
   "id": "8af6d9943f1f15"
  },
  {
   "metadata": {
    "ExecuteTime": {
     "end_time": "2025-04-11T10:08:43.359557Z",
     "start_time": "2025-04-11T10:08:43.192695Z"
    }
   },
   "cell_type": "code",
   "source": [
    "feature = encoder.cols\n",
    "\n",
    "plt.figure(dpi=90)\n",
    "ax = sns.distplot(y_train, kde=True, hist=False)\n",
    "ax = sns.distplot(X_train[feature], color='r', ax=ax, hist=True, kde=False, norm_hist=True)\n",
    "ax.set_xlabel(\"SalePrice\");"
   ],
   "id": "fc6762eda69e6ff2",
   "outputs": [
    {
     "data": {
      "text/plain": [
       "<Figure size 576x432 with 1 Axes>"
      ],
      "image/png": "[encoded data removed]"
     },
     "metadata": {},
     "output_type": "display_data"
    }
   ],
   "execution_count": 13
  },
  {
   "metadata": {},
   "cell_type": "markdown",
   "source": "And this cell will show you the score of the encoded set compared to the original set:",
   "id": "a828317dc51a6799"
  },
  {
   "metadata": {
    "ExecuteTime": {
     "end_time": "2025-04-11T10:09:47.568549Z",
     "start_time": "2025-04-11T10:09:45.055342Z"
    }
   },
   "cell_type": "code",
   "source": [
    "X = df.copy()\n",
    "y = X.pop(\"SalePrice\")\n",
    "score_base = score_dataset(X, y)\n",
    "score_new = score_dataset(X_train, y_train)\n",
    "\n",
    "print(f\"Baseline Score: {score_base:.4f} RMSLE\")\n",
    "print(f\"Score with Encoding: {score_new:.4f} RMSLE\")"
   ],
   "id": "2d37953fcb61ddd2",
   "outputs": [
    {
     "name": "stdout",
     "output_type": "stream",
     "text": [
      "Baseline Score: 0.1434 RMSLE\n",
      "Score with Encoding: 0.1436 RMSLE\n"
     ]
    }
   ],
   "execution_count": 14
  },
  {
   "metadata": {},
   "cell_type": "markdown",
   "source": "Do you think that target encoding was worthwhile in this case? Depending on which feature or features you chose, you may have ended up with a score significantly worse than the baseline. In that case, it's likely the extra information gained by the encoding couldn't make up for the loss of data used for the encoding.",
   "id": "e0555dd0fc9e5b00"
  },
  {
   "metadata": {},
   "cell_type": "code",
   "outputs": [],
   "execution_count": null,
   "source": "",
   "id": "6e797260d044c904"
  }
 ],
 "metadata": {
  "kernelspec": {
   "display_name": "Python 3",
   "language": "python",
   "name": "python3"
  },
  "language_info": {
   "codemirror_mode": {
    "name": "ipython",
    "version": 2
   },
   "file_extension": ".py",
   "mimetype": "text/x-python",
   "name": "python",
   "nbconvert_exporter": "python",
   "pygments_lexer": "ipython2",
   "version": "2.7.6"
  }
 },
 "nbformat": 4,
 "nbformat_minor": 5
}
